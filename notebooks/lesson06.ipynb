{
 "cells": [
  {
   "cell_type": "markdown",
   "metadata": {},
   "source": [
    "### Úvod\n",
    "\n",
    "---\n",
    "\n",
    "1. [Obecně k funkcím v Pythonu](#Obecně-k-funkcím-v-Pythonu),\n",
    "2. [uživatelské funkce](#Uživatelské-funkce),\n",
    "3. [vstupy funkcí](#Vstupy-funkcí),\n",
    "4. [dokumentace funkcí](#Dokumentace-funkcí),\n",
    "5. [domácí úkol](#Domácí-úkol).\n",
    "\n",
    "<br>\n",
    "\n",
    "<img src=\"https://external-content.duckduckgo.com/iu/?u=https%3A%2F%2Ftse4.mm.bing.net%2Fth%3Fid%3DOIP.-6PZmYfAfN6QP5-MjLBYmwHaHa%26pid%3DApi&f=1\" width=\"200\">\n",
    "\n",
    "### Obecně k funkcím v Pythonu\n",
    "\n",
    "---\n",
    "\n",
    "V Pythonu už některé funkce znáš a umíš je používat.\n",
    "\n",
    "Třeba funkce `print` a `enumerate`. To ale nejsou jedinné funkce, které můžeš používat."
   ]
  },
  {
   "cell_type": "code",
   "execution_count": 1,
   "metadata": {},
   "outputs": [
    {
     "name": "stdout",
     "output_type": "stream",
     "text": [
      "Praha Brno Ostrava\n"
     ]
    }
   ],
   "source": [
    "print(\"Praha\", \"Brno\", \"Ostrava\")"
   ]
  },
  {
   "cell_type": "code",
   "execution_count": 2,
   "metadata": {},
   "outputs": [
    {
     "name": "stdout",
     "output_type": "stream",
     "text": [
      "((0, 'Praha'), (1, 'Brno'), (2, 'Ostrava'))\n"
     ]
    }
   ],
   "source": [
    "print(tuple(enumerate((\"Praha\", \"Brno\", \"Ostrava\"))))"
   ]
  },
  {
   "cell_type": "markdown",
   "metadata": {},
   "source": [
    "Obecné rozdělení funkcí v Pythonu:\n",
    "1. **Zabudované funkce**, (z angl. *built-in functions*), tedy `str`, `int`, `bool`, aj. ,\n",
    "2. **Uživatelské funkce**, (z angl. *user-defined functions*), klíčové slovo `def`.\n",
    "\n",
    "\n",
    "Největší rozdíl mezi **zabudovanými** a **uživatelskými funkcemi** je v tom, že *zabudované funkce* stačí **spustit pomocí jejich jména**.\n",
    "\n",
    "Zatímco *uživatelskou funkci* je nejprve nutné **definovat** (vytvořit) a teprve poté **použít** (spustit)."
   ]
  },
  {
   "cell_type": "markdown",
   "metadata": {},
   "source": [
    "<br>\n",
    "\n",
    "#### Zabudované funkce\n",
    "\n",
    "Tyto funkce jsou velkými pomocníky, protože ti umožní zjednodušit různé procesy.\n",
    "\n",
    "Navíc můžeš jejich použití **doplnit volitelnými argumenty**.\n",
    "\n",
    "Volitelný argument je hodnota, kterou můžeš (ale nemusíš) zadávat. Funkce umí pracovat bez něj, případně má dopředu nachystanou nějakou počáteční hodnotu.\n",
    "\n",
    "Tyto doplňující argumenty ti mohou ještě víc pomoci v zjednodušení tvého zápisu."
   ]
  },
  {
   "cell_type": "code",
   "execution_count": 3,
   "metadata": {},
   "outputs": [
    {
     "name": "stdout",
     "output_type": "stream",
     "text": [
      "Matous Marek Lukas\n"
     ]
    }
   ],
   "source": [
    "print(\"Matous\", \"Marek\", \"Lukas\")"
   ]
  },
  {
   "cell_type": "markdown",
   "metadata": {},
   "source": [
    "Pokud ji napíšeš **bez argumentů**, s několika různými hodnotami za sebou, tvůj výstup se seřadí za sebe.\n",
    "\n",
    "\n",
    "Zobraz si nápovědu pomocí ohlášení `print(help(print))`:"
   ]
  },
  {
   "cell_type": "code",
   "execution_count": 4,
   "metadata": {},
   "outputs": [
    {
     "name": "stdout",
     "output_type": "stream",
     "text": [
      "Help on built-in function print in module builtins:\n",
      "\n",
      "print(...)\n",
      "    print(value, ..., sep=' ', end='\\n', file=sys.stdout, flush=False)\n",
      "    \n",
      "    Prints the values to a stream, or to sys.stdout by default.\n",
      "    Optional keyword arguments:\n",
      "    file:  a file-like object (stream); defaults to the current sys.stdout.\n",
      "    sep:   string inserted between values, default a space.\n",
      "    end:   string appended after the last value, default a newline.\n",
      "    flush: whether to forcibly flush the stream.\n",
      "\n"
     ]
    }
   ],
   "source": [
    "help(print)"
   ]
  },
  {
   "cell_type": "markdown",
   "metadata": {},
   "source": [
    "Všimni si, že **argument** `sep` má přednastavenou defaultní hodnotu – mezeru.\n",
    "\n",
    "Proto jsou jednotlivé hodnoty řazené s mezerou za sebou.\n",
    "\n",
    "\n",
    "Tuto hodnotu můžeš přepsat podle svých potřeb. Například vypsat jednotlivé hodnoty **pod sebe** pomocí speciálního znaku `\\n`:"
   ]
  },
  {
   "cell_type": "code",
   "execution_count": 5,
   "metadata": {},
   "outputs": [
    {
     "name": "stdout",
     "output_type": "stream",
     "text": [
      "Matous\n",
      "Marek\n",
      "Lukas\n"
     ]
    }
   ],
   "source": [
    "print(\"Matous\", \"Marek\", \"Lukas\", sep=\"\\n\")  # volitelný (také nepovinný) argument 'sep'"
   ]
  },
  {
   "cell_type": "markdown",
   "metadata": {},
   "source": [
    "**Argumenty** můžeš používat téměř u všech **zabudovaných funkcí**.\n",
    "\n",
    "Proto pokud budeš potřebovat pracovat s **zabudovanými funkcemi** vždy zkontroluj, jestli neobsahují nějaký nepovinný argument, který ti pomůže.\n"
   ]
  },
  {
   "cell_type": "code",
   "execution_count": 9,
   "metadata": {},
   "outputs": [],
   "source": [
    "# help(enumerate)"
   ]
  },
  {
   "cell_type": "code",
   "execution_count": 10,
   "metadata": {},
   "outputs": [
    {
     "data": {
      "text/plain": [
       "((3, 'Matous'), (4, 'Marek'), (5, 'Lukas'))"
      ]
     },
     "execution_count": 10,
     "metadata": {},
     "output_type": "execute_result"
    }
   ],
   "source": [
    "jmena = (\"Matous\", \"Marek\", \"Lukas\")\n",
    "\n",
    "tuple(enumerate(jmena, start=3))"
   ]
  },
  {
   "cell_type": "markdown",
   "metadata": {},
   "source": [
    "<br>\n",
    "\n",
    "<img src=\"https://external-content.duckduckgo.com/iu/?u=https%3A%2F%2Ftse1.mm.bing.net%2Fth%3Fid%3DOIP.SdA4GDooZXTMbDZDgDA6aQAAAA%26pid%3DApi&f=1\" width=\"200\">\n",
    "\n",
    "### Uživatelské funkce\n",
    "\n",
    "---\n",
    "\n",
    "#### Úvod k definovaným funkcím"
   ]
  },
  {
   "cell_type": "markdown",
   "metadata": {},
   "source": [
    "Pokud jsou tedy **zabudované funkce** takovými pomocníky, proč je potřeba mít ještě **uživatelem definované funkce**?\n",
    "\n",
    "\n",
    "Můžeš se dostat do situace, kdy žádná z nabízených *zabudovaných funkcí* nedělá přesně to, co potřebuješ.\n",
    "\n",
    "V takovém případě potřebuješ vytvořit vlastní funkci, která ti bude umět pomoct.\n",
    "\n",
    "<br>\n",
    "\n",
    "Tvůj úkol je napsat proces, který sečte **všechny číselné hodnoty** uvnitř sekvence.\n"
   ]
  },
  {
   "cell_type": "code",
   "execution_count": 11,
   "metadata": {},
   "outputs": [
    {
     "name": "stdout",
     "output_type": "stream",
     "text": [
      "10\n"
     ]
    }
   ],
   "source": [
    "ciselna_rada = (1, 2, 3, 4)\n",
    "\n",
    "print(sum(ciselna_rada))"
   ]
  },
  {
   "cell_type": "markdown",
   "metadata": {},
   "source": [
    "Pomocí zabudované funkce `sum` to není žádný problém.\n",
    "\n",
    "\n",
    "Co když sekvence obsahuje **neočekávaný datový typ**:"
   ]
  },
  {
   "cell_type": "code",
   "execution_count": 12,
   "metadata": {},
   "outputs": [
    {
     "name": "stdout",
     "output_type": "stream",
     "text": [
      "10\n"
     ]
    }
   ],
   "source": [
    "ciselna_rada = (1, 2, 3, \"a\", 4)\n",
    "\n",
    "soucet_cisel = 0\n",
    "\n",
    "for cislo in ciselna_rada:\n",
    "    if isinstance(cislo, str) and not cislo.isnumeric():\n",
    "        continue\n",
    "    soucet_cisel = soucet_cisel + int(cislo)\n",
    "else:\n",
    "    print(soucet_cisel)"
   ]
  },
  {
   "cell_type": "markdown",
   "metadata": {},
   "source": [
    "Co když dostaneš **pět různých sekvencí**?\n",
    "\n",
    "Můžeš samozřejmě přepsat zápis pro každou sekvenci zvlášť.\n",
    "\n",
    "Ale co když těch sekvencí bude **100**, **10 000**?\n",
    "\n",
    "Právě proto existují **uživatelské funkce**, kterou stačí **jedenkrát definovat** a následně spouštět kolikrát potřebuješ:"
   ]
  },
  {
   "cell_type": "code",
   "execution_count": 13,
   "metadata": {},
   "outputs": [
    {
     "name": "stdout",
     "output_type": "stream",
     "text": [
      "6\n",
      "10\n",
      "26\n",
      "42\n"
     ]
    }
   ],
   "source": [
    "ciselna_r_1 = (1, 2, 3, \"a\")\n",
    "ciselna_r_2 = (1, 2, 3, 4)\n",
    "ciselna_r_3 = (5, 6, 7, 8)\n",
    "ciselna_r_4 = (9, 10, 11, 12)\n",
    "\n",
    "\n",
    "# Zatím neznámá syntaxe\n",
    "def secti_vsechny_cisla(sekvence):\n",
    "    soucet_cisel = 0\n",
    "\n",
    "    for cislo in sekvence:\n",
    "        if isinstance(cislo, str) and not cislo.isnumeric():\n",
    "            continue\n",
    "        soucet_cisel = soucet_cisel + int(cislo)\n",
    "    else:\n",
    "        print(soucet_cisel)\n",
    "\n",
    "\n",
    "secti_vsechny_cisla(ciselna_r_1)\n",
    "secti_vsechny_cisla(ciselna_r_2)\n",
    "secti_vsechny_cisla(ciselna_r_3)\n",
    "secti_vsechny_cisla(ciselna_r_4)"
   ]
  },
  {
   "cell_type": "markdown",
   "metadata": {},
   "source": [
    "Ukázku výše nemusíš nyní chápat. Je tu hlavně pro ilustraci, jak je důležité mít uživatelské funkce."
   ]
  },
  {
   "cell_type": "markdown",
   "metadata": {},
   "source": [
    "<br>\n",
    "\n",
    "#### Předpis funkcí\n",
    "\n",
    "Jak tedy *uživatelskou funkci* správně používat?\n",
    "\n",
    "Z jakých kroků se správné použití skládá?\n",
    "\n",
    "Nejprve musíš funkci **definovat** (vytvořit) a potom ji můžeš začít **spouštět**.\n",
    "\n",
    "Pořadí je **důležité**! Takže nemůžeš spouštět takovou uživatelskou funkci, kterou **prvně nedefinuješ**.\n"
   ]
  },
  {
   "cell_type": "code",
   "execution_count": 14,
   "metadata": {},
   "outputs": [],
   "source": [
    "# Předpis funkce a parametry funkce\n",
    "def scitej_dve_hodnoty(cislo_1, cislo_2):\n",
    "    # VOLITELNÉ: dokumentace funkce\n",
    "    \"\"\"Vraci soucet dvou hodnot uvnitr parametru.\"\"\"\n",
    "    \n",
    "    # VOLITELNÉ: vracené hodnoty\n",
    "    return cislo_1 + cislo_2"
   ]
  },
  {
   "cell_type": "markdown",
   "metadata": {},
   "source": [
    "Pokud si předchozí ukázku spustíš, nic se nestane. Je to kvůli tomu, že funkci **pouze** definuješ a nespouštíš.\n",
    "\n",
    "<br>\n",
    "\n",
    "V příkladu si můžeš všimnout těchto **charakteristických rysů** pro uživatelskou funkci:\n",
    "1. `def` je *klíčový výraz* označující předpis (definici) funkce,\n",
    "2. `scitej_dve_hodnoty` je tvoje označení funkce, díky kterému můžeš funkci později spustit (ideálně má představovat účel funkce),\n",
    "3. `(cislo_1, cislo_2)` v kulaté závorce jsou umístěné **parametry** funkce. Tedy proměnné, se kterými chceš, aby funkce pracovala.\n",
    "4. `:` předpisový řádek musí být ukončený dvojtečkou (jako u podmínkových zápisů, cyklů, aj.),\n",
    "5. `\"\"\"Vraci soucet dvou ..\"\"\"` na odsazeném řádku následuje *docstring*, tedy bližší popis účelu funkce (zejména pokud jméno nedostačuje),\n",
    "6. `return` ohlášení z funkce vrací žádané hodnoty (nemusí být součástí funkce vždy)."
   ]
  },
  {
   "cell_type": "markdown",
   "metadata": {},
   "source": [
    "<br>\n",
    "\n",
    "#### Spuštění funkcí\n",
    "\n",
    "Takže pokud máš funkci definovanou, můžeš ji spouštět kolikrát chceš a kde chceš (samozřejmě potom, co ji definuješ)."
   ]
  },
  {
   "cell_type": "code",
   "execution_count": 15,
   "metadata": {},
   "outputs": [
    {
     "name": "stdout",
     "output_type": "stream",
     "text": [
      "15\n",
      "10\n"
     ]
    }
   ],
   "source": [
    "# Původní definice funkce\n",
    "# def scitej_dve_hodnoty(cislo_1, cislo_2):\n",
    "#     \"\"\"Vraci soucet dvou hodnot uvnitr parametru.\"\"\"\n",
    "#     return cislo_1 + cislo_2\n",
    "\n",
    "# Spuštění funkce\n",
    "soucet_1 = scitej_dve_hodnoty(1, 14)\n",
    "soucet_2 = scitej_dve_hodnoty(2, 8)\n",
    "\n",
    "print(soucet_1, soucet_2, sep=\"\\n\")"
   ]
  },
  {
   "cell_type": "code",
   "execution_count": 19,
   "metadata": {},
   "outputs": [],
   "source": [
    "vysledek = scitej_dve_hodnoty(2, 3)"
   ]
  },
  {
   "cell_type": "markdown",
   "metadata": {},
   "source": [
    "Pár detailů pro spuštění funkcí:\n",
    "1. Funkci *spouštíš* přes její **jméno a kulaté závorky**. Do těchto závorek musíš zapsat skutečné hodnoty, tedy **argumenty**, které si funkce doplní za parametry z definice. Dále si všimni, že počet argumentů (ze spouštění), odpovídá počtu parametrů (ze zadání),\n",
    "2. Protože funkce obsahuje ohlášení `return` bude vracet hodnotu (součet). Tuto hodnotu si musíš schovat do proměnné (`soucet_1`, `soucet_2`). Pokud to neuděláš, o součet **přijdeš**."
   ]
  },
  {
   "cell_type": "code",
   "execution_count": 20,
   "metadata": {},
   "outputs": [
    {
     "data": {
      "text/plain": [
       "'aa'"
      ]
     },
     "execution_count": 20,
     "metadata": {},
     "output_type": "execute_result"
    }
   ],
   "source": [
    "# type hints ~ našeptávání datových typů\n",
    "def scitej_dve_hodnoty(cislo_1: int, cislo_2: int) -> int:\n",
    "    \"\"\"Vraci soucet dvou hodnot uvnitr parametru.\"\"\"\n",
    "    return cislo_1 + cislo_2\n",
    "\n",
    "scitej_dve_hodnoty(\"a\", \"a\")"
   ]
  },
  {
   "cell_type": "markdown",
   "metadata": {},
   "source": [
    "<br>\n",
    "\n",
    "<img src=\"https://external-content.duckduckgo.com/iu/?u=https%3A%2F%2Ftse4.mm.bing.net%2Fth%3Fid%3DOIP.8xc1q9ugaYbcV9Iu5UvRnwHaHa%26pid%3DApi&f=1\" width=\"200\">\n",
    "\n",
    "### Vstupy funkcí\n",
    "---\n"
   ]
  },
  {
   "cell_type": "markdown",
   "metadata": {},
   "source": [
    "Obecně funkce pracuje se **vstupy**.\n",
    "\n",
    "Tento pojem souhrnně označuje nejen *parametry*, ale také *argumenty*.\n",
    "\n",
    "<br>\n",
    "\n",
    "Rozdíl mezi nimi je následující:\n",
    "- **parametry** slouží jako obecné proměnné při definici, \n",
    "- **argumenty** jsou konkrétní hodnoty, které vkládáš při spouštění.\n",
    "\n",
    "<br>\n",
    "\n",
    "Prohlédni si ukázku:"
   ]
  },
  {
   "cell_type": "code",
   "execution_count": null,
   "metadata": {},
   "outputs": [],
   "source": [
    "def spoj_cele_jmeno(jmeno, prijmeni):\n",
    "    \"\"\"\n",
    "    Spoj zformatovane hodnoty v parametrech.\n",
    "\n",
    "    Priklad:\n",
    "    >>> formatuj_cele_jmeno(\"Petr\", \"Svetr\")\n",
    "    p.svetr\n",
    "    \"\"\"\n",
    "    return \".\".join(\n",
    "        (\n",
    "            jmeno[0].lower(),\n",
    "            prijmeni.lower()\n",
    "        )\n",
    "    )\n",
    "\n",
    "print(spoj_cele_jmeno(\"Adam\", \"Novak\"))"
   ]
  },
  {
   "cell_type": "markdown",
   "metadata": {},
   "source": [
    "<br>\n",
    "\n",
    "#### Více variant zápisu vstupů\n",
    "Teď, když máš ve funkčních *vstupech* jasno, se podívej, jakými všemi způsoby můžeš **vstupy zapsat**.\n",
    "\n",
    "Důvod je prostý, každá *uživatelská funkce* má trochu **jiný účel**. Proto se hodí mít **více různých možností**, jak zadat jednotlivé vstupy.\n",
    "\n",
    "<br>\n",
    "\n",
    "Seznam všech dostupných variant:\n",
    "- **poziční** parametry (argumenty),\n",
    "- **klíčové** argumenty,\n",
    "- **defaultní** parametry,\n",
    "- **positional-only** parametry,\n",
    "- **\\*args**,\n",
    "- **\\*\\*kwargs**."
   ]
  },
  {
   "cell_type": "markdown",
   "metadata": {},
   "source": [
    "<br>\n",
    "\n",
    "#### Poziční argumenty\n",
    "\n",
    "Ze jména je patrné, že v této variantě záleží **na pozici** (tedy *pořadí*), ve kterém **parametry** (i argumenty) zapíšeš.\n",
    "\n",
    "<br>\n",
    "\n",
    "Podívej se na ukázku:"
   ]
  },
  {
   "cell_type": "code",
   "execution_count": 21,
   "metadata": {},
   "outputs": [
    {
     "name": "stdout",
     "output_type": "stream",
     "text": [
      "{'jmeno': 'Petr', 'prijmeni': 'Svetr', 'telefon': '+420 777 666 555'}\n"
     ]
    }
   ],
   "source": [
    "def uloz_informace(jmeno, prijmeni, telefon):\n",
    "    return {\n",
    "        \"jmeno\": jmeno,\n",
    "        \"prijmeni\": prijmeni,\n",
    "        \"telefon\": telefon\n",
    "}\n",
    "\n",
    "print(uloz_informace(\"Petr\", \"Svetr\", \"+420 777 666 555\"))"
   ]
  },
  {
   "cell_type": "markdown",
   "metadata": {},
   "source": [
    "V ukázce vidíš, že **parametry** jsou uspořádané za sebou a jednotlivé hodnoty jsou následně **popořadě** rozdělené.\n",
    "\n",
    "|Pozice|Parametr|Argument|\n",
    "|:-:|:- |:-|\n",
    "|`1`| `jmeno`|`\"Petr\"`|\n",
    "|`2`| `prijmeni`|`\"Svetr\"`|\n",
    "|`3`| `telefon`|`\"+420 777 666 555\"`|\n",
    "\n",
    "<br>\n",
    "\n",
    "Mezi jednotlivými **parametry** a **argumenty** není žádná jiná závislost než **stejné pořadí**, ve kterém při spouštění funkce dopisuješ *argumenty* v takovém pořadí, jako jsou předepsané *parametry*.\n",
    "\n",
    "<br>\n",
    "\n",
    "Současně jde o jednu z nejpoužívanějších a nejznámějších variant, takže pokud není komplikované pochopit, jaký **argument** patří do jakého **parametru**, budeš chtít zapsat vstupy touto formou."
   ]
  },
  {
   "cell_type": "markdown",
   "metadata": {},
   "source": [
    "<br>\n",
    "\n",
    "#### Klíčové argumenty\n",
    "\n",
    "Zapisování **podle pozice** nemusí být ale vždy zcela přehledné.\n",
    "\n",
    "Třeba pokud jsou všechny tři parametry **stejného datového typu** a ještě jsou samotné **hodnoty podobné**.\n",
    "\n",
    "Podívej se na další ukázku:\n",
    "\n",
    "\n",
    "<br>\n",
    "\n",
    "Podívej se na ukázku:"
   ]
  },
  {
   "cell_type": "code",
   "execution_count": 22,
   "metadata": {},
   "outputs": [
    {
     "name": "stdout",
     "output_type": "stream",
     "text": [
      "16.0\n"
     ]
    }
   ],
   "source": [
    "def vypocitej_hodnotu(koef_1, koef_2, koef_3):\n",
    "    \"\"\"\n",
    "    Vypocitej hodnotu na zaklade tri zadanych koeficinetu.\n",
    "    \"\"\"\n",
    "    return (1/koef_1) * (koef_2 ** koef_3)\n",
    "\n",
    "print(vypocitej_hodnotu(1, 2, 4))"
   ]
  },
  {
   "cell_type": "markdown",
   "metadata": {},
   "source": [
    "V ukázce je definice funkce `vypocitej_hodnotu` s parametry `koef_1`, `koef_2` a `koef_3`. Ve všech třech parametrech se počítá s nějakou **číselnou hodnotu**.\n",
    "\n",
    "Jejich umístění ve vzorečku je **zásadní**, jinak dostaneš odlišné výsledky.\n",
    "\n",
    "Právě v takovém případě je velice příhodné, přiřadit **jednotlivé hodnoty** explicitně **k příslušným parametrům**:"
   ]
  },
  {
   "cell_type": "code",
   "execution_count": null,
   "metadata": {},
   "outputs": [],
   "source": [
    "def vypocitej_hodnotu(koef_1, koef_2, koef_3):\n",
    "    \"\"\"\n",
    "    Vypocitej hodnotu na zaklade tri zadanych koeficinetu.\n",
    "    \"\"\"\n",
    "    return (1 / koef_1) * (koef_2 ** koef_3)\n",
    "\n",
    "print(vypocitej_hodnotu(koef_1=0.5, koef_2=3, koef_3=2))"
   ]
  },
  {
   "cell_type": "markdown",
   "metadata": {},
   "source": [
    "Případně můžeš *spouštění funkce* ještě přehledněji vypsat pod sebe:\n",
    "```python\n",
    "print(vypocitej_hodnotu(\n",
    "    koef_1=0.5,\n",
    "    koef_2=3,\n",
    "    koef_3=2\n",
    ")\n",
    "```\n",
    "\n",
    "<br>\n",
    "\n",
    "Pořadí v tomto případě **není důležité**:\n",
    "```python\n",
    "print(vypocitej_hodnotu(\n",
    "    koef_3=2,\n",
    "    koef_2=3,\n",
    "    koef_1=0.5\n",
    ")\n",
    "```\n",
    "Rozhodující je vždy **vztah mezi hodnotou a parametrem** (mapování).\n",
    "\n",
    "<br>\n",
    "\n",
    "Takže pokud budeš mít **větší množství parametrů**, nebo se v nich budeš ztrácet, určitě použij tuto variantu."
   ]
  },
  {
   "cell_type": "markdown",
   "metadata": {},
   "source": [
    "<br>\n",
    "\n",
    "#### Defaultní parametry\n",
    "\n",
    "Někdy dojdeš k závěru, že funkce, kterou tvoříš, potřebuje **jeden parametr**, který bude v naprosté většině spouštění používat tutéž **hodnotu**.\n",
    "\n",
    "V takovém případě můžeš do předpisu funkce zapsat **defaultní parametr**.\n",
    "\n",
    "Podívej se na ukázku níže:"
   ]
  },
  {
   "cell_type": "code",
   "execution_count": 23,
   "metadata": {},
   "outputs": [
    {
     "name": "stdout",
     "output_type": "stream",
     "text": [
      "Ahoj, Matous\n"
     ]
    }
   ],
   "source": [
    "def vytvor_pozdrav(jmeno=\"Matous\"):\n",
    "    print(\"Ahoj,\", jmeno)\n",
    "\n",
    "vytvor_pozdrav()"
   ]
  },
  {
   "cell_type": "markdown",
   "metadata": {},
   "source": [
    "Při spuštění funkce `vytvor_pozdrav` není přítomen žádný **argument** a funkci lze přesto spustit bez chyby.\n",
    "\n",
    "Tudíž můžeš říct, že zápis *defaultního argumentu*, je volitená záležitost. Podívej, co se stane, pokud zapíšu argument `\"Lukas\"`."
   ]
  },
  {
   "cell_type": "code",
   "execution_count": 24,
   "metadata": {},
   "outputs": [
    {
     "name": "stdout",
     "output_type": "stream",
     "text": [
      "Ahoj, Matous\n",
      "Ahoj, Lukas\n"
     ]
    }
   ],
   "source": [
    "def vytvor_pozdrav(jmeno=\"Matous\"):\n",
    "    print(\"Ahoj,\", jmeno)\n",
    "\n",
    "vytvor_pozdrav()\n",
    "vytvor_pozdrav(\"Lukas\")"
   ]
  },
  {
   "cell_type": "markdown",
   "metadata": {},
   "source": [
    "Takže pokud nevložíš žádný *argument*, bude funkce `vytvor_pozdrav` automaticky pracovat se stringem `\"Matous\"`.\n",
    "\n",
    "Pokud se však rozhodneš, že tebou zadaný **defaultní parametr** bude potřeba nějak upravit, můžeš jej snadno přepsat jinou hodnotou (v ukázce `\"Lukas\"`)."
   ]
  },
  {
   "cell_type": "markdown",
   "metadata": {},
   "source": [
    "<br>\n",
    "\n",
    "#### Position-only parametry\n",
    "\n",
    "Od verze **Pythonu 3.8** je dostupná tato nová varianta pro zápis *parametrů* u *uživatelských funkcí*.\n",
    "\n",
    "<br>\n",
    "\n",
    "Účelem tohoto typu parametrů je vynutit od uživatele zápis všech parametrů **napravo** od lomítka `\\` jako **klíčové parametry** (resp. argumenty).\n",
    "Zatím co *parametry* **nalevo** od lomítka můžeš pořád zapsat buď jako **poziční**, nebo jako **klíčové**.\n",
    "\n",
    "<br>\n",
    "\n",
    "V ukázce níž chceš pozdravit uživatele jménem, pokud **je registrovaný** (tedy `registrovany = True`):"
   ]
  },
  {
   "cell_type": "code",
   "execution_count": 26,
   "metadata": {},
   "outputs": [
    {
     "name": "stdout",
     "output_type": "stream",
     "text": [
      "Nejsi uzivatel!\n"
     ]
    }
   ],
   "source": [
    "def napis_pozdrav(jmeno, /, registrovany):\n",
    "    if not registrovany:\n",
    "        print(\"Nejsi uzivatel!\")\n",
    "    else:\n",
    "        print(\"Ahoj,\", jmeno)\n",
    "\n",
    "\n",
    "napis_pozdrav(\"Matous\", True)"
   ]
  },
  {
   "cell_type": "markdown",
   "metadata": {},
   "source": [
    "V tento okamžik můžeš vyzkoušet, že spouštění `napis_pozdrav(\"Matous\", True)` pomocí **pozičních vstupů**, funguje bez problémů.\n",
    "\n",
    "<br>\n",
    "\n",
    "Co, když budeš chtít spustit tuto funkci čistě pomocí **klíčových argumentů**?"
   ]
  },
  {
   "cell_type": "code",
   "execution_count": 27,
   "metadata": {},
   "outputs": [
    {
     "ename": "TypeError",
     "evalue": "napis_pozdrav() got some positional-only arguments passed as keyword arguments: 'jmeno'",
     "output_type": "error",
     "traceback": [
      "\u001b[0;31m---------------------------------------------------------------------------\u001b[0m",
      "\u001b[0;31mTypeError\u001b[0m                                 Traceback (most recent call last)",
      "\u001b[0;32m<ipython-input-27-f0534ae2ffe1>\u001b[0m in \u001b[0;36m<module>\u001b[0;34m\u001b[0m\n\u001b[1;32m      6\u001b[0m \u001b[0;34m\u001b[0m\u001b[0m\n\u001b[1;32m      7\u001b[0m \u001b[0;34m\u001b[0m\u001b[0m\n\u001b[0;32m----> 8\u001b[0;31m \u001b[0mnapis_pozdrav\u001b[0m\u001b[0;34m(\u001b[0m\u001b[0mjmeno\u001b[0m\u001b[0;34m=\u001b[0m\u001b[0;34m\"Matous\"\u001b[0m\u001b[0;34m,\u001b[0m \u001b[0mregistrovany\u001b[0m\u001b[0;34m=\u001b[0m\u001b[0;32mTrue\u001b[0m\u001b[0;34m)\u001b[0m\u001b[0;34m\u001b[0m\u001b[0;34m\u001b[0m\u001b[0m\n\u001b[0m",
      "\u001b[0;31mTypeError\u001b[0m: napis_pozdrav() got some positional-only arguments passed as keyword arguments: 'jmeno'"
     ]
    }
   ],
   "source": [
    "def napis_pozdrav(jmeno, /, registrovany):\n",
    "    if not registrovany:\n",
    "        print(\"Nejsi uzivatel!\")\n",
    "    else:\n",
    "        print(\"Ahoj,\", jmeno)\n",
    "\n",
    "\n",
    "napis_pozdrav(jmeno=\"Matous\", registrovany=True)"
   ]
  },
  {
   "cell_type": "markdown",
   "metadata": {},
   "source": [
    "V tomto případě dostaneš výjimku `TypeError`, která oznamuje, že *parametr* `jmeno` není zamýšlený jako **klíčový**.\n",
    "\n",
    "<br>\n",
    "\n",
    "Je tedy nutné, zapsat jej jako **klíčový argument**:"
   ]
  },
  {
   "cell_type": "code",
   "execution_count": 28,
   "metadata": {},
   "outputs": [
    {
     "name": "stdout",
     "output_type": "stream",
     "text": [
      "Ahoj, Matous\n"
     ]
    }
   ],
   "source": [
    "def napis_pozdrav(jmeno, /, registrovany, premiovy_ucet):\n",
    "    if not registrovany:\n",
    "        print(\"Nejsi uzivatel!\")\n",
    "    else:\n",
    "        print(\"Ahoj,\", jmeno)\n",
    "\n",
    "\n",
    "napis_pozdrav(\"Matous\", registrovany=True, premiovy_ucet=True)"
   ]
  },
  {
   "cell_type": "markdown",
   "metadata": {},
   "source": [
    "Nyní ukázka funguje přesně tak jak je zamýšleno.\n",
    "\n",
    "<br>\n",
    "\n",
    "Vzhledem k tomu, že je to **novéjší varianta** a **není vhodná** pro všechny situace, se s touto formou vstupů tolik nesetkáš."
   ]
  },
  {
   "cell_type": "markdown",
   "metadata": {},
   "source": [
    "<br>\n",
    "\n",
    "#### *args\n",
    "\n",
    "Na první pohled, označení tohoto typu **vstupů** nepůsobí moc přehledně `*args`.\n",
    "\n",
    "Tento typ zápisu parametrů za pomocí **jedné hvězdičky**, umožní vkládat **libovolné množství vstupů**.\n",
    "\n",
    "<br>\n",
    "\n",
    "Zásadní je právě přítomnost `*`, jméno `args` potom slouží hlavně jako konvence mezi programátory. Klidně ale můžeš zapsat `*argumenty`.\n",
    "\n",
    "<br>\n",
    "\n",
    "Představ si situaci, kdy budeš chtít vypočítat průměrnou hodnotu pro zadaný parametr `args`:"
   ]
  },
  {
   "cell_type": "code",
   "execution_count": 29,
   "metadata": {},
   "outputs": [
    {
     "name": "stdout",
     "output_type": "stream",
     "text": [
      "3.0\n"
     ]
    }
   ],
   "source": [
    "def vypocitej_prumer(args):\n",
    "    return sum(args) / len(args)\n",
    "\n",
    "\n",
    "moje_cisla = [1, 2, 3, 4, 5]\n",
    "print(vypocitej_prumer(moje_cisla))"
   ]
  },
  {
   "cell_type": "markdown",
   "metadata": {},
   "source": [
    "V ukázce výše si můžeš ověřit, že pro takové zadání není třeba pracovat s `*`.\n",
    "\n",
    "Prostě vytvoříš proměnnou, např. `moje_cisla`, do ní uložíš hodnoty a celou proměnnou vložíš jako **argument** do funkce `vypocitej_prumer`.\n",
    "\n",
    "<br>\n",
    "\n",
    "To ale vždy **není reálné** a **praktické**, protože hodnoty nemusíš mít dopředu zadané.\n",
    "\n",
    "Co když dostaneš čísla až v rámci **spuštění funkce**?"
   ]
  },
  {
   "cell_type": "code",
   "execution_count": 30,
   "metadata": {},
   "outputs": [
    {
     "ename": "TypeError",
     "evalue": "vypocitej_prumer() takes 1 positional argument but 5 were given",
     "output_type": "error",
     "traceback": [
      "\u001b[0;31m---------------------------------------------------------------------------\u001b[0m",
      "\u001b[0;31mTypeError\u001b[0m                                 Traceback (most recent call last)",
      "\u001b[0;32m<ipython-input-30-5c8f1e2335b6>\u001b[0m in \u001b[0;36m<module>\u001b[0;34m\u001b[0m\n\u001b[1;32m      3\u001b[0m \u001b[0;34m\u001b[0m\u001b[0m\n\u001b[1;32m      4\u001b[0m \u001b[0;34m\u001b[0m\u001b[0m\n\u001b[0;32m----> 5\u001b[0;31m \u001b[0mprint\u001b[0m\u001b[0;34m(\u001b[0m\u001b[0mvypocitej_prumer\u001b[0m\u001b[0;34m(\u001b[0m\u001b[0;36m1\u001b[0m\u001b[0;34m,\u001b[0m \u001b[0;36m2\u001b[0m\u001b[0;34m,\u001b[0m \u001b[0;36m3\u001b[0m\u001b[0;34m,\u001b[0m \u001b[0;36m4\u001b[0m\u001b[0;34m,\u001b[0m \u001b[0;36m5\u001b[0m\u001b[0;34m)\u001b[0m\u001b[0;34m)\u001b[0m\u001b[0;34m\u001b[0m\u001b[0;34m\u001b[0m\u001b[0m\n\u001b[0m",
      "\u001b[0;31mTypeError\u001b[0m: vypocitej_prumer() takes 1 positional argument but 5 were given"
     ]
    }
   ],
   "source": [
    "def vypocitej_prumer(args):\n",
    "    return sum(args) / len(args)\n",
    "\n",
    "\n",
    "print(vypocitej_prumer(1, 2, 3, 4, 5))"
   ]
  },
  {
   "cell_type": "markdown",
   "metadata": {},
   "source": [
    "Tentokrát dostaneš výjimku `TypeError`, která ti oznamuje, že na **jeden parametr** máš nachystaný **větší počet argumentů**.\n",
    "\n",
    "V takovém případě funkci **nelze spustit**.\n",
    "\n",
    "<br>\n",
    "\n",
    "Proto je potřeba, doplnit správně zapsaný parametr `*args` o různém počtu **potenciálních hodnot**:"
   ]
  },
  {
   "cell_type": "code",
   "execution_count": 34,
   "metadata": {},
   "outputs": [
    {
     "name": "stdout",
     "output_type": "stream",
     "text": [
      "1.5\n"
     ]
    }
   ],
   "source": [
    "def vypocitej_prumer(*args):\n",
    "    return sum(args) / len(args)\n",
    "\n",
    "\n",
    "print(vypocitej_prumer(1, 2))"
   ]
  },
  {
   "cell_type": "markdown",
   "metadata": {},
   "source": [
    "Nyní v podstatě funkci `vypocitej_prumer` zapsanou **hvězdičkou** oznamuješ, že parametr `args` může mít **jakýkoliv počet hodnot**."
   ]
  },
  {
   "cell_type": "markdown",
   "metadata": {},
   "source": [
    "<br>\n",
    "\n",
    "#### **kwargs\n",
    "\n",
    "Dalším způsobem pro zápis vstupů, je varianta pomocí dvou hvězdiček `**`.\n",
    "\n",
    "**Jméno** parametru je opět *volitelné*, ale je doporučováno, držet se všeobecné konvence `kwargs` (~*keyword arguments*).\n",
    "\n",
    "<br>\n",
    "\n",
    "Opět si představ situaci, že postupně dostáváš hodnoty, které potřebuješ schovávat **do slovníku**:"
   ]
  },
  {
   "cell_type": "code",
   "execution_count": 38,
   "metadata": {},
   "outputs": [
    {
     "name": "stdout",
     "output_type": "stream",
     "text": [
      "{'jmeno': 'Matous', 'prijmeni': 'Holinka'}\n"
     ]
    }
   ],
   "source": [
    "def vytvor_slovnik(**kwargs):\n",
    "    vysledek = dict()\n",
    "\n",
    "    for klic, hodnota in kwargs.items():\n",
    "        vysledek[klic] = hodnota\n",
    "    return vysledek\n",
    "\n",
    "\n",
    "\n",
    "print(vytvor_slovnik(jmeno=\"Matous\", prijmeni=\"Holinka\"))"
   ]
  },
  {
   "cell_type": "markdown",
   "metadata": {},
   "source": [
    "Ukázka výše pracuje se **dvěma argumenty** `jmeno` a `prijmeni`. To ale neznamená, že jich neumí zpracovat víc.\n",
    "\n",
    "<br>\n",
    "\n",
    "V dalším příkladě budeš mít celkem **4 páry** *klíčů* a *hodnot*:"
   ]
  },
  {
   "cell_type": "code",
   "execution_count": 37,
   "metadata": {},
   "outputs": [
    {
     "name": "stdout",
     "output_type": "stream",
     "text": [
      "{'jmeno': 'Matous', 'prijmeni': 'Holinka', 'vek': 90, 'email': 'matous@holinka.cz'}\n"
     ]
    }
   ],
   "source": [
    "def vytvor_slovnik(**kwargs):\n",
    "    vysledek = dict()\n",
    "\n",
    "    for klic, hodnota in kwargs.items():\n",
    "        vysledek[klic] = hodnota\n",
    "    return vysledek\n",
    "\n",
    "\n",
    "print(vytvor_slovnik(jmeno=\"Matous\", prijmeni=\"Holinka\", vek=90, email=\"matous@holinka.cz\"))"
   ]
  },
  {
   "cell_type": "markdown",
   "metadata": {},
   "source": [
    "Výsledkem je opět datový typ `dict`, který nám vrátí funkce `vytvor_slovnik`, obsahující všechny zadané **argumenty**."
   ]
  },
  {
   "cell_type": "markdown",
   "metadata": {},
   "source": [
    "Nyní je tedy jasné, že variant pro zápis **funkčních vstupů** je dost.\n",
    "\n",
    "<br>\n",
    "\n",
    "Níže je uvedená tabulka se **základními charakteristikami**:\n",
    "\n",
    "| Typ vstupu | Ukázka | Kdy používat |\n",
    "| :- | :- | :- |\n",
    "| **poziční vstupy** | `moje_funkce(jmeno, prijmeni)` | ve většině případech, kde není matoucí **pořadí** argumentů, | \n",
    "| **klíčové argumenty** | `moje_funkce(jmeno=\"Tom\", prijmeni=\"Hrom\")` | pokud je pořadí argumentů **nepřehledné**, pojmenuj je, |\n",
    "| **defaultní parametry** | `moje_funkce(email, registrovany=True)` | pokud potřebuješ při spouštění stejný parametr, napiš jej jako *defaultní*, |  \n",
    "| **position-only parametry** | `moje_funkce(jmeno, /, registrovany)` | pokud potřebuješ vynutit zápis **klíčového argumentu**, |\n",
    "| **\\*args** | `moje_funkce(*args)` | pokud má funkce pracovat **s různým množstvím** hodnot v *sekvenci*, |\n",
    "| **\\*\\*kwargs** |  `moje_funkce(**kwargs)` | pokud má funkce pracovat **s různým množstvím** hodnot v párech *klíč*, *hodnota*. |"
   ]
  },
  {
   "cell_type": "markdown",
   "metadata": {},
   "source": [
    "<br>\n",
    "\n",
    "<img src=\"https://external-content.duckduckgo.com/iu/?u=https%3A%2F%2Ftse1.mm.bing.net%2Fth%3Fid%3DOIP.uufe_GDvF2057NFWgKOVXwAAAA%26pid%3DApi&f=1\" width=\"200\">\n",
    "\n",
    "### Dokumentace funkcí\n",
    "\n",
    "---\n"
   ]
  },
  {
   "cell_type": "markdown",
   "metadata": {},
   "source": [
    "Psát **dokumentaci** funkce resp. *docstring* je volitelnou záležitostí.\n",
    "\n",
    "Někdy potřebuješ vytvořit jednoduchou funkci, jejíž účel plně vystihuje její **jméno**:"
   ]
  },
  {
   "cell_type": "code",
   "execution_count": 39,
   "metadata": {},
   "outputs": [
    {
     "name": "stdout",
     "output_type": "stream",
     "text": [
      "16\n"
     ]
    }
   ],
   "source": [
    "def vynasob_dve_hodnoty(x, y):\n",
    "    return x * y\n",
    "\n",
    "print(vynasob_dve_hodnoty(2, 8))"
   ]
  },
  {
   "cell_type": "markdown",
   "metadata": {},
   "source": [
    "V takovém případě **není potřeba** zapisovat *docstring*.\n",
    "\n",
    "<br>\n",
    "\n",
    "Někdy se ale popis může hodit. Zejména tehdy pokud **jméno** *uživatelské funkce* **nedostačuje**:"
   ]
  },
  {
   "cell_type": "code",
   "execution_count": 41,
   "metadata": {
    "scrolled": true
   },
   "outputs": [
    {
     "name": "stdout",
     "output_type": "stream",
     "text": [
      "{'a': 3, 'b': 2, 'c': 1, 'd': 1}\n"
     ]
    }
   ],
   "source": [
    "def vypocitej_vyskyt_dat(text):\n",
    "    vyskyt = dict()\n",
    "\n",
    "    for slovo in text:\n",
    "        vyskyt[slovo] = vyskyt.setdefault(slovo, 0) + 1\n",
    "\n",
    "    return vyskyt\n",
    "\n",
    "\n",
    "print(vypocitej_vyskyt_dat((\"a\", \"b\", \"a\", \"c\", \"d\", \"b\", \"a\")))"
   ]
  },
  {
   "cell_type": "markdown",
   "metadata": {},
   "source": [
    "Nyní už **není zcela patrné**, jaký je účel funkce, že?\n",
    "\n",
    "<br>\n",
    "\n",
    "**Jméno** samotné funkce, v ukázce výš, není dostačující:"
   ]
  },
  {
   "cell_type": "code",
   "execution_count": 42,
   "metadata": {},
   "outputs": [
    {
     "name": "stdout",
     "output_type": "stream",
     "text": [
      "{'a': 3, 'b': 2, 'c': 1, 'd': 1}\n"
     ]
    }
   ],
   "source": [
    "def vypocitej_vyskyt_dat(text):\n",
    "    \"\"\"\n",
    "    Vrátí slovník, který obsahuje vypočítaný výskyt hodnot\n",
    "    v parametru \"text\".\n",
    "    \"\"\"\n",
    "    vyskyt = dict()\n",
    "    \n",
    "    for slovo in text:\n",
    "        vyskyt[slovo] = vyskyt.setdefault(slovo, 0) + 1\n",
    "\n",
    "    return vyskyt\n",
    "\n",
    "\n",
    "print(vypocitej_vyskyt_dat((\"a\", \"b\", \"a\", \"c\", \"d\", \"b\", \"a\")))"
   ]
  },
  {
   "cell_type": "markdown",
   "metadata": {},
   "source": [
    "Jednou větou **vysvětlená podstata** této *uživatelské funkce* lépe popíše účel funkce `vypocitej_vyskyt_dat`.\n",
    "\n",
    "<br>\n",
    "\n",
    "Dále můžeš tuto *nápovědu* získat pomocí zabudované funkce `help`:\n",
    "```python\n",
    "print(help(vypocitej_vyskyt_dat))\n",
    "```\n",
    "A získáš výstup:\n",
    "```\n",
    "Help on function vypocitej_vyskyt_dat in ...\n",
    "\n",
    "vypocitej_vyskyt_dat(text)\n",
    "    Vrátí slovník, který obsahuje zaevidovaný výskyt hodnot\n",
    "    v parametru \"text\".\n",
    "```"
   ]
  },
  {
   "cell_type": "code",
   "execution_count": 43,
   "metadata": {},
   "outputs": [
    {
     "name": "stdout",
     "output_type": "stream",
     "text": [
      "Help on function vypocitej_vyskyt_dat in module __main__:\n",
      "\n",
      "vypocitej_vyskyt_dat(text)\n",
      "    Vrátí slovník, který obsahuje vypočítaný výskyt hodnot\n",
      "    v parametru \"text\".\n",
      "\n"
     ]
    }
   ],
   "source": [
    "help(vypocitej_vyskyt_dat)"
   ]
  },
  {
   "cell_type": "markdown",
   "metadata": {},
   "source": [
    "Pokud je krátký *docstring* **nedostatečný**, nebo pracuješ s různými **parametry**, které jsou pro uživatele komplikované, můžeš je také popsat:"
   ]
  },
  {
   "cell_type": "code",
   "execution_count": null,
   "metadata": {},
   "outputs": [],
   "source": [
    "def vypocitej_vyskyt_dat(text):\n",
    "    \"\"\"\n",
    "    Vrátí slovník, který obsahuje vypočítaný výskyt hodnot\n",
    "    v parametru \"text\".\n",
    "\n",
    "    :text: list nebo tuple\n",
    "        Zadaný objekt, jehož hodnoty funkce počítá.\n",
    "\n",
    "    :vyskyt: dict\n",
    "        Vrácená hodnota evidující výskyty jednotlivých hodnot. \n",
    "    \"\"\"\n",
    "    vyskyt = dict()\n",
    "\n",
    "    for slovo in text:\n",
    "        vyskyt[slovo] = vyskyt.setdefault(slovo, 0) + 1\n",
    "\n",
    "    return vyskyt\n",
    "\n",
    "\n",
    "print(vypocitej_vyskyt_dat((\"a\", \"b\", \"a\", \"c\", \"d\", \"b\", \"a\")))"
   ]
  },
  {
   "cell_type": "markdown",
   "metadata": {},
   "source": [
    "Někdy je dobrá ukázka lepší jak tisíc slov, proto je později vhodné úvadět **příklad použití**:"
   ]
  },
  {
   "cell_type": "code",
   "execution_count": null,
   "metadata": {},
   "outputs": [],
   "source": [
    "def vypocitej_vyskyt_dat(text):\n",
    "    \"\"\"\n",
    "    Vrátí slovník, který obsahuje vypočítaný výskyt hodnot\n",
    "    v parametru \"text\".\n",
    "\n",
    "    Příklad:\n",
    "    >>> vysledek = vypocitej_vyskyt_dat(\"a\", \"b\", \"a\")\n",
    "    >>> vysledek\n",
    "    {\"a\": 2, \"b\": 1}\n",
    "    \"\"\"\n",
    "    vyskyt = dict()\n",
    "\n",
    "    for slovo in text:\n",
    "        vyskyt[slovo] = vyskyt.setdefault(slovo, 0) + 1\n",
    "\n",
    "    return vyskyt\n",
    "\n",
    "\n",
    "print(vypocitej_vyskyt_dat((\"a\", \"b\", \"a\", \"c\", \"d\", \"b\", \"a\")))"
   ]
  },
  {
   "cell_type": "markdown",
   "metadata": {},
   "source": [
    "Je tedy **nutné** zapisovat *docstring*? Určitě to **není nutnost**.\n",
    "\n",
    "Ale rozhodně je to velmi nápomocné, protože ti pomůže uvědomit si:\n",
    "1. Jestli dostatečně rozumíš **účelu funkce**,\n",
    "2. jestli funkce skutečně **provádí jen to, co má**,\n",
    "3. jestli má správný **počet parametrů**, případně jakého typu,\n",
    "4. jestli a jaké objekty **funkce vrací**.\n",
    "\n",
    "<br>\n",
    "\n",
    "Do budoucna potom můžeš využít *docstring* při:\n",
    "1. Generování **dokumentace projektu** pomocí nástroje [Sphinx](https://www.sphinx-doc.org/en/master/),\n",
    "2. **testování funkcí** pomocí modulu [doctest](https://docs.python.org/3/library/doctest.html)."
   ]
  },
  {
   "cell_type": "markdown",
   "metadata": {},
   "source": [
    "<br>\n",
    "\n",
    "### Domácí úkol\n",
    "\n",
    "---\n",
    "\n",
    "<img src=\"https://external-content.duckduckgo.com/iu/?u=https%3A%2F%2Ftse3.mm.bing.net%2Fth%3Fid%3DOIP.XxURlbi8RZ3SMPoMRj91VwAAAA%26pid%3DApi&f=1\" width=\"200\">\n",
    "\n"
   ]
  },
  {
   "cell_type": "markdown",
   "metadata": {},
   "source": [
    "V následujícím balíčku:\n",
    "```\n",
    "/lesson06\n",
    "  ├─data/\n",
    "  |  ├─__init__.py\n",
    "  |  └─udaje.py\n",
    "  |\n",
    "  ├─vzor/\n",
    "  |  ├─__init__.py\n",
    "  |  └─prevodnik.py\n",
    "  └─uloha6.py\n",
    "```\n",
    "\n",
    "Doplň modul `uloha6.py` tak, ať prochází zadané údaje v `data/udaje.py`:\n",
    "```\n",
    "byt0001,55m2,Olomouc,ul.Heyrovského,\n",
    "byt0003,65m2,Olomouc,ul.Novosadský_dvůr,\n",
    "...\n",
    "```\n",
    "\n",
    "a převadí obecný **typ bytu** na klasický typ bytu:\n",
    "```\n",
    "1+1,55m2,Olomouc,ul.Heyrovského,\n",
    "2+kk,65m2,Olomouc,ul.Novosadský_dvůr,\n",
    "...\n",
    "```\n",
    "\n",
    "Hotový modul musí provést na závěr následující:\n",
    "```\n",
    "python uloha6.py\n",
    "```\n",
    "S výstupem:\n",
    "```\n",
    "(\"1+1,55m2,Olomouc,ul.Heyrovského,\", \"2+kk,65m2,Olomouc,ul.Novosadský_dvůr,\", ... )\n",
    "```\n",
    "     "
   ]
  },
  {
   "cell_type": "markdown",
   "metadata": {},
   "source": [
    "---"
   ]
  }
 ],
 "metadata": {
  "kernelspec": {
   "display_name": "Python 3",
   "language": "python",
   "name": "python3"
  },
  "language_info": {
   "codemirror_mode": {
    "name": "ipython",
    "version": 3
   },
   "file_extension": ".py",
   "mimetype": "text/x-python",
   "name": "python",
   "nbconvert_exporter": "python",
   "pygments_lexer": "ipython3",
   "version": "3.8.6"
  }
 },
 "nbformat": 4,
 "nbformat_minor": 4
}
