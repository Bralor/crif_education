{
 "cells": [
  {
   "cell_type": "markdown",
   "metadata": {},
   "source": [
    "### Lekce08, OPA, rámce funkcí\n",
    "\n",
    "---\n",
    "\n",
    "1. [Prezentace, úvod](https://docs.google.com/presentation/d/1Udn1H2RIELSkO7vZUG8-6exMruWytfZ_xin9BEkQC2k/edit?usp=sharing)\n",
    "2. [vstupy funkcí a jak je zapsat,](#Vstupy-funkcí)\n",
    "3. [rámce, jejich typy](#Rámce)\n",
    "4. [dokumentace pomocí docstring,](#Docstring)\n",
    "5. [co je \\_\\_name\\_\\_](#Co-je-__name__)\n",
    "6. [domácí úloha.](#Domácí-úkol)\n"
   ]
  },
  {
   "cell_type": "markdown",
   "metadata": {},
   "source": [
    "<br>\n",
    "\n",
    "<img src=\"http://mathinsight.org/media/image/image/function_machine.png\" width=\"400\">\n",
    "\n",
    "### Vstupy funkcí\n",
    "\n",
    "---\n",
    "\n",
    "Obecně můžeš říct, že funkce pracuje s nějakými **vstupními hodnotami** (~vstupy).\n",
    "\n",
    "<br>\n",
    "\n",
    "Tento pojem souhrnně označuje nejen *parametry*, ale také *argumenty*.\n",
    "\n",
    "<br>\n",
    "\n",
    "Rozdíl mezi nimi:\n",
    "* **Parametry** slouží jako obecné proměnné při definici,\n",
    "* **argumenty** jsou konkrétní hodnoty, které vkládáš při spouštění."
   ]
  },
  {
   "cell_type": "code",
   "execution_count": null,
   "metadata": {},
   "outputs": [],
   "source": [
    "def ziskej_zpravu_z_logu(zaznam):\n",
    "    \"\"\"\n",
    "    Ze zadaneho stringu vrat pouze jeho cast se zpravou.\n",
    "\n",
    "    Priklad:\n",
    "    >>> ziskej_zpravu_z_logu(\n",
    "    ...     \"2006-02-08 22:20:02,165: 192.168.0.1: fbloggs: Protocol problem: connection reset\")\n",
    "    ... )\n",
    "    [' Protocol problem', ' connection reset']\n",
    "    \"\"\"\n",
    "    return zaznam.split(\":\")[-2:]"
   ]
  },
  {
   "cell_type": "code",
   "execution_count": null,
   "metadata": {},
   "outputs": [],
   "source": [
    "print(ziskej_zpravu_z_logu(\n",
    "    \"2006-02-08 22:20:02,165: 192.168.0.1: fbloggs: Protocol problem: connection reset\")\n",
    ")"
   ]
  },
  {
   "cell_type": "markdown",
   "metadata": {},
   "source": [
    "**poznámka** Co je tedy **parametr** a co **argument** v ukázce výše?\n",
    "\n",
    "<br>\n",
    "\n",
    "##### Více variant zápisu vstupů\n",
    "\n",
    "*Vstupy* pro funkce můžeš zapsat **více způsoby**.\n",
    "\n",
    "<br>\n",
    "\n",
    "Důvod je prostý, každá *uživatelská funkce* má trochu jiný účel.\n",
    "\n",
    "\n",
    "Seznam všech dostupných variant:\n",
    "1. **poziční** parametry (argumenty),\n",
    "2. **klíčové** argumenty,\n",
    "3. **defaultní** parametry,\n",
    "4. **position-only** parametry,\n",
    "5. **\\*args**,\n",
    "6. **\\*\\*kwargs**.\n",
    "\n"
   ]
  },
  {
   "cell_type": "markdown",
   "metadata": {},
   "source": [
    "<br>\n",
    "\n",
    "##### Poziční parametry\n",
    "\n",
    "Ze jména je patrné, že v této variantě záleží **na pozici** (tedy *pořadí*), ve kterém **parametry** (i *argumenty*) zapíšeš:"
   ]
  },
  {
   "cell_type": "code",
   "execution_count": null,
   "metadata": {},
   "outputs": [],
   "source": [
    "def uloz_informace(jmeno, prijmeni, telefon):\n",
    "    return {\n",
    "        \"jmeno\": jmeno,\n",
    "        \"prijmeni\": prijmeni,\n",
    "        \"telefon\": telefon\n",
    "}"
   ]
  },
  {
   "cell_type": "code",
   "execution_count": null,
   "metadata": {},
   "outputs": [],
   "source": [
    "print(uloz_informace(\"Matouš\", \"Holinka\", \"+420 777 666 555\"))"
   ]
  },
  {
   "cell_type": "markdown",
   "metadata": {},
   "source": [
    "V ukázce vidíš, že *parametry* jsou uspořádané **za sebou** a jednotlivé *argumenty* jsou zapsané v odpovídajícím pořadí.\n",
    "\n",
    "| Pozice |\tParametr |\tArgument |\n",
    "| :-: | :-: | :-: |\n",
    "| 1\t| jmeno\t| \"Matouš\" |\n",
    "| 2 | prijmeni\t| \"Holinka\" |\n",
    "| 3\t| telefon\t| \"+420 777 666 555\" |\n",
    "\n",
    "Současně jde o jednu **z nejpoužívanějších** a **nejznámějších variant**, takže pokud není komplikované pochopit, jaký *argument* patří do jakého *parametru*, budeš chtít zapsat vstupy touto formou."
   ]
  },
  {
   "cell_type": "markdown",
   "metadata": {},
   "source": [
    "<br>\n",
    "\n",
    "##### Klíčové argumenty\n",
    "\n",
    "Zapisování podle *pozice* nemusí být ale **vždy přehledné**.\n",
    "\n",
    "Třeba pokud jsou všechny tři parametry **stejného datového typu** (`int`) a ještě jsou **samotné hodnoty podobné**."
   ]
  },
  {
   "cell_type": "code",
   "execution_count": null,
   "metadata": {},
   "outputs": [],
   "source": [
    "def vypocitej_hodnotu(k1, k2, k3):\n",
    "    \"\"\"\n",
    "    Vypocitej hodnotu na zaklade tri zadanych koeficinetu.\n",
    "    \"\"\"\n",
    "    return (1 / k1) * (k2 ** k3)"
   ]
  },
  {
   "cell_type": "code",
   "execution_count": null,
   "metadata": {},
   "outputs": [],
   "source": [
    "print(vypocitej_hodnotu(1, 2, 4))"
   ]
  },
  {
   "cell_type": "markdown",
   "metadata": {},
   "source": [
    "V ukázce je definice funkce `vypocitej_hodnotu` s parametry představující *koeficienty rovnice*.\n",
    "\n",
    "Ve všech třech parametrech se počítá **s číselnou hodnotu**.\n",
    "\n",
    "<br>\n",
    "\n",
    "Jejich umístění ve vzorečku **je zásadní**, jinak dostaneš odlišné výsledky.\n",
    "\n",
    "Právě v takovém případě je velice příhodné **přiřadit jednotlivé hodnoty explicitně k příslušným parametrům**:"
   ]
  },
  {
   "cell_type": "code",
   "execution_count": null,
   "metadata": {},
   "outputs": [],
   "source": [
    "def vypocitej_hodnotu(k1, k2, k3):\n",
    "    \"\"\"\n",
    "    Vypocitej hodnotu na zaklade tri zadanych koeficinetu.\n",
    "    \"\"\"\n",
    "    return (1 / k1) * (k2 ** k3)"
   ]
  },
  {
   "cell_type": "code",
   "execution_count": null,
   "metadata": {},
   "outputs": [],
   "source": [
    "print(vypocitej_hodnotu(k1=0.5, k2=3, k3=2))"
   ]
  },
  {
   "cell_type": "markdown",
   "metadata": {},
   "source": [
    "Nebo udělat **spuštění funkce** ještě přehlednější pomocí zápisu **pod sebe**:"
   ]
  },
  {
   "cell_type": "code",
   "execution_count": null,
   "metadata": {},
   "outputs": [],
   "source": [
    "print(\n",
    "    vypocitej_hodnotu(\n",
    "        k1=0.5,\n",
    "        k2=3,\n",
    "        k3=2\n",
    "    )\n",
    ")"
   ]
  },
  {
   "cell_type": "markdown",
   "metadata": {},
   "source": [
    "Takže pokud budeš mít **větší množství parametrů**, nebo se v nich budeš ztrácet, určitě použij tuto variantu."
   ]
  },
  {
   "cell_type": "markdown",
   "metadata": {},
   "source": [
    "<br>\n",
    "\n",
    "##### Defaultní parametry\n",
    "\n",
    "Někdy dojdeš k závěru, že *uživatelská funkce*, kterou tvoříš, potřebuje alespoň **jeden parametr**, který bude ve většině spouštění používat **tutéž hodnotu**.\n",
    "\n",
    "V takovém případě můžeš do předpisu zapsat *defaultní parametr*:"
   ]
  },
  {
   "cell_type": "code",
   "execution_count": null,
   "metadata": {},
   "outputs": [],
   "source": [
    "def vytvor_pozdrav(jmeno, dovetek=\"jak se vede?\"):\n",
    "    return f\"Ahoj, toto je {jmeno}, {dovetek}\""
   ]
  },
  {
   "cell_type": "code",
   "execution_count": null,
   "metadata": {},
   "outputs": [],
   "source": [
    "vytvor_pozdrav(\"Matouš\")"
   ]
  },
  {
   "cell_type": "markdown",
   "metadata": {},
   "source": [
    "Při spuštění funkce `vytvor_pozdrav` není přítomen **žádný druhý argument** a funkci lze přesto spustit.\n",
    "\n",
    "Tudíž můžeš říct, že zápis *defaultního argumentu* je **volitelná záležitost**."
   ]
  },
  {
   "cell_type": "code",
   "execution_count": null,
   "metadata": {},
   "outputs": [],
   "source": [
    "vytvor_pozdrav(\"Lukáš\")"
   ]
  },
  {
   "cell_type": "markdown",
   "metadata": {},
   "source": [
    "Takže pokud **nevložíš žádný argument**, bude funkce `vytvor_pozdrav` automaticky pracovat se stringem `\"jak se vede?\"`.\n",
    "\n",
    "Pokud se však rozhodneš, že tebou zadaný defaultní parametr bude potřeba **nějak upravit**, můžeš jej snadno přepsat jinou hodnotou.\n"
   ]
  },
  {
   "cell_type": "code",
   "execution_count": null,
   "metadata": {},
   "outputs": [],
   "source": [
    "vystup = vytvor_pozdrav(\"Lukáš\", \"tak dneska zase funkce, jo?\")"
   ]
  },
  {
   "cell_type": "code",
   "execution_count": null,
   "metadata": {},
   "outputs": [],
   "source": [
    "print(vystup)"
   ]
  },
  {
   "cell_type": "markdown",
   "metadata": {},
   "source": [
    "<br>\n",
    "\n",
    "##### Jen poziční parametry\n",
    "\n",
    "Od verze **Pythonu 3.8** je dostupná tato nová varianta pro zápis *parametrů u uživatelských funkcí*."
   ]
  },
  {
   "cell_type": "code",
   "execution_count": null,
   "metadata": {},
   "outputs": [],
   "source": [
    "def napis_pozdrav(jmeno, /, registrovany):\n",
    "    if not registrovany:\n",
    "        print(\"Nejsi uzivatel!\")\n",
    "    print(\"Ahoj,\", jmeno)\n",
    "\n",
    "\n",
    "napis_pozdrav(jmeno=\"Matouš\", uzivatel=True)"
   ]
  },
  {
   "cell_type": "markdown",
   "metadata": {},
   "source": [
    "Účelem tohoto typu parametrů je vynutit od uživatele zápis všech parametrů **nalevo** od lomítka `\\` jako **poziční**.\n",
    "\n",
    "Zatím co parametry **napravo** od lomítka můžeš pořád zapsat buď jako *poziční*, nebo jako *klíčové*.\n",
    "\n",
    "V ukázce níž chceš pozdravit uživatele jménem, pokud **je registrovaný** (tedy `registrovany=True`):"
   ]
  },
  {
   "cell_type": "code",
   "execution_count": null,
   "metadata": {},
   "outputs": [],
   "source": [
    "napis_pozdrav(\"Matouš\", True)"
   ]
  },
  {
   "cell_type": "code",
   "execution_count": null,
   "metadata": {},
   "outputs": [],
   "source": [
    "napis_pozdrav(\"Matouš\", registrovany=True)"
   ]
  },
  {
   "cell_type": "markdown",
   "metadata": {},
   "source": [
    "Nyní ukázka funguje přesně tak, jak je zamýšleno.\n",
    "\n",
    "Vzhledem k tomu, že je to **novější varianta** a **není vhodná pro všechny situace**, se s touto formou vstupů tolik nesetkáš."
   ]
  },
  {
   "cell_type": "markdown",
   "metadata": {},
   "source": [
    "<br>\n",
    "\n",
    "##### *args\n",
    "\n",
    "Pokud znáš jiné programovací jazyky (jako C nebo C++), možná máš pocit, že symbol `*` má něco společného **s pointery**. Nicméně Python tuto funcionalitu **nepodporuje**.\n",
    "\n",
    "Naopak pomáhá v rámci parametrů oznámit interpretu, že funkce umí pracovat **s různým množstvím argumentů**.\n",
    "\n",
    "Zásadní je právě přítomnost `*`, jméno `args` potom slouží hlavně jako konvence mezi programátory. Klidně ale můžeš zapsat `*argumenty`.\n",
    "\n",
    "<br>\n",
    "\n",
    "Představ si situaci, kdy budeš chtít vypočítat průměrnou hodnotu pro zadaný parametr `args`:"
   ]
  },
  {
   "cell_type": "code",
   "execution_count": null,
   "metadata": {},
   "outputs": [],
   "source": [
    "def vypocitej_prumer(args):\n",
    "    return sum(args) / len(args)"
   ]
  },
  {
   "cell_type": "code",
   "execution_count": null,
   "metadata": {},
   "outputs": [],
   "source": [
    "moje_cisla = [1, 2, 3, 4, 5]\n",
    "\n",
    "print(vypocitej_prumer(moje_cisla))"
   ]
  },
  {
   "cell_type": "markdown",
   "metadata": {},
   "source": [
    "V ukázce výše si můžeš ověřit, že pro takové zadání není třeba pracovat s `*`.\n",
    "\n",
    "Prostě vytvoříš proměnnou, např. `moje_cisla`, **do ní uložíš hodnoty** a celou proměnnou vložíš jako argument do funkce `vypocitej_prumer`.\n",
    "\n",
    "To ale vždy **není reálné** a **praktické**, protože hodnoty nemusíš mít dopředu zadané.\n",
    "\n",
    "<br>\n",
    "\n",
    "Co když dostaneš čísla až **v rámci spuštění funkce**?"
   ]
  },
  {
   "cell_type": "code",
   "execution_count": null,
   "metadata": {},
   "outputs": [],
   "source": [
    "def vypocitej_prumer(args):\n",
    "    return sum(args) / len(args)"
   ]
  },
  {
   "cell_type": "code",
   "execution_count": null,
   "metadata": {},
   "outputs": [],
   "source": [
    "print(vypocitej_prumer(1, 2, 3, 4, 5))"
   ]
  },
  {
   "cell_type": "markdown",
   "metadata": {},
   "source": [
    "Tentokrát dostaneš výjimku `TypeError`, která ti oznamuje, že na **jeden parametr** máš nachystaný **větší počet argumentů**.\n",
    "\n",
    "V takovém případě funkci **nelze spustit**.\n",
    "\n",
    "Proto je potřeba doplnit správně zapsaný parametr `*args`, o různém počtu **potenciálních hodnot**:"
   ]
  },
  {
   "cell_type": "code",
   "execution_count": null,
   "metadata": {},
   "outputs": [],
   "source": [
    "def vypocitej_prumer(*args):\n",
    "    return sum(args) / len(args)"
   ]
  },
  {
   "cell_type": "code",
   "execution_count": null,
   "metadata": {},
   "outputs": [],
   "source": [
    "print(vypocitej_prumer(1, 2, 3, 4, 5))"
   ]
  },
  {
   "cell_type": "code",
   "execution_count": null,
   "metadata": {},
   "outputs": [],
   "source": [
    "print(vypocitej_prumer(1, 2, 3, 4, 5, 1, 2, 3, 2, 3))"
   ]
  },
  {
   "cell_type": "markdown",
   "metadata": {},
   "source": [
    "Nyní v podstatě funkci `vypocitej_prumer` zapsanou **hvězdičkou** oznamuješ, že parametr `args` může mít **jakýkoliv počet hodnot**."
   ]
  },
  {
   "cell_type": "markdown",
   "metadata": {},
   "source": [
    "<br>\n",
    "\n",
    "##### **kwargs\n",
    "\n",
    "Dalším způsobem pro zápis vstupů, je varianta pomocí dvou hvězdiček `**`.\n",
    "\n",
    "Tentokrát seskupuješ dohromady **jména objektů a jejich hodnot** o libovolném množství párů.\n",
    "\n",
    "**Jméno** parametru je opět *volitelné*, ale je doporučováno, držet se všeobecné konvence `kwargs` (~*keyword arguments*).\n",
    "\n",
    "<br>\n",
    "\n",
    "Opět si představ situaci, že postupně dostáváš hodnoty, které potřebuješ schovávat **do slovníku**:"
   ]
  },
  {
   "cell_type": "code",
   "execution_count": null,
   "metadata": {},
   "outputs": [],
   "source": [
    "def vytvor_slovnik(**kwargs):\n",
    "    \"\"\"\n",
    "    Vrať slovník, který obsahuje libovolné množství sbalených hodnot. \n",
    "    \"\"\"\n",
    "    vysledek = dict()\n",
    "\n",
    "    for klic, hodnota in kwargs.items():\n",
    "        vysledek[klic] = hodnota\n",
    "\n",
    "    return vysledek"
   ]
  },
  {
   "cell_type": "code",
   "execution_count": null,
   "metadata": {},
   "outputs": [],
   "source": [
    "print(vytvor_slovnik(jmeno=\"Matous\", prijmeni=\"Holinka\"))"
   ]
  },
  {
   "cell_type": "markdown",
   "metadata": {},
   "source": [
    "Ukázka výše pracuje se **dvěma argumenty** `jmeno` a `prijmeni`. To ale neznamená, že jich neumí zpracovat víc.\n",
    "\n",
    "<br>\n",
    "\n",
    "V dalším příkladě budeš mít celkem **4 páry** *klíčů* a *hodnot*:"
   ]
  },
  {
   "cell_type": "code",
   "execution_count": null,
   "metadata": {},
   "outputs": [],
   "source": [
    "from pprint import pprint\n",
    "\n",
    "pprint(\n",
    "    vytvor_slovnik(\n",
    "        jmeno=\"Matous\",\n",
    "        prijmeni=\"Holinka\",\n",
    "        vek=90,\n",
    "        email=\"matous@holinka.cz\"\n",
    "    )\n",
    ")"
   ]
  },
  {
   "cell_type": "markdown",
   "metadata": {},
   "source": [
    "Výsledkem je opět datový typ `dict`, který nám vrátí funkce `vytvor_slovnik`, obsahující všechny zadané **argumenty**."
   ]
  },
  {
   "cell_type": "markdown",
   "metadata": {},
   "source": [
    "<br>\n",
    "\n",
    "##### Souhrn\n",
    "\n",
    "Aby v tom byl alespoň částečně pořádek, níže je uvedená tabulka se **základními charakteristikami**.\n",
    "\n",
    "| Typ vstupu | Ukázka | Kdy používat |\n",
    "| :- | :- | :- |\n",
    "| **poziční vstupy** | `moje_funkce(jmeno, prijmeni)` | ve většině případech, kde není matoucí **pořadí** argumentů, | \n",
    "| **klíčové argumenty** | `moje_funkce(jmeno=\"Tom\", prijmeni=\"Hrom\")` | pokud je pořadí argumentů **nepřehledné**, pojmenuj je, |\n",
    "| **defaultní parametry** | `moje_funkce(email, registrovany=True)` | pokud potřebuješ při spouštění stejný parametr, napiš jej jako *defaultní*, |  \n",
    "| **position-only parametry** | `moje_funkce(jmeno, /, registrovany)` | pokud potřebuješ vynutit zápis **klíčového argumentu**, |\n",
    "| **\\*args** | `moje_funkce(*args)` | pokud má funkce pracovat **s různým množstvím** hodnot v *sekvenci*, |\n",
    "| **\\*\\*kwargs** |  `moje_funkce(**kwargs)` | pokud má funkce pracovat **s různým množstvím** hodnot v párech *klíč*, *hodnota*. |"
   ]
  },
  {
   "cell_type": "markdown",
   "metadata": {},
   "source": [
    "<br>\n",
    "\n",
    "<img src=\"https://sebastianraschka.com/images/blog/2014/scope_resolution_legb_rule/scope_resolution_1.png\" width=\"400\">\n",
    "\n",
    "### Rámce\n",
    "\n",
    "---\n"
   ]
  },
  {
   "cell_type": "markdown",
   "metadata": {},
   "source": [
    "Možná narazíš na situaci, kdy bude *interpret* skoupý na slovo a **nedovolí ti přistoupit** k tebou zadané proměnné."
   ]
  },
  {
   "cell_type": "code",
   "execution_count": null,
   "metadata": {},
   "outputs": [],
   "source": [
    "def vytvor_jmeno():\n",
    "    \"\"\"\n",
    "    Jen definuj proměnnou uvnitř funkce.\n",
    "    \"\"\"\n",
    "    jmeno = \"Jan\""
   ]
  },
  {
   "cell_type": "code",
   "execution_count": null,
   "metadata": {},
   "outputs": [],
   "source": [
    "vytvor_jmeno()\n",
    "\n",
    "print(jmeno)"
   ]
  },
  {
   "cell_type": "markdown",
   "metadata": {},
   "source": [
    "Pokud si spuštíš ukázku, objeví se výjimka `NameError`, která ti tvrdí, že proměnná `jmeno` **není definovaná**.\n",
    "\n",
    "Přitom je jasně vidět, že proměnná `jmeno` je zapsaná na **řádku 5**.\n",
    "\n",
    "Jak je to možné?"
   ]
  },
  {
   "cell_type": "code",
   "execution_count": null,
   "metadata": {},
   "outputs": [],
   "source": [
    "def vytvor_jmeno():\n",
    "    \"\"\"\n",
    "    Jen definuj proměnnou uvnitř funkce.\n",
    "    \"\"\"\n",
    "    jmeno = \"Jan\"\n",
    "    print(jmeno)"
   ]
  },
  {
   "cell_type": "code",
   "execution_count": null,
   "metadata": {},
   "outputs": [],
   "source": [
    "vytvor_jmeno()"
   ]
  },
  {
   "cell_type": "markdown",
   "metadata": {},
   "source": [
    "Funkce `print` se nyní nachází uvnitř *uživatelské funkce* `vytvor_jmeno`.\n",
    "\n",
    "Po spuštění už **nenastane výjimka**, ale vidíš konkrétní hodnotu uvnitř proměnné `jmeno`.\n",
    "\n",
    "<br>\n",
    "\n",
    "**Jedinný rozdíl**, který je mezi oběma ukázkami, je ten, kam funkci `print` zapíšeš. Tedy:\n",
    "1. **Do funkce** `vytvor_jmeno`,\n",
    "2. **mimo funkci** `vytvor_jmeno`.\n",
    "\n",
    "Kdy výsledkem *interpreta* bude, že proměnnou `jmeno` **dokáže**/ **nedokáže** dohledat, pokud proměnná není součást **rámce funkce**."
   ]
  },
  {
   "cell_type": "markdown",
   "metadata": {},
   "source": [
    "#### Co je tedy rámec\n",
    "\n",
    "Teď, když víš, že *interpret* nenajde proměnné vždy, můžeš obecně říct, že jsi proměnnou `jmeno` hledal na různých místech.\n",
    "\n",
    "Jinak řečeno, v různých *rámcích*.\n",
    "\n",
    "<br>\n",
    "\n",
    "**Rámec** si můžeš představit jako *slovník* z Pythonu. Tento slovník, vždy obsahuje:\n",
    "1. **Klíče**, tedy jména proměnných (`jmeno`),\n",
    "2. **hodnoty**, hodnoty, na které proměnné ukazují (`\"Jan\"`).\n",
    "\n",
    "<br>\n",
    "\n",
    "V Pythonu se obecně můžeš setkat s těmito rámci:\n",
    "\n",
    "1. **Zabudovaný rámec** (~*built-in scope*),\n",
    "2. **globální rámec** (~*global scope*),\n",
    "3. **uzavírající rámec** (~*enclosing scope*, příp. *nonlocal scope*),\n",
    "4. **lokální rámec** (~*local scope*)."
   ]
  },
  {
   "cell_type": "markdown",
   "metadata": {},
   "source": [
    "##### Zabudovaný rámec\n",
    "\n",
    "**Zabudovaný** rámec nebo také *built-in* rámec je takový rámec, který obsahuje všechny standardní objekty, které nyní znáš. Tedy:\n",
    "1. **Zabudované funkce**, jako `print`, `sum`, `help`, aj.,\n",
    "2. **Výjimky** (typy chyb), jako `KeyError`, `SyntaxError`, aj.,\n",
    "\n",
    "<br>\n",
    "\n",
    "Automaticky se načtou do tvého **globálního rámce** ihned jak spustíš *interpret*. Takže je nepotřebuješ pokaždé *importovat* ručně.\n",
    "\n",
    "Jejich přítomnost si můžeš zkontrolovat v interpretu:\n",
    "```\n",
    ">>> dir()\n",
    "['__annotations__', '__builtins__', ...  # všimni si hodnoty \"__builtins__\"\n",
    "```"
   ]
  },
  {
   "cell_type": "code",
   "execution_count": null,
   "metadata": {},
   "outputs": [],
   "source": [
    "print(dir())  # pro terminál, nebo notebook"
   ]
  },
  {
   "cell_type": "markdown",
   "metadata": {},
   "source": [
    "Co tato hodnota obsahuje, můžeš také vypsat zkontrolovat:"
   ]
  },
  {
   "cell_type": "code",
   "execution_count": null,
   "metadata": {},
   "outputs": [],
   "source": [
    "print(dir(__builtins__))"
   ]
  },
  {
   "cell_type": "markdown",
   "metadata": {},
   "source": [
    "Na základě toho můžeš se všemi objekty uvnitř **zabudovaného rámce** jednoduše pracovat, kdykoliv a kdekoliv potřebuješ."
   ]
  },
  {
   "cell_type": "markdown",
   "metadata": {},
   "source": [
    "#### Globální rámec\n",
    "\n",
    "V momentě, kdy spouštíš soubor s příponou `.py`, nebo otevíráš interaktivní prostředí *intrepreta*, vytváříš automaticky nový **globální rámec**.\n",
    "\n",
    "<br>\n",
    "\n",
    "V tomto rámci si Python **eviduje** a **schovává** všechny objekty. Jeho obsah si opět můžeš zkontrolovat pomocí zabudované funkce `globals`:"
   ]
  },
  {
   "cell_type": "code",
   "execution_count": null,
   "metadata": {},
   "outputs": [],
   "source": [
    "vek = 44\n",
    "jmeno = \"Matous\"\n",
    "je_uzivatel = True"
   ]
  },
  {
   "cell_type": "code",
   "execution_count": null,
   "metadata": {},
   "outputs": [],
   "source": [
    "print(globals())  # Jupyterovské proměnné zaplní výstup"
   ]
  },
  {
   "cell_type": "code",
   "execution_count": null,
   "metadata": {},
   "outputs": [],
   "source": [
    "!./../onsite/lesson00/global_scope.py"
   ]
  },
  {
   "cell_type": "markdown",
   "metadata": {},
   "source": [
    "Nemusíš znát všechny klíče, ale určitě si všimni, že klíče `\"jmeno\"`, `\"vek\"` a `\"je_uzivatel\"` jsou součástí výstupu funkce `globals`, která vypisuje všechny objekty v **aktuálním globálním rámci**.\n",
    "\n",
    "<br>\n",
    "\n",
    "Je důležité myslet na to, že jakmile program ukončíš nebo ukončíš prostředí *interpreta*, **globální rámec zaniká**."
   ]
  },
  {
   "cell_type": "code",
   "execution_count": null,
   "metadata": {},
   "outputs": [],
   "source": [
    "print(globals())  # restart ipynb kernel(!)"
   ]
  },
  {
   "cell_type": "markdown",
   "metadata": {},
   "source": [
    "Nyní už **nemáš přístup** k proměnným `\"jmeno\"`, `\"vek\"` a `\"je_uzivatel\"`, zapsaných v minulé ukázce, protože jde o nový **globální rámec**."
   ]
  },
  {
   "cell_type": "code",
   "execution_count": null,
   "metadata": {},
   "outputs": [],
   "source": [
    "jmeno = \"Matous\"\n",
    "vek = 44\n",
    "je_uzivatel = True\n",
    "\n",
    "\n",
    "def vytvor_pozdrav(jmeno, /, uzivatel):\n",
    "    pass\n",
    "\n",
    "\n",
    "print(globals())"
   ]
  },
  {
   "cell_type": "markdown",
   "metadata": {},
   "source": [
    "Nejenom proměnné patří do **globálního rámce**.\n",
    "\n",
    "Všimni si, že tentokrát najdeš *mezi klíči* také jméno funkce `\"vytvor_pozdrav\"`:"
   ]
  },
  {
   "cell_type": "code",
   "execution_count": null,
   "metadata": {},
   "outputs": [],
   "source": [
    "vek = 44\n",
    "jmeno = \"Matous\"\n",
    "je_uzivatel = True\n",
    "\n",
    "\n",
    "def vytvor_pozdrav(jmeno, /, uzivatel):\n",
    "    if not uzivatel:\n",
    "        pozdrav = f\"{jmeno}, není uživatel\"\n",
    "    else:\n",
    "        pozdrav = f\"Ahoj, {jmeno}\"\n",
    "        \n",
    "    return pozdrav\n",
    "    \n",
    "\n",
    "print(globals())"
   ]
  },
  {
   "cell_type": "markdown",
   "metadata": {},
   "source": [
    "Pokud do uživatelské funkce `vytvor_pozdrav` doplníš proměnnou `pozdrav` a necháš si zabudovanou funkcí `globals` vypsat obsah **globálního rámce**, tuto proměnnou tam nenajdeš.\n",
    "\n",
    "<br>\n",
    "\n",
    "Nenajdeš tam ani parametry funkce `jmeno` a `uzivatel`. Ty totiž nepatří do společného **globálního rámce**, ale ke konkrétnímu **lokálnímu rámci** funkce `vytvor_pozdrav`."
   ]
  },
  {
   "cell_type": "markdown",
   "metadata": {},
   "source": [
    "#### Lokální rámce\n",
    "\n",
    "Zatímco **globální rámec** je v daný moment aktivní pouze jediný, **lokálních rámců** můžeš mít několik.\n",
    "\n",
    "<br>\n",
    "\n",
    "Například každá funkce má svůj vlastní **lokální rámec**."
   ]
  },
  {
   "cell_type": "code",
   "execution_count": null,
   "metadata": {},
   "outputs": [],
   "source": [
    "vek = 44\n",
    "jmeno = \"Matous\"\n",
    "je_uzivatel = True\n",
    "\n",
    "\n",
    "def vytvor_pozdrav(jmeno, /, uzivatel):\n",
    "    if not uzivatel:\n",
    "        pozdrav = f\"{jmeno}, není uživatel\"\n",
    "    else:\n",
    "        pozdrav = f\"Ahoj, {jmeno}\"\n",
    "\n",
    "    print(locals())\n",
    "    return pozdrav\n",
    "\n",
    "\n",
    "pozdrav = vytvor_pozdrav(jmeno, uzivatel=je_uzivatel)"
   ]
  },
  {
   "cell_type": "markdown",
   "metadata": {},
   "source": [
    "Můžeš si všimnout, že proměnnými v **lokálním rámci** jsou oba parametry `jmeno`\n",
    "a `uzivatel`. Dále také proměnná `pozdrav`.\n",
    "\n",
    "<br>\n",
    "\n",
    "Další důležitým faktem je umístění ohlášení `print(locals())`.\n",
    "\n",
    "Je podstatné, vložit jej do té funkce, odkud chceš objekty **lokálního rámce** zkontrolovat.\n",
    "\n",
    "Tedy v odsazených ohlášeních ve funkci `vytvor_pozdrav`."
   ]
  },
  {
   "cell_type": "code",
   "execution_count": null,
   "metadata": {},
   "outputs": [],
   "source": [
    "vek = 44\n",
    "jmeno = \"Matous\"\n",
    "je_uzivatel = True\n",
    "\n",
    "\n",
    "def vytvor_pozdrav(jmeno, /, uzivatel):\n",
    "    if not uzivatel:\n",
    "        pozdrav = f\"{jmeno}, není uživatel\"\n",
    "    else:\n",
    "        pozdrav = f\"Ahoj, {jmeno}\"\n",
    "\n",
    "    print(\"1. funkce:\", locals())\n",
    "    return pozdrav\n",
    "\n",
    "\n",
    "def over_vek(vek):\n",
    "    print(\"2. funkce:\", locals())\n",
    "    return vek >= 18\n",
    "\n",
    "\n",
    "pozdrav = vytvor_pozdrav(jmeno, uzivatel=je_uzivatel)\n",
    "dospely = over_vek(vek)"
   ]
  },
  {
   "cell_type": "markdown",
   "metadata": {},
   "source": [
    "Podle výstupu můžeš říct, že **lokální rámce** pro funkci `vytvor_pozdrav`\n",
    "a `over_vek` jsou **dva odlišné** rámce.\n",
    "\n",
    "Tudíž Python vytváří pro každou funkci speciální a oddělených **lokální rámec**.\n",
    "\n",
    "Tím se snaží redukovat možné kolize a křížení jmen proměnných.\n",
    "\n",
    "<br>\n",
    "\n",
    "Pokud se rozhodneš pracovat s funkcemi, snaž se vyhnout křížením **globálního**\n",
    "a **lokálních** rámců.\n",
    "\n",
    "Nezapomeň, že správně napsaná *uživatelská funkce* pracuje jen se **svými parametry** a objekty **uvnitř funkce vytvořených**."
   ]
  },
  {
   "cell_type": "code",
   "execution_count": null,
   "metadata": {},
   "outputs": [],
   "source": [
    "# TAKHLE NE!\n",
    "vek = 44\n",
    "\n",
    "\n",
    "def over_vek():\n",
    "    return vek >= 18\n",
    "\n",
    "\n",
    "print(over_vek())"
   ]
  },
  {
   "cell_type": "markdown",
   "metadata": {},
   "source": [
    "Takto *uživatelská funkce* sice **funguje**,  ale dopouštíš se prohřešku vůči pravidlům\n",
    "pro správně definovanou *uživatelskou funkci* (vyhnout křížením **globálního a lokálních rámců**)."
   ]
  },
  {
   "cell_type": "code",
   "execution_count": null,
   "metadata": {},
   "outputs": [],
   "source": [
    "# TAKHLE ANO!\n",
    "vek = 44\n",
    "\n",
    "\n",
    "def over_vek(vek):\n",
    "    return vek >= 18\n",
    "\n",
    "\n",
    "print(over_vek(vek))"
   ]
  },
  {
   "cell_type": "markdown",
   "metadata": {},
   "source": [
    "#### Uzavírající rámec\n",
    "\n",
    "Jde o *rámec*, který vznikne, pokud do funkce **vložíš** (*nestuješ*) **jinou funkci**."
   ]
  },
  {
   "cell_type": "code",
   "execution_count": null,
   "metadata": {},
   "outputs": [],
   "source": [
    "def vnejsi_funkce():\n",
    "    # tento rámec byl doposud *lokální*\n",
    "    # pokud se uvnitř lokálního rámce nachází jiný *lokální rámec*,\n",
    "    # .. jde současně o *uzavírající rámec*\n",
    "    \n",
    "    print(\"Ted se nachazis ve vnejsi funkci\")\n",
    "\n",
    "    def vnitrni_funkce():\n",
    "        # oddělený *lokální rámec*\n",
    "        \n",
    "        print(\"Ted se nachazis ve vnitrni funkci\")\n",
    "    \n",
    "\n",
    "    vnitrni_funkce()"
   ]
  },
  {
   "cell_type": "code",
   "execution_count": null,
   "metadata": {},
   "outputs": [],
   "source": [
    "vnejsi_funkce()"
   ]
  },
  {
   "cell_type": "markdown",
   "metadata": {},
   "source": [
    "Pokud doplníš proměnné `var_1` a `var_2` do obou funkcí, zjistíš, že každá opět vidí **odlišné objekty**:"
   ]
  },
  {
   "cell_type": "code",
   "execution_count": null,
   "metadata": {},
   "outputs": [],
   "source": [
    "def vnejsi_funkce():\n",
    "    var_1 = 10\n",
    "\n",
    "    def vnitrni_funkce():\n",
    "        var_2 = 20\n",
    "        print(\"lokální:\", locals())\n",
    "    \n",
    "    print(\"uzavírající:\", locals())\n",
    "    \n",
    "    vnitrni_funkce()"
   ]
  },
  {
   "cell_type": "code",
   "execution_count": null,
   "metadata": {},
   "outputs": [],
   "source": [
    "vnejsi_funkce()"
   ]
  },
  {
   "cell_type": "markdown",
   "metadata": {},
   "source": [
    "Samotnou funkci `vnitrni_funkce` nelze spustit mimo **uzavírající rámec**.\n",
    "\n",
    "Této funkcionality **uzavírajících rámců** se využívá u tzv. *closures*.\n",
    "\n",
    "*Closures* se v Pythonu řadí mezi **pokročilejší témata**, každopádně si je můžeš představit jako následující ukázku:"
   ]
  },
  {
   "cell_type": "code",
   "execution_count": null,
   "metadata": {},
   "outputs": [],
   "source": [
    "def umocnovaci_funkce(exponent):\n",
    "    def umocni_hodnotu(cislo):\n",
    "        return cislo ** exponent\n",
    "    return umocni_hodnotu"
   ]
  },
  {
   "cell_type": "code",
   "execution_count": null,
   "metadata": {},
   "outputs": [],
   "source": [
    "# nastavím parametr *exponent = 2*\n",
    "na_druhou = umocnovaci_funkce(2)"
   ]
  },
  {
   "cell_type": "code",
   "execution_count": null,
   "metadata": {},
   "outputs": [],
   "source": [
    "print(\n",
    "    na_druhou(5),\n",
    "    na_druhou(10),\n",
    "    na_druhou(9),\n",
    "    sep=\"\\n\"\n",
    ")"
   ]
  },
  {
   "cell_type": "code",
   "execution_count": null,
   "metadata": {},
   "outputs": [],
   "source": [
    "# nastavím parametr *exponent = 3*\n",
    "na_treti = umocnovaci_funkce(3)\n",
    "print(na_treti(2))"
   ]
  },
  {
   "cell_type": "markdown",
   "metadata": {},
   "source": [
    "Problematika okolo **uzavírajících rámců** je trochu složitější než rámec **zabudovaný**, **globální**, nebo **lokální** rámce.\n",
    "\n",
    "Na začátek **není nutné** rozumět jejich použití úplně do podrobna. Je ale dobré vědět, že se s nimi můžeš setkat, případně kde. Ať tě případně jejich existence nepřekvapí."
   ]
  },
  {
   "cell_type": "markdown",
   "metadata": {},
   "source": [
    "#### Souhrn rámců\n",
    "\n",
    "Proč je tedy tak **zásadní** pochopit jak *rámce* v Pythonu fungují?"
   ]
  },
  {
   "cell_type": "code",
   "execution_count": null,
   "metadata": {},
   "outputs": [],
   "source": [
    "ramec = \"globalni\"\n",
    "\n",
    "def vnejsi_funkce():\n",
    "#     ramec = \"uzavirajici\"\n",
    "\n",
    "    def vnitrni_funkce():\n",
    "#         ramec = \"lokalni\"\n",
    "        print(ramec)\n",
    "\n",
    "    vnitrni_funkce()"
   ]
  },
  {
   "cell_type": "code",
   "execution_count": null,
   "metadata": {},
   "outputs": [],
   "source": [
    "vnejsi_funkce()"
   ]
  },
  {
   "cell_type": "markdown",
   "metadata": {},
   "source": [
    "Díky odděleným *rámcům* uvnitř Pythonu můžeme používat **stejná jména proměnných** uvnitř **různých** *rámců*.\n",
    "\n",
    "Pokud však nebudeš pracovat s **uživatelskými funkcemi** pomocí *vstupů*, může být následné chování interpreta matoucí."
   ]
  },
  {
   "cell_type": "code",
   "execution_count": 1,
   "metadata": {},
   "outputs": [
    {
     "name": "stdout",
     "output_type": "stream",
     "text": [
      "<class 'str'>\n"
     ]
    }
   ],
   "source": [
    "\n",
    "def vnejsi_funkce():\n",
    "    def vnitrni_funkce():\n",
    "        print(str)\n",
    "\n",
    "    vnitrni_funkce()\n",
    "vnejsi_funkce()"
   ]
  },
  {
   "cell_type": "markdown",
   "metadata": {},
   "source": [
    "Nyní už Python **nemá** kam nahlédnout.\n",
    "\n",
    "A protože doposud **nenašel** objekt `ramec`, nezbývá mu, než vrátit výjimku `NameError`:\n",
    "```\n",
    "str = \"Matouš\"\n",
    "```\n",
    "\n",
    "Právě proto je podstatné vědět, jak Python pracuje s **jednotlivými rámci**.\n",
    "\n",
    "<br>\n",
    "\n",
    "Dále vidíš, že je důležité nepracovat s proměnnými v *globálním rámci* na pozadí, ale přímo zadávat řádné **vstupy** *uživatelským funkcím*."
   ]
  },
  {
   "cell_type": "code",
   "execution_count": 2,
   "metadata": {},
   "outputs": [],
   "source": [
    "def vnejsi_funkce(ramec):\n",
    "\n",
    "    def vnitrni_funkce(ramec):\n",
    "        print(ramec)\n",
    "\n",
    "    vnitrni_funkce(ramec)"
   ]
  },
  {
   "cell_type": "code",
   "execution_count": 3,
   "metadata": {},
   "outputs": [
    {
     "name": "stdout",
     "output_type": "stream",
     "text": [
      "lokalni\n"
     ]
    }
   ],
   "source": [
    "vnejsi_funkce(\"lokalni\")"
   ]
  },
  {
   "cell_type": "markdown",
   "metadata": {},
   "source": [
    "\n",
    "\n",
    "<img src=\"https://www.pinclipart.com/picdir/big/544-5449956_image-edit-document-icon-png-clipart.png\" width=\"200\">\n",
    "\n",
    "\n",
    "### Docstring\n",
    "\n",
    "Psát **dokumentaci** funkce resp. *docstring* je volitelnou záležitostí.\n",
    "\n",
    "Někdy potřebuješ vytvořit jednoduchou funkci, jejíž účel plně vystihuje její **jméno**:"
   ]
  },
  {
   "cell_type": "code",
   "execution_count": 4,
   "metadata": {},
   "outputs": [],
   "source": [
    "def vynasob_hodnoty(x, y):\n",
    "    return x * y"
   ]
  },
  {
   "cell_type": "code",
   "execution_count": 5,
   "metadata": {},
   "outputs": [
    {
     "name": "stdout",
     "output_type": "stream",
     "text": [
      "16\n"
     ]
    }
   ],
   "source": [
    "print(vynasob_hodnoty(2, 8))"
   ]
  },
  {
   "cell_type": "markdown",
   "metadata": {},
   "source": [
    "V takovém případě **není potřeba** zapisovat *docstring*.\n",
    "\n",
    "<br>\n",
    "\n",
    "Někdy se ale popis může hodit. Zejména tehdy pokud **jméno** *uživatelské funkce* **nedostačuje**:"
   ]
  },
  {
   "cell_type": "code",
   "execution_count": 6,
   "metadata": {},
   "outputs": [],
   "source": [
    "def vypocitej_vyskyt_dat(*text):\n",
    "    vyskyt = dict()\n",
    "\n",
    "    for slovo in text:\n",
    "        vyskyt[slovo] = vyskyt.setdefault(slovo, 0) + 1\n",
    "\n",
    "    return vyskyt"
   ]
  },
  {
   "cell_type": "code",
   "execution_count": 7,
   "metadata": {},
   "outputs": [
    {
     "name": "stdout",
     "output_type": "stream",
     "text": [
      "{'a': 3, 'b': 2, 'c': 1, 'd': 1}\n"
     ]
    }
   ],
   "source": [
    "print(vypocitej_vyskyt_dat(\"a\", \"b\", \"a\", \"c\", \"d\", \"b\", \"a\"))"
   ]
  },
  {
   "cell_type": "markdown",
   "metadata": {},
   "source": [
    "Nyní už **není zcela patrné**, jaký je účel funkce, že?\n",
    "\n",
    "<br>\n",
    "\n",
    "**Jméno** samotné funkce, v ukázce výš, není dostačující:"
   ]
  },
  {
   "cell_type": "code",
   "execution_count": 11,
   "metadata": {},
   "outputs": [],
   "source": [
    "def vypocitej_vyskyt_dat(*text):\n",
    "    \"\"\"\n",
    "    Vrať slovník, který obsahuje výčet jednotlivých prvků v zadaném parametru.\n",
    "    \"\"\"\n",
    "    vyskyt = dict()\n",
    "\n",
    "    for slovo in text:\n",
    "        vyskyt[slovo] = vyskyt.setdefault(slovo, 0) + 1\n",
    "\n",
    "    return vyskyt"
   ]
  },
  {
   "cell_type": "code",
   "execution_count": 12,
   "metadata": {},
   "outputs": [
    {
     "name": "stdout",
     "output_type": "stream",
     "text": [
      "{'a': 3, 'b': 2, 'c': 1, 'd': 1}\n"
     ]
    }
   ],
   "source": [
    "print(vypocitej_vyskyt_dat(\"a\", \"b\", \"a\", \"c\", \"d\", \"b\", \"a\"))"
   ]
  },
  {
   "cell_type": "markdown",
   "metadata": {},
   "source": [
    "Jednou větou **vysvětlená podstata** této *uživatelské funkce* lépe popíše účel funkce `vypocitej_vyskyt_dat`.\n",
    "\n",
    "<br>\n",
    "\n",
    "Dále můžeš tuto *nápovědu* získat pomocí zabudované funkce `help`:"
   ]
  },
  {
   "cell_type": "code",
   "execution_count": 13,
   "metadata": {},
   "outputs": [
    {
     "name": "stdout",
     "output_type": "stream",
     "text": [
      "Help on function vypocitej_vyskyt_dat in module __main__:\n",
      "\n",
      "vypocitej_vyskyt_dat(*text)\n",
      "    Vrať slovník, který obsahuje výčet jednotlivých prvků v zadaném parametru.\n",
      "\n",
      "None\n"
     ]
    }
   ],
   "source": [
    "print(help(vypocitej_vyskyt_dat))"
   ]
  },
  {
   "cell_type": "markdown",
   "metadata": {},
   "source": [
    "Pokud je krátký *docstring* **nedostatečný**, nebo pracuješ s různými **parametry**, které jsou pro uživatele komplikované, můžeš je také popsat:"
   ]
  },
  {
   "cell_type": "code",
   "execution_count": 14,
   "metadata": {},
   "outputs": [],
   "source": [
    "def vypocitej_vyskyt_dat(*text):\n",
    "    \"\"\"\n",
    "    Vrať slovník, který obsahuje výčet jednotlivých prvků v zadaném parametu.\n",
    "\n",
    "    :param text: parametr \"text\" obsahující zadaný text.\n",
    "    :type text: tuple[str] nebo None\n",
    "    :return: slovník se znaky z textu a počet jejich výskytů.\n",
    "    :rtype: dict[str, int]\n",
    "    \"\"\"\n",
    "    \n",
    "    vyskyt = {}\n",
    "       \n",
    "    for slovo in text:\n",
    "        vyskyt[slovo] = vyskyt.setdefault(slovo, 0) + 1\n",
    "\n",
    "    return vyskyt"
   ]
  },
  {
   "cell_type": "code",
   "execution_count": 15,
   "metadata": {},
   "outputs": [
    {
     "name": "stdout",
     "output_type": "stream",
     "text": [
      "{'a': 3, 'b': 2, 'c': 1, 'd': 1}\n"
     ]
    }
   ],
   "source": [
    "print(vypocitej_vyskyt_dat(\"a\", \"b\", \"a\", \"c\", \"d\", \"b\", \"a\"))"
   ]
  },
  {
   "cell_type": "markdown",
   "metadata": {},
   "source": [
    "Někdy je dobrá ukázka lepší jak tisíc slov, proto je později vhodné úvadět **příklad použití**:"
   ]
  },
  {
   "cell_type": "code",
   "execution_count": 16,
   "metadata": {},
   "outputs": [
    {
     "name": "stdout",
     "output_type": "stream",
     "text": [
      "{'a': 3, 'b': 2, 'c': 1, 'd': 1}\n"
     ]
    }
   ],
   "source": [
    "def vypocitej_vyskyt_dat(*text):\n",
    "    \"\"\"\n",
    "    Vrať slovník, který obsahuje výčet jednotlivých prvků v zadaném parametu.\n",
    "\n",
    "    :param text: parametr \"text\" obsahující zadaný text.\n",
    "    :type text: tuple[str] nebo None\n",
    "    :return: slovník se znaky z textu a počet jejich výskytů.\n",
    "    :rtype: dict[str, int]\n",
    "\n",
    "    :Example:\n",
    "    >>> vysledek = vypocitej_vyskyt_dat(\"a\", \"b\", \"a\")\n",
    "    >>> vysledek\n",
    "    {'a': 2, 'b': 1}\n",
    "    \"\"\"\n",
    "    vyskyt = dict()\n",
    "\n",
    "    for slovo in text:\n",
    "        vyskyt[slovo] = vyskyt.setdefault(slovo, 0) + 1\n",
    "\n",
    "    return vyskyt\n",
    "\n",
    "\n",
    "print(vypocitej_vyskyt_dat(\"a\", \"b\", \"a\", \"c\", \"d\", \"b\", \"a\"))"
   ]
  },
  {
   "cell_type": "code",
   "execution_count": 18,
   "metadata": {},
   "outputs": [
    {
     "name": "stdout",
     "output_type": "stream",
     "text": [
      "Help on module math:\n",
      "\n",
      "NAME\n",
      "    math\n",
      "\n",
      "MODULE REFERENCE\n",
      "    https://docs.python.org/3.8/library/math\n",
      "    \n",
      "    The following documentation is automatically generated from the Python\n",
      "    source files.  It may be incomplete, incorrect or include features that\n",
      "    are considered implementation detail and may vary between Python\n",
      "    implementations.  When in doubt, consult the module reference at the\n",
      "    location listed above.\n",
      "\n",
      "DESCRIPTION\n",
      "    This module provides access to the mathematical functions\n",
      "    defined by the C standard.\n",
      "\n",
      "FUNCTIONS\n",
      "    acos(x, /)\n",
      "        Return the arc cosine (measured in radians) of x.\n",
      "    \n",
      "    acosh(x, /)\n",
      "        Return the inverse hyperbolic cosine of x.\n",
      "    \n",
      "    asin(x, /)\n",
      "        Return the arc sine (measured in radians) of x.\n",
      "    \n",
      "    asinh(x, /)\n",
      "        Return the inverse hyperbolic sine of x.\n",
      "    \n",
      "    atan(x, /)\n",
      "        Return the arc tangent (measured in radians) of x.\n",
      "    \n",
      "    atan2(y, x, /)\n",
      "        Return the arc tangent (measured in radians) of y/x.\n",
      "        \n",
      "        Unlike atan(y/x), the signs of both x and y are considered.\n",
      "    \n",
      "    atanh(x, /)\n",
      "        Return the inverse hyperbolic tangent of x.\n",
      "    \n",
      "    ceil(x, /)\n",
      "        Return the ceiling of x as an Integral.\n",
      "        \n",
      "        This is the smallest integer >= x.\n",
      "    \n",
      "    comb(n, k, /)\n",
      "        Number of ways to choose k items from n items without repetition and without order.\n",
      "        \n",
      "        Evaluates to n! / (k! * (n - k)!) when k <= n and evaluates\n",
      "        to zero when k > n.\n",
      "        \n",
      "        Also called the binomial coefficient because it is equivalent\n",
      "        to the coefficient of k-th term in polynomial expansion of the\n",
      "        expression (1 + x)**n.\n",
      "        \n",
      "        Raises TypeError if either of the arguments are not integers.\n",
      "        Raises ValueError if either of the arguments are negative.\n",
      "    \n",
      "    copysign(x, y, /)\n",
      "        Return a float with the magnitude (absolute value) of x but the sign of y.\n",
      "        \n",
      "        On platforms that support signed zeros, copysign(1.0, -0.0)\n",
      "        returns -1.0.\n",
      "    \n",
      "    cos(x, /)\n",
      "        Return the cosine of x (measured in radians).\n",
      "    \n",
      "    cosh(x, /)\n",
      "        Return the hyperbolic cosine of x.\n",
      "    \n",
      "    degrees(x, /)\n",
      "        Convert angle x from radians to degrees.\n",
      "    \n",
      "    dist(p, q, /)\n",
      "        Return the Euclidean distance between two points p and q.\n",
      "        \n",
      "        The points should be specified as sequences (or iterables) of\n",
      "        coordinates.  Both inputs must have the same dimension.\n",
      "        \n",
      "        Roughly equivalent to:\n",
      "            sqrt(sum((px - qx) ** 2.0 for px, qx in zip(p, q)))\n",
      "    \n",
      "    erf(x, /)\n",
      "        Error function at x.\n",
      "    \n",
      "    erfc(x, /)\n",
      "        Complementary error function at x.\n",
      "    \n",
      "    exp(x, /)\n",
      "        Return e raised to the power of x.\n",
      "    \n",
      "    expm1(x, /)\n",
      "        Return exp(x)-1.\n",
      "        \n",
      "        This function avoids the loss of precision involved in the direct evaluation of exp(x)-1 for small x.\n",
      "    \n",
      "    fabs(x, /)\n",
      "        Return the absolute value of the float x.\n",
      "    \n",
      "    factorial(x, /)\n",
      "        Find x!.\n",
      "        \n",
      "        Raise a ValueError if x is negative or non-integral.\n",
      "    \n",
      "    floor(x, /)\n",
      "        Return the floor of x as an Integral.\n",
      "        \n",
      "        This is the largest integer <= x.\n",
      "    \n",
      "    fmod(x, y, /)\n",
      "        Return fmod(x, y), according to platform C.\n",
      "        \n",
      "        x % y may differ.\n",
      "    \n",
      "    frexp(x, /)\n",
      "        Return the mantissa and exponent of x, as pair (m, e).\n",
      "        \n",
      "        m is a float and e is an int, such that x = m * 2.**e.\n",
      "        If x is 0, m and e are both 0.  Else 0.5 <= abs(m) < 1.0.\n",
      "    \n",
      "    fsum(seq, /)\n",
      "        Return an accurate floating point sum of values in the iterable seq.\n",
      "        \n",
      "        Assumes IEEE-754 floating point arithmetic.\n",
      "    \n",
      "    gamma(x, /)\n",
      "        Gamma function at x.\n",
      "    \n",
      "    gcd(x, y, /)\n",
      "        greatest common divisor of x and y\n",
      "    \n",
      "    hypot(...)\n",
      "        hypot(*coordinates) -> value\n",
      "        \n",
      "        Multidimensional Euclidean distance from the origin to a point.\n",
      "        \n",
      "        Roughly equivalent to:\n",
      "            sqrt(sum(x**2 for x in coordinates))\n",
      "        \n",
      "        For a two dimensional point (x, y), gives the hypotenuse\n",
      "        using the Pythagorean theorem:  sqrt(x*x + y*y).\n",
      "        \n",
      "        For example, the hypotenuse of a 3/4/5 right triangle is:\n",
      "        \n",
      "            >>> hypot(3.0, 4.0)\n",
      "            5.0\n",
      "    \n",
      "    isclose(a, b, *, rel_tol=1e-09, abs_tol=0.0)\n",
      "        Determine whether two floating point numbers are close in value.\n",
      "        \n",
      "          rel_tol\n",
      "            maximum difference for being considered \"close\", relative to the\n",
      "            magnitude of the input values\n",
      "          abs_tol\n",
      "            maximum difference for being considered \"close\", regardless of the\n",
      "            magnitude of the input values\n",
      "        \n",
      "        Return True if a is close in value to b, and False otherwise.\n",
      "        \n",
      "        For the values to be considered close, the difference between them\n",
      "        must be smaller than at least one of the tolerances.\n",
      "        \n",
      "        -inf, inf and NaN behave similarly to the IEEE 754 Standard.  That\n",
      "        is, NaN is not close to anything, even itself.  inf and -inf are\n",
      "        only close to themselves.\n",
      "    \n",
      "    isfinite(x, /)\n",
      "        Return True if x is neither an infinity nor a NaN, and False otherwise.\n",
      "    \n",
      "    isinf(x, /)\n",
      "        Return True if x is a positive or negative infinity, and False otherwise.\n",
      "    \n",
      "    isnan(x, /)\n",
      "        Return True if x is a NaN (not a number), and False otherwise.\n",
      "    \n",
      "    isqrt(n, /)\n",
      "        Return the integer part of the square root of the input.\n",
      "    \n",
      "    ldexp(x, i, /)\n",
      "        Return x * (2**i).\n",
      "        \n",
      "        This is essentially the inverse of frexp().\n",
      "    \n",
      "    lgamma(x, /)\n",
      "        Natural logarithm of absolute value of Gamma function at x.\n",
      "    \n",
      "    log(...)\n",
      "        log(x, [base=math.e])\n",
      "        Return the logarithm of x to the given base.\n",
      "        \n",
      "        If the base not specified, returns the natural logarithm (base e) of x.\n",
      "    \n",
      "    log10(x, /)\n",
      "        Return the base 10 logarithm of x.\n",
      "    \n",
      "    log1p(x, /)\n",
      "        Return the natural logarithm of 1+x (base e).\n",
      "        \n",
      "        The result is computed in a way which is accurate for x near zero.\n",
      "    \n",
      "    log2(x, /)\n",
      "        Return the base 2 logarithm of x.\n",
      "    \n",
      "    modf(x, /)\n",
      "        Return the fractional and integer parts of x.\n",
      "        \n",
      "        Both results carry the sign of x and are floats.\n",
      "    \n",
      "    perm(n, k=None, /)\n",
      "        Number of ways to choose k items from n items without repetition and with order.\n",
      "        \n",
      "        Evaluates to n! / (n - k)! when k <= n and evaluates\n",
      "        to zero when k > n.\n",
      "        \n",
      "        If k is not specified or is None, then k defaults to n\n",
      "        and the function returns n!.\n",
      "        \n",
      "        Raises TypeError if either of the arguments are not integers.\n",
      "        Raises ValueError if either of the arguments are negative.\n",
      "    \n",
      "    pow(x, y, /)\n",
      "        Return x**y (x to the power of y).\n",
      "    \n",
      "    prod(iterable, /, *, start=1)\n",
      "        Calculate the product of all the elements in the input iterable.\n",
      "        \n",
      "        The default start value for the product is 1.\n",
      "        \n",
      "        When the iterable is empty, return the start value.  This function is\n",
      "        intended specifically for use with numeric values and may reject\n",
      "        non-numeric types.\n",
      "    \n",
      "    radians(x, /)\n",
      "        Convert angle x from degrees to radians.\n",
      "    \n",
      "    remainder(x, y, /)\n",
      "        Difference between x and the closest integer multiple of y.\n",
      "        \n",
      "        Return x - n*y where n*y is the closest integer multiple of y.\n",
      "        In the case where x is exactly halfway between two multiples of\n",
      "        y, the nearest even value of n is used. The result is always exact.\n",
      "    \n",
      "    sin(x, /)\n",
      "        Return the sine of x (measured in radians).\n",
      "    \n",
      "    sinh(x, /)\n",
      "        Return the hyperbolic sine of x.\n",
      "    \n",
      "    sqrt(x, /)\n",
      "        Return the square root of x.\n",
      "    \n",
      "    tan(x, /)\n",
      "        Return the tangent of x (measured in radians).\n",
      "    \n",
      "    tanh(x, /)\n",
      "        Return the hyperbolic tangent of x.\n",
      "    \n",
      "    trunc(x, /)\n",
      "        Truncates the Real x to the nearest Integral toward 0.\n",
      "        \n",
      "        Uses the __trunc__ magic method.\n",
      "\n",
      "DATA\n",
      "    e = 2.718281828459045\n",
      "    inf = inf\n",
      "    nan = nan\n",
      "    pi = 3.141592653589793\n",
      "    tau = 6.283185307179586\n",
      "\n",
      "FILE\n",
      "    /opt/conda/lib/python3.8/lib-dynload/math.cpython-38-x86_64-linux-gnu.so\n",
      "\n",
      "\n",
      "None\n"
     ]
    }
   ],
   "source": [
    "import math\n",
    "\n",
    "print(help(math))"
   ]
  },
  {
   "cell_type": "markdown",
   "metadata": {},
   "source": [
    "Je tedy **nutné** zapisovat *docstring*? Určitě to **není nutnost**.\n",
    "\n",
    "Ale rozhodně je to velmi nápomocné, protože ti pomůže uvědomit si:\n",
    "1. Jestli dostatečně rozumíš **účelu funkce**,\n",
    "2. jestli funkce skutečně **provádí jen to, co má**,\n",
    "3. jestli má správný **počet parametrů**, případně jakého typu,\n",
    "4. jestli a jaké objekty **funkce vrací**.\n",
    "\n",
    "<br>\n",
    "\n",
    "Do budoucna potom můžeš využít *docstring* při:\n",
    "1. Generování **dokumentace projektu** pomocí nástroje [Sphinx](https://www.sphinx-doc.org/en/master/),\n",
    "2. **testování funkcí** pomocí modulu [doctest](https://docs.python.org/3/library/doctest.html)."
   ]
  },
  {
   "cell_type": "code",
   "execution_count": 21,
   "metadata": {},
   "outputs": [
    {
     "data": {
      "text/plain": [
       "TestResults(failed=0, attempted=2)"
      ]
     },
     "execution_count": 21,
     "metadata": {},
     "output_type": "execute_result"
    }
   ],
   "source": [
    "def vypocitej_vyskyt_dat(*text):\n",
    "    \"\"\"\n",
    "    Vrať slovník, který obsahuje výčet jednotlivých prvků v zadaném parametu.\n",
    "\n",
    "    :param text: parametr \"text\" obsahující zadaný text.\n",
    "    :type kind: tuple[str] nebo None\n",
    "    :return: slovník se znaky z textu a počet jejich výskytů.\n",
    "    :rtype: dict[str, int]\n",
    "\n",
    "    :Example:\n",
    "    >>> vysledek = vypocitej_vyskyt_dat(\"a\", \"b\", \"a\")\n",
    "    >>> vysledek\n",
    "    {'a': 2, 'b': 1}\n",
    "    \"\"\"\n",
    "    vyskyt = dict()\n",
    "\n",
    "    for slovo in text:\n",
    "        vyskyt[slovo] = vyskyt.setdefault(slovo, 0) + 1\n",
    "\n",
    "    return vyskyt\n",
    "\n",
    "\n",
    "import doctest\n",
    "doctest.testmod()"
   ]
  },
  {
   "cell_type": "markdown",
   "metadata": {},
   "source": [
    "<img src=\"https://external-content.duckduckgo.com/iu/?u=https%3A%2F%2Ftse2.mm.bing.net%2Fth%3Fid%3DOIP.cjfmUt8xYHoEdmQWxT1fBgHaHa%26pid%3DApi&f=1\" width=\"200\">\n",
    "\n",
    "### Co je `__name__`\n",
    "\n",
    "Velmi často se při čtení cizího kódu můžeš setkat s **tímto ohlášením**:\n",
    "```python\n",
    "if __name__ == \"__main__\":\n",
    "    # ...\n",
    "```\n",
    "\n",
    "Bývá velmi často vložené právě **na konci modulu** (tedy souboru s příponou `.py`)\n",
    "\n",
    "Představ si situaci, že potřebuješ nahrát jen funkci `funkce_2`:"
   ]
  },
  {
   "cell_type": "code",
   "execution_count": null,
   "metadata": {},
   "outputs": [],
   "source": [
    "# soubor muj_modul.py\n",
    "\n",
    "def hlavni_funkce():\n",
    "    funkce_1()\n",
    "    funkce_2()\n",
    "    funkce_3()\n",
    "\n",
    "def funkce_1():\n",
    "    print(\"Spouštění první funkce..\")\n",
    "\n",
    "def funkce_2():\n",
    "    \"\"\"Funkce, kterou potřebuješ.\"\"\"\n",
    "    print(\"Spouštění druhé funkce..\")\n",
    "\n",
    "def funkce_3():\n",
    "    print(\"Spouštění třetí funkce..\")\n",
    "\n",
    "hlavni_funkce()"
   ]
  },
  {
   "cell_type": "markdown",
   "metadata": {},
   "source": [
    "Díky, **nahrávání knihoven** můžeš snadno použít *funkci* z jiného modulu.\n",
    "\n",
    "Víš totiž, kde je soubor `muj_soubor.py` umístěný:\n",
    "```python\n",
    "import muj_modul\n",
    "\n",
    "muj_modul.funkce_2()\n",
    "```"
   ]
  },
  {
   "cell_type": "markdown",
   "metadata": {},
   "source": [
    "Jakmile tebou vytvořený soubor **s nahraným modulem** spustíš, získáš tento výstup:\n",
    "```\n",
    "Spouštění první funkce...\n",
    "Spouštění druhé funkce...\n",
    "Spouštění třetí funkce...\n",
    "Spouštění druhé funkce...\n",
    "```"
   ]
  },
  {
   "cell_type": "markdown",
   "metadata": {},
   "source": [
    "Místo, aby došlo ke spuštění **pouze** *uživatelské funkce* `funkce_2`, došlo ke spuštění všech funkcí.\n",
    "\n",
    "<br>\n",
    "\n",
    "V této ukázce to není tak zásadní problém. Ale představ si, že by spuštění funkcí trvalo **několik minut** a potřebovalo **nezanedbatelné množství paměti** tvého počítače.\n",
    "\n",
    "Tomu je potřeba rozhodně zabránit, jinak nemůžeš rozumně pracovat s takovým modulem.\n",
    "\n",
    "<br>\n",
    "\n",
    "Je tedy nutné:\n",
    "1. `muj_modul.py` **spouštět jako skript (program)** pro Python s funkcí `hlavni_funkce()`,\n",
    "2. `muj_modul.py` **nahrávat jako modul** Pythonu bez funkce `hlavni_funkce()`."
   ]
  },
  {
   "cell_type": "code",
   "execution_count": null,
   "metadata": {},
   "outputs": [],
   "source": [
    "# soubor muj_modul.py\n",
    "def hlavni_funkce():\n",
    "    funkce_1()\n",
    "    funkce_2()\n",
    "    funkce_3()\n",
    "\n",
    "def funkce_1():\n",
    "    print(\"Spouštění první funkce...\")\n",
    "\n",
    "def funkce_2():\n",
    "    \"\"\"Funkce, kterou potřebuješ.\"\"\"\n",
    "    print(\"Spouštění druhé funkce...\")\n",
    "\n",
    "def funkce_3():\n",
    "    print(\"Spouštění třetí funkce...\")\n",
    "\n",
    "# nové ohlášení *name == main*\n",
    "if __name__ == \"__main__\":\n",
    "    print(\"Nahrávání modulu..\")\n",
    "    hlavni_funkce()\n",
    "else:\n",
    "    print(\"Spouštění souboru..\")"
   ]
  },
  {
   "cell_type": "markdown",
   "metadata": {},
   "source": [
    "Pokud zkusíš tentokrát **spustit soubor** `muj_modul.py`:\n",
    "```\n",
    "$ python muj_modul.py\n",
    "```\n",
    "Dostaneš výstupem:\n",
    "```\n",
    "Spouštění souboru..\n",
    "Spouštění první funkce..\n",
    "Spouštění druhé funkce..\n",
    "Spouštění třetí funkce..\n",
    "```\n",
    "\n",
    "<br>\n",
    "\n",
    "Pokud budeš chtít `muj_modul.py` **nahrávat** pomocí ohlášení `import`:\n",
    "```python\n",
    "import muj_modul\n",
    "\n",
    "muj_modul.funkce_2()\n",
    "```\n",
    "Dostaneš jako výstup:\n",
    "```\n",
    "Nahrávání modulu..\n",
    "Spouštění druhé funkce..\n",
    "```\n",
    "\n",
    "<br>\n",
    "\n",
    "Tím dosáhneš toho, že tebou vytvořený soubor `muj_modul.py` funguje pro oba scénaře. Tedy pracuje jako **spustitelný soubor** a současně jako **plnohodnotný modul**."
   ]
  },
  {
   "cell_type": "markdown",
   "metadata": {},
   "source": [
    "<img src=\"https://external-content.duckduckgo.com/iu/?u=https%3A%2F%2Ftse1.mm.bing.net%2Fth%3Fid%3DOIP.O9EkosTHP3lmEAvzA3D-2QHaHa%26pid%3DApi&f=1\" width=\"200\">\n",
    "\n",
    "\n",
    "### Domácí úkol\n",
    "\n",
    "---\n",
    "\n",
    "Napiš takový modul, který bude obsahovat jednoduché rozhraní pro kalkulačku, která bude umět:\n",
    "1. Vypsat operace, které podporuje,\n",
    "2. vypočítat průměrnou hodnotu pro zadanou číselnou řadu,\n",
    "3. vypočítat běžné aritm. operace,\n",
    "4. spustit celý proces jako nekonečný cyklus\n",
    "\n",
    "\n",
    "**ad. 1.**\n",
    "```\n",
    ">>> vypis_operace(\"+\", \"-\", \"*\")                                            \n",
    "-------------                                                               \n",
    "| + | - | * |                                                               \n",
    "-------------\n",
    "```\n",
    "\n",
    "**ad. 2.**\n",
    "```\n",
    ">>> prumer = vypocitej_prumer(\"1, 2, 3\")\n",
    ">>> prumer\n",
    "2.0\n",
    "```\n",
    "\n",
    "**ad. 3.**\n",
    "```\n",
    ">>> vysledek = vypocitej_aritm_operace(\"((1 + 3) / 2)\")\n",
    ">>> vysledek\n",
    "2.0\n",
    "```\n",
    "\n",
    "**ad. 4.**\n",
    "```\n",
    ">>> import <modul>\n",
    ">>> <modul>.spust_kalkulacku()\n",
    "SPOUŠTÍM KALKULAČKU..\n",
    "-------------------------------\n",
    "| + | - | * | / | prum | quit |\n",
    "-------------------------------\n",
    "VYBER OPERACI:+\n",
    "...\n",
    "```\n",
    "\n",
    "**Volitelné**, zkus si psát podrobné dokumentace, které pak můžeš doplnit o různé testy.\n",
    "\n",
    "**Volitelné**, pro počítání jednoduchých rovnice vyzkoušej funkci `eval`."
   ]
  },
  {
   "cell_type": "code",
   "execution_count": null,
   "metadata": {},
   "outputs": [],
   "source": []
  }
 ],
 "metadata": {
  "kernelspec": {
   "display_name": "Python 3",
   "language": "python",
   "name": "python3"
  },
  "language_info": {
   "codemirror_mode": {
    "name": "ipython",
    "version": 3
   },
   "file_extension": ".py",
   "mimetype": "text/x-python",
   "name": "python",
   "nbconvert_exporter": "python",
   "pygments_lexer": "ipython3",
   "version": "3.8.6"
  }
 },
 "nbformat": 4,
 "nbformat_minor": 4
}
