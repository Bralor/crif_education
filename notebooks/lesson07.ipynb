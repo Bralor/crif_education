{
 "cells": [
  {
   "cell_type": "markdown",
   "metadata": {},
   "source": [
    "### Úvod\n",
    "\n",
    "---\n",
    "\n",
    "1. [Verzování zdrojového kódu](#Úvod-do-sdílení-kódu),\n",
    "2. [Git, úvod a demo](#Git,-úvod-a-demo),\n",
    "3. [Formátování zdrojového kódu](#Formátování),\n",
    "4. [Formátovací pravidla, pomůcky](#Pravidla-formátování,-pep),\n",
    "5. [Domácí úkol](#Domácí-úkol).\n",
    "\n",
    "<br>\n",
    "\n",
    "<img src=\"https://external-content.duckduckgo.com/iu/?u=https%3A%2F%2Ftse4.mm.bing.net%2Fth%3Fid%3DOIP.BPYuvKj05Xo_oF_oXiL1yAHaHa%26pid%3DApi&f=1\" width=\"250\">\n",
    "\n",
    "### Úvod do sdílení kódu \n",
    "\n",
    "---\n",
    "\n",
    "Pokud pracuješ v kolektivu, nebo týmu, potřebuješ jim často **nasdílet** svůj skript nebo modul.\n",
    "\n",
    "**Kam jej ale optimálně sdílet?**\n",
    "\n",
    "Technicky vzato můžeš klidně použít nějaké sdílené uložiště typu *Drive*, *Dropbox*, *Mega*, atd.\n",
    "\n",
    "Pokud vás ale pracuje víc, jenom těžko se určuje, **kdo, kdy a kde** provedl dodatečné změny.\n",
    "\n",
    "*(demo, Drive)*\n",
    "\n",
    "Jak tedy pracovat **s novými verzemi** efektivněji?"
   ]
  },
  {
   "cell_type": "markdown",
   "metadata": {},
   "source": [
    "<br>\n",
    "\n",
    "<img src=\"https://external-content.duckduckgo.com/iu/?u=https%3A%2F%2Ftse3.mm.bing.net%2Fth%3Fid%3DOIP.Xa0BEkwl0Zx4qnY9lMbD7gHaHa%26pid%3DApi&f=1\" width=\"200\">\n",
    "\n",
    "### Git, úvod a demo\n",
    "\n",
    "---\n",
    "\n",
    "**Verzování** (obecně označováno jako *VCS*), znamená **nahrávání a sdílení** tvých zdrojových souborů na vzdálené uložiště.\n",
    "\n",
    "Jedním z dnes nejčastěji používaných softwarových řešení je **Git**.\n",
    "\n",
    "Jde obecně o *metodologii*, jak **vzájemně sdílet zdrojové soubory**.\n",
    "\n",
    "Každý uživatel přidává svoje úpravy, které si podepíše, okomentuje a současně zvýrázní, ke kterým změnám došlo.\n",
    "\n",
    "\n",
    "<img src=\"https://external-content.duckduckgo.com/iu/?u=https%3A%2F%2Ftse3.mm.bing.net%2Fth%3Fid%3DOIP.zmncbLT9PQEvRMrFXgYq1gHaGi%26pid%3DApi&f=1\" width=\"700\">\n",
    "\n",
    "\n",
    "V dnešní době **mezi nejznámější** plaftformy patří:\n",
    "* **GitHub**,\n",
    "* **GitLab**,\n",
    "* **Bitbucket**.\n",
    "\n",
    "Pro následující demo pracuj je vybrán **GitHub**.\n",
    "\n",
    "Napřed jaký je vztah mezi *Git* a *GitHub*:\n",
    "* **Git** je obecně softwarové řešení,\n",
    "* **GitHub** je specifická implementace Gitu, která umožňuje interakce tvého počítače se vzdáleným uložištěm."
   ]
  },
  {
   "cell_type": "markdown",
   "metadata": {},
   "source": [
    "### Nový účet, GitHub\n",
    "\n",
    "---\n",
    "\n",
    "**Vytvoříš nový účet** na *GitHubu*. Jakmile máš účet vytvořený, můžeš se **přihlásit**.\n",
    "\n",
    "<img src=\"https://i.imgur.com/vFhqhW8.png\" width=\"500\">"
   ]
  },
  {
   "cell_type": "markdown",
   "metadata": {},
   "source": [
    "**Vytvoříš nové vzdálené uložiště** (repozitář, archív, příp. digitální úschovna),\n",
    "\n",
    "v pravém horním rohu obrazovky (vedle tlačítka svého účtu) vybereš symbol `+` a označíš možnost **new repository**.\n",
    "\n",
    "<a href=\"https://imgur.com/o1PXrVF\"><img src=\"https://i.imgur.com/o1PXrVF.png\" width=\"500\" /></a>"
   ]
  },
  {
   "cell_type": "markdown",
   "metadata": {},
   "source": [
    "Pro vytvoření určitě **potřebuješ zadat**:\n",
    "1. **jméno projektu** (např. muj_prvni_projekt),\n",
    "2. nastavit projekt jako **veřejný repozitář** (aby jej mohl kdokoliv otevřít),\n",
    "3. kliknout na tlačítko **Create repository**.\n",
    "\n",
    "<a href=\"https://imgur.com/wfdtGiY\"><img src=\"https://i.imgur.com/wfdtGiY.png\" width=\"500\" /></a>\n"
   ]
  },
  {
   "cell_type": "markdown",
   "metadata": {},
   "source": [
    "Nyní máš pouze **vzdálené uložiště**, které potřebuješ přenést na svůj počítač. Tedy vytvořit **lokální uložiště**.\n",
    "\n",
    "<a href=\"https://imgur.com/DKh5Dcq\"><img src=\"https://i.imgur.com/DKh5Dcq.png\" width=\"1000\" /></a>"
   ]
  },
  {
   "cell_type": "markdown",
   "metadata": {},
   "source": [
    "Ve **vzdáleném uložišti** (tedy v *repozitáři*, v prohlížeči) si zkopíruješ **adresu uložiště**.\n",
    "\n",
    "<a href=\"https://imgur.com/GXJDday\"><img src=\"https://i.imgur.com/GXJDday.png\" width=\"1000\" /></a>\n",
    "\n",
    "Tuto adresu vložíš do formuláře **URL** v *PyCharm*.\n",
    "\n",
    "<a href=\"https://imgur.com/2xww8Yq\"><img src=\"https://i.imgur.com/2xww8Yq.png\" width=\"700\" /></a>"
   ]
  },
  {
   "cell_type": "markdown",
   "metadata": {},
   "source": [
    "Potvrdíš, zapíšeš stejné přihlašovací údaje, které používáš pro webové prostředí **GitHub** a můžeš začít pracovat.\n",
    "\n",
    "*(demo, PyCharm, GitHub, commity, pushování)*\n",
    "\n",
    "*(demo, příkazový řádek, ...)*"
   ]
  },
  {
   "cell_type": "markdown",
   "metadata": {},
   "source": [
    "<br>\n",
    "\n",
    "<img src=\"https://external-content.duckduckgo.com/iu/?u=https%3A%2F%2Ftse2.mm.bing.net%2Fth%3Fid%3DOIP.ftcnnkZhnUhxDcoho4qcDAHaHY%26pid%3DApi&f=1\" width=\"170\">\n",
    "\n",
    "### Formátování\n",
    "---\n"
   ]
  },
  {
   "cell_type": "markdown",
   "metadata": {},
   "source": [
    "<br>\n",
    "\n",
    "<img src=\"https://external-content.duckduckgo.com/iu/?u=https%3A%2F%2Ftse1.mm.bing.net%2Fth%3Fid%3DOIP.jawNuob07l5t0Kehg5V4DgHaFj%26pid%3DApi&f=1\" width=\"350\">\n",
    "\n",
    "Jakmile svůj kód **sdílíš jiným lidem** (např. pomocí *Gitu*), je velká pravděpodobnost, že jej bude číst někdo další.\n",
    "\n",
    "Proto je velmi důležité, psát takový kód, který ostatní **snadno pochopí**, snadno vydedukují výstupy.\n",
    "\n",
    "Je proto potřeba držet se dvou základních postupů:\n",
    "1. Znát nějaký **stylovací/formátovací řád** (*formátování*),\n",
    "2. projít svůj zápis a hledat **nelogické, postradatelné** ohlášení (*refaktorování*).\n",
    "\n",
    "<img src=\"https://external-content.duckduckgo.com/iu/?u=https%3A%2F%2Ftse1.mm.bing.net%2Fth%3Fid%3DOIP.LB7-M4nX_bTmo0fUcjjY1gHaMY%26pid%3DApi&f=1\" width=\"400\">"
   ]
  },
  {
   "cell_type": "markdown",
   "metadata": {},
   "source": [
    "Formátování, tedy **formátování zdrojového kódu**, je proces, který pomáhá vylepšit tvůj zápis podle doporučených obecných pravidel pro zápis zdrojového kódu v Pythonu.\n",
    "\n",
    "Programátoři totiž většinu času stráví **čtením cizího kódu**.\n",
    "\n",
    "Proto každý chce co možná **nejvíce pochopitelný a přehledný** kód."
   ]
  },
  {
   "cell_type": "markdown",
   "metadata": {},
   "source": [
    "### Pravidla formátování, pep\n",
    "\n",
    "---\n",
    "\n",
    "Doporučení a typy, jak psát řádně svůj zdrojový kód v Pythonu, napovídá dokumentace *Python Enhancement Proposals* ( zkráceně **PEP**). Odkaz <a href=\"https://peps.python.org/#meta-peps-peps-about-peps-or-processes\" target=\"_clean\">zde</a>.\n",
    "\n",
    "Jde o poměrně hutnou příručku, kde je zřejmě nejdůležitější <a href=\"https://peps.python.org/pep-0008/\" target=\"_clean\"> index 8</a>.\n",
    "\n",
    "Nyní si některé stylovací typy projdi, zbytek dohledáš na webu."
   ]
  },
  {
   "cell_type": "markdown",
   "metadata": {},
   "source": [
    "#### Mezery v zápise\n",
    "\n",
    "Pokud píšeš různá ohlášení, snaž se vyvarovat velkému množství mezer.\n",
    "```python\n",
    "# špatně\n",
    "uzivatel = { \"jmeno\" : \"Matous\" , \"email\" : \"Holinka\" }\n",
    "```\n",
    "\n",
    "```python\n",
    "# správně\n",
    "uzivatel = {\"jmeno\": \"Matous\", \"email\": \"Holinka\"}\n",
    "```\n",
    "\n",
    "Správně je napsat mezeru na obou stranách operátorů jako `=`, aritmetických operátorů, logických a srovnávácích operátorů, případně za datovým oddělovačem `,` a za `:`."
   ]
  },
  {
   "cell_type": "code",
   "execution_count": null,
   "metadata": {},
   "outputs": [],
   "source": [
    "uzivatel = { \"jmeno\" : \"Matous\" , \"email\" : \"Holinka\" }"
   ]
  },
  {
   "cell_type": "markdown",
   "metadata": {},
   "source": [
    "#### Pojmenování proměnných\n",
    "\n",
    "Je dobrým zvykem tvořit přehledná a jasná jména, s konzistentním pojmenováním.\n",
    "```python\n",
    "Moje_promenna_jedna = \"...\"\n",
    "moje_Promenna_dva = \"...\"\n",
    "MojeTretiPromenna = \"...\"\n",
    "```\n",
    "\n",
    "```python\n",
    "moje_promenna_jedna = \"...\"\n",
    "moje_promenna_dva = \"...\"\n",
    "moje_treti_promenna = \"...\"\n",
    "```\n",
    "\n",
    "Obecně se pojmenují objekty v angličtině, zejména pokud publikuješ zdrojový kód na webu. Není však problém pracovat s jiným jazykem. Opět se ale snaž být konzistentní a nestřídat několik jazyků:\n",
    "```python\n",
    "mojePromenna = \"...\"\n",
    "nickname = \"Matous\"\n",
    "```\n",
    "\n",
    "```python\n",
    "mojePromenna = \"...\"\n",
    "prezdivka = \"Matous\"\n",
    "```"
   ]
  },
  {
   "cell_type": "markdown",
   "metadata": {},
   "source": [
    "#### Maximální délka řádku\n",
    "\n",
    "Není dobré řádek natahovat. Naopak, ideální délka řádku je 79 znaků, jinak je potřeba jej rozdělit.\n",
    "```python\n",
    "# špatně\n",
    "jmena = [\"Petr\", \"Tomas\", \"Marek\", \"Martin\", \"Lukas\", \"David\", \"Jakub\", \"Jan\", \"Filip\", \"Premek\"]\n",
    "```\n",
    "\n",
    "```python\n",
    "# správně\n",
    "jmena = [\n",
    "    \"Petr\", \"Tomas\", \"Marek\",\n",
    "    \"Martin\", \"Lukas\", \"David\",\n",
    "    \"Jakub\", \"Jan\", \"Filip\",\n",
    "    \"Premek\"\n",
    "]\n",
    "```\n",
    "```python\n",
    "# také správně\n",
    "jmena = [\n",
    "    \"Petr\", \"Tomas\", \"Marek\",\n",
    "    \"Martin\", \"Lukas\", \"David\",\n",
    "    \"Jakub\", \"Jan\", \"Filip\",\n",
    "    \"Premek\"\n",
    "    ]\n",
    "```\n"
   ]
  },
  {
   "cell_type": "code",
   "execution_count": null,
   "metadata": {},
   "outputs": [],
   "source": [
    "# zabudované knihovny\n",
    "import os\n",
    "import sys\n",
    "import itertools\n",
    "\n",
    "# 3 strany\n",
    "import numpy\n",
    "import pandas\n",
    "import seaborn\n",
    "\n",
    "# moje vlastní lokální knihovny\n",
    "from data import jmena, adresy"
   ]
  },
  {
   "cell_type": "markdown",
   "metadata": {},
   "source": [
    "#### Refaktorování\n",
    "\n",
    "Když něco tvoříš, snažíš se cílit hlavně na to, **co má výsledek dělat**, ne **jak vypadá zápis**.\n",
    "\n",
    "Mimo *stylování* to také platí pro další nelogické spojení, které si musíš pohlídat.\n",
    "\n",
    "Jinak takový zápis může **zmást čtenáře**, případně ho nasměrovat špatným směrem.\n",
    "\n",
    "```python\n",
    "# špatně\n",
    "print(f\"Prvni oznameni\")\n",
    "```\n",
    "\n",
    "```python\n",
    "# správně\n",
    "print(\"Prvni oznameni\")\n",
    "```"
   ]
  },
  {
   "cell_type": "markdown",
   "metadata": {},
   "source": [
    "Dále můžeš špatně pracovat s argumenty funkcí:\n",
    "```python\n",
    "# špatně\n",
    "print(\"Toto je první řádek\")\n",
    "print(\"Toto je druhý řádek\")\n",
    "print(\"Toto je třetí řádek\")\n",
    "print(\"Toto je čtvrtý řádek\")\n",
    "```\n",
    "\n",
    "```python\n",
    "# správně\n",
    "print(\n",
    "    \"Toto je první řádek\",\n",
    "    \"Toto je druhý řádek\",\n",
    "    \"Toto je třetí řádek\",\n",
    "    \"Toto je čtvrtý řádek\",\n",
    "    sep=\"\\n\"\n",
    ")\n",
    "```"
   ]
  },
  {
   "cell_type": "markdown",
   "metadata": {},
   "source": [
    "Nevyužití logických operátorů a aplikace nežádoucího nestování:\n",
    "```python\n",
    "# špatně\n",
    "if text.isnumeric():\n",
    "    if 1 <= int(text) <= 3:\n",
    "        if text in results:\n",
    "```\n",
    "```python\n",
    "# správně\n",
    "if text.isnumeric() and 1 <= int(text) <= 3 and text in results:\n",
    "```\n",
    "\n",
    "```python\n",
    "# ještě lépe\n",
    "if (text.isnumeric()\n",
    "    and 1 <= int(text) <= 3\n",
    "    and text in results):\n",
    "```\n"
   ]
  },
  {
   "cell_type": "markdown",
   "metadata": {},
   "source": [
    "Nežádoucí porovnávání datových typů:\n",
    "```python\n",
    "# špatně\n",
    "def nespravne_porovnavani(x) -> None:\n",
    "    if x == None:\n",
    "        pass\n",
    "    \n",
    "    if x == True:\n",
    "        pass\n",
    "    \n",
    "    if x == False:\n",
    "        pass\n",
    "```\n",
    "```python\n",
    "# správně\n",
    "def nespravne_porovnavani(x) -> None:\n",
    "    if x is None:\n",
    "        pass\n",
    "    if x is True:\n",
    "        pass\n",
    "    if x is False:\n",
    "        pass\n",
    "```"
   ]
  },
  {
   "cell_type": "code",
   "execution_count": null,
   "metadata": {},
   "outputs": [],
   "source": [
    "# if x is True:\n",
    "if x:\n",
    "    pass\n",
    "\n",
    "# if x is False:\n",
    "if not x:\n",
    "    pass"
   ]
  },
  {
   "cell_type": "markdown",
   "metadata": {},
   "source": [
    "Špatně sestavené předpisy smyček *for*:\n",
    "\n",
    "```python\n",
    "# špatně\n",
    "vzorovy_list = [1, 2, 3]\n",
    "    \n",
    "for num in range(len(vzorovy_list)):\n",
    "    val = vzorovy_list[num]\n",
    "```\n",
    "\n",
    "```python\n",
    "# správně\n",
    "vzorovy_list = [1, 2, 3]\n",
    "    \n",
    "for num in vzorovy_list:\n",
    "    print(val)\n",
    "```"
   ]
  },
  {
   "cell_type": "markdown",
   "metadata": {},
   "source": [
    "### Ternární operátor"
   ]
  },
  {
   "cell_type": "code",
   "execution_count": null,
   "metadata": {},
   "outputs": [],
   "source": [
    "pocet = 1\n",
    "\n",
    "if pocet == 1:\n",
    "    formatovany_str = \"krávu\"\n",
    "else:\n",
    "    formatovany_str = \"krav\"\n",
    "\n",
    "print(f\"Máme {pocet} {formatovany_str}.\")"
   ]
  },
  {
   "cell_type": "code",
   "execution_count": null,
   "metadata": {},
   "outputs": [],
   "source": [
    "formatovany_str = \"krávu\" if pocet == 1 else \"krav\"\n",
    "\n",
    "print(f\"Máme {pocet} {formatovany_str}.\")"
   ]
  },
  {
   "cell_type": "markdown",
   "metadata": {},
   "source": [
    "### Enumerate"
   ]
  },
  {
   "cell_type": "code",
   "execution_count": null,
   "metadata": {},
   "outputs": [],
   "source": [
    "i = 0\n",
    "\n",
    "for pismeno in (\"a\", \"b\", \"c\"):\n",
    "    print(i, pismeno)\n",
    "    i += 1"
   ]
  },
  {
   "cell_type": "code",
   "execution_count": null,
   "metadata": {},
   "outputs": [],
   "source": [
    "for index, pismeno in enumerate((\"a\", \"b\", \"c\"), 0):\n",
    "    print(index, pismeno)"
   ]
  },
  {
   "cell_type": "markdown",
   "metadata": {},
   "source": [
    "### List comprehesions"
   ]
  },
  {
   "cell_type": "code",
   "execution_count": null,
   "metadata": {},
   "outputs": [],
   "source": [
    "pomocny_seznam = list()\n",
    "\n",
    "for pismeno in (\"a\", \"b\", \"c\"):\n",
    "    pomocny_seznam.append(pismeno)\n",
    "\n",
    "print(pomocny_seznam)"
   ]
  },
  {
   "cell_type": "code",
   "execution_count": null,
   "metadata": {},
   "outputs": [],
   "source": [
    "pomocny_seznam = [\n",
    "    pismeno\n",
    "    for pismeno in (\"a\", \"b\", \"c\", \"1\", \"\")\n",
    "    if pismeno.isalpha()\n",
    "]\n",
    "\n",
    "print(pomocny_seznam)"
   ]
  },
  {
   "cell_type": "markdown",
   "metadata": {},
   "source": [
    "<br>\n",
    "\n",
    "### Domácí úkol\n",
    "\n",
    "---\n",
    "\n",
    "<img src=\"https://external-content.duckduckgo.com/iu/?u=https%3A%2F%2Ftse3.mm.bing.net%2Fth%3Fid%3DOIP.XxURlbi8RZ3SMPoMRj91VwAAAA%26pid%3DApi&f=1\" width=\"200\">\n",
    "\n"
   ]
  },
  {
   "cell_type": "markdown",
   "metadata": {},
   "source": [
    "Níže napsaný zdrojový kód:\n",
    "1. Nejprve správně nastyluj/ naformátuj,\n",
    "2. dále jej refaktoruj tak, ať jde o pěkný Pythonovský zápis,\n",
    "3. doplň chybějící statistiky,\n",
    "4. nahrát do vlastního repozitáře a odeslat odkaz na Slack."
   ]
  },
  {
   "cell_type": "code",
   "execution_count": null,
   "metadata": {},
   "outputs": [],
   "source": [
    "TEXTS = ['''\n",
    "Situated about 10 miles west of Kemmerer, \n",
    "Fossil Butte is a ruggedly impressive \n",
    "topographic feature that rises sharply \n",
    "some 1000 feet above Twin Creek Valley \n",
    "to an elevation of more than 7500 feet \n",
    "above sea level. The butte is located just \n",
    "north of US 30N and the Union Pacific Railroad, \n",
    "which traverse the valley. ''',\n",
    "\n",
    "'''At the base of Fossil Butte are the bright \n",
    "red, purple, yellow and gray beds of the Wasatch \n",
    "Formation. Eroded portions of these horizontal \n",
    "beds slope gradually upward from the valley floor \n",
    "and steepen abruptly. Overlying them and extending \n",
    "to the top of the butte are the much steeper \n",
    "buff-to-white beds of the Green River Formation, \n",
    "which are about 300 feet thick.''',\n",
    "\n",
    "'''The monument contains 8198 acres and protects \n",
    "a portion of the largest deposit of freshwater fish \n",
    "fossils in the world. The richest fossil fish deposits \n",
    "are found in multiple limestone layers, which lie some \n",
    "100 feet below the top of the butte. The fossils \n",
    "represent several varieties of perch, as well as \n",
    "other freshwater genera and herring similar to those \n",
    "in modern oceans. Other fish such as paddlefish, \n",
    "garpike and stingray are also present.'''\n",
    "]"
   ]
  },
  {
   "cell_type": "code",
   "execution_count": null,
   "metadata": {},
   "outputs": [],
   "source": [
    "\"\"\"\n",
    "Text analyzér\n",
    "-------------\n",
    "\n",
    "Modul si vyžádá nejprve přihlašovací údaje. Pokud je uživatel uložený, může vybrat číslo textu (1-3) a modul mu zobrazí tyto informace:\n",
    "- počet slov,\n",
    "- počet slov začínajících velkým písmenem,\n",
    "- počet slov pouze s malými písmeny,\n",
    "- počet číslic,\n",
    "- součet všech číselných hodnot,\n",
    "- nejdelší slovo,\n",
    "- nejčastější slovo,\n",
    "- histogram.\n",
    "\"\"\"\n",
    "\n",
    "uzivatele = {'bob': '123','ann':'pass123', 'mike':'password123', 'liz':'pass123'}\n",
    "oddelovac = \"-\" * 35\n",
    "mezera    = \" \" * 6\n",
    "\n",
    "username=input('Uživatelské jméno: ')\n",
    "if username in uzivatele.keys():\n",
    "    password=input('Heslo: ')\n",
    "else:\n",
    "    print(\"Neregistrovaný uživatel\")\n",
    "    quit()\n",
    "print(oddelovac)\n",
    "\n",
    "if uzivatele.get(username)==password:\n",
    "    print(f'Vítej v aplikaci, {username}. K analýze máš na výber ze 3 textů.')\n",
    "    Text_no =input('Zadej číslo mezi 1-3: ')\n",
    "else:\n",
    "    print('Heslo je špatné')\n",
    "    quit()\n",
    "\n",
    "print(oddelovac)\n",
    "\n",
    "if Text_no.isnumeric():\n",
    "    if 1 <= int(Text_no) <= 3:\n",
    "        print(f'Statistiky')\n",
    "    else:\n",
    "        print('Zadané číslo není v rozmezí 1-3.')\n",
    "        Text_no = input('Zadej číslo mezi 1-3: ')\n",
    "else:\n",
    "    print('Zadaná hodnota není číslo.')\n",
    "    Text_no = input('Zadej číslo mezi 1-3: ')\n",
    "    \n",
    "Txt_index = (int(Text_no)-1)\n",
    "\n",
    "TEXTS[Txt_index] = TEXTS[Txt_index].replace('.', '')\n",
    "TEXTS[Txt_index] = TEXTS[Txt_index].replace(',', '')\n",
    "TEXTS[Txt_index] = TEXTS[Txt_index].replace('-', ' ')\n",
    "\n",
    "Pocet_slov = len(TEXTS[Txt_index].split())\n",
    "print(f'Ve vybraném textu je {Pocet_slov} slov.')\n",
    "lowercase = len([slovo for slovo in TEXTS[Txt_index].split() if slovo.islower()])\n",
    "# title = sum(map(str.istitle, TEXTS[Txt_index].split()))\n",
    "title = len([slovo for slovo in TEXTS[Txt_index].split() if slovo.istitle()])\n",
    "digit = [int(cislo) for cislo in TEXTS[Txt_index].split() if cislo.isnumeric()]\n",
    "\n",
    "upprecase = 0\n",
    "upprecasehelp = False\n",
    "\n",
    "for words in TEXTS[Txt_index].split():\n",
    "    if words.isupper():\n",
    "        for character in words:\n",
    "            if character.isdigit():\n",
    "                upprecasehelp = False\n",
    "                break\n",
    "            else:\n",
    "                upprecasehelp = True\n",
    "        if upprecasehelp:\n",
    "            upprecase += 1\n",
    "            print(words)\n",
    "\n",
    "suma = 0\n",
    "for word in TEXTS[Txt_index].split():\n",
    "    if word.isdigit():\n",
    "        suma += int(word)\n",
    "\n",
    "print(f'Ve vybraném textu je {upprecase} slov složených pouze z velkých písmen.')\n",
    "print(f'Ve vybraném textu jsou {digit} číslice.')\n",
    "print(f'Součet číslic je {suma}.')\n",
    "print(f'Ve vybraném textu je {title} slov s počátečním velkým písmenem.')\n",
    "print(f'Ve vybraném textu je {lowercase} slov složených pouze z malých písmen.')\n",
    "print(oddelovac)\n",
    "print(f'Delka slova {mezera} frekvence slova')\n",
    "print(oddelovac)\n",
    "\n",
    "words = TEXTS[Txt_index].split()\n",
    "\n",
    "lengths = [len(word) for word in words]\n",
    "max_length = max(lengths)\n",
    "tallies = [0 for x in range(max_length + 1)]\n",
    "\n",
    "for length in lengths:\n",
    "    tallies[length] += 1\n",
    "\n",
    "total_words = len(words)\n",
    "for length in range(len(tallies)):\n",
    "    if tallies[length] != 0:\n",
    "        freq = tallies[length]\n",
    "        hodnoty = \"*\" * freq\n",
    "        print(f'{length:3} {hodnoty:17} {freq:10d}')"
   ]
  },
  {
   "cell_type": "markdown",
   "metadata": {},
   "source": [
    "---"
   ]
  }
 ],
 "metadata": {
  "kernelspec": {
   "display_name": "Python 3",
   "language": "python",
   "name": "python3"
  },
  "language_info": {
   "codemirror_mode": {
    "name": "ipython",
    "version": 3
   },
   "file_extension": ".py",
   "mimetype": "text/x-python",
   "name": "python",
   "nbconvert_exporter": "python",
   "pygments_lexer": "ipython3",
   "version": "3.8.10"
  }
 },
 "nbformat": 4,
 "nbformat_minor": 4
}
