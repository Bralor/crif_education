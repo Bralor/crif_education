{
 "cells": [
  {
   "cell_type": "markdown",
   "metadata": {},
   "source": [
    "## Intro\n",
    "\n",
    "---\n",
    "1. [Prezentace](https://docs.google.com/presentation/d/1jHS70VuTULaafmjPrFsiKVKmv-OHkAQmpezF6za_wNc/edit?usp=sharing),\n",
    "1. [Python, obecný úvod](#Python,-obecný-úvod),\n",
    "2. [Python, instalace](#Python,-instalace),\n",
    "3. [Jupyter notebook, obecný úvod](#Jupyter-notebook,-obecný-úvod),\n",
    "4. [Jupyter notebook, instalace](#Jupyter-notebook,-instalace),\n",
    "5. [Pracovní prostředí, editory](#Pracovní-prostředí,-editory),\n",
    "6. [Pycharm, instalace](#Pycharm,-instalace),\n",
    "7. [Na doma](#Práce-na-doma)."
   ]
  },
  {
   "cell_type": "markdown",
   "metadata": {},
   "source": [
    "### Python, obecný úvod\n",
    "\n",
    "---\n",
    "\n",
    "<br>\n",
    "\n",
    "##### Proč se učit zrovna Python?\n",
    "Některé programovací jazyky, jako je *Python* (dále třeba *Javascript*), jsou pro člověka **snadněji pochopitelné** (syntaxe lidštější).\n",
    "\n",
    "<br>\n",
    "\n",
    "Jde o tzv. *vysokoúrovňové programovací jazyky*. Ty jsou sice **vzdálenější k řeči počítačů**, za to jsou **čitelnější pro člověka**.\n",
    "\n",
    "<br>\n",
    "\n",
    "Druhou skupinou programovacích jazyků jsou *nízkoúrovňové programovací jazyky* (mají blíže k jedničkám a nulám).\n",
    "\n",
    "<br>\n",
    "\n",
    "Např. jazyky jako **C** nebo **Assembly**. Ty jsou naopak náročnější na čtení a pochopení. Proto ne zcela vhodné pro úplné začátky v programování.\n",
    "\n",
    "<img src=\"https://i.imgur.com/2cGt5AP.png\" width=\"1200\">\n",
    "\n",
    "<br>\n",
    "\n",
    "##### Platí to stále?\n",
    "*Python* je dále programovací jazyk v nejlepších letech, který v únoru 2021 oslavil svoje [30. narozeniny](https://en.wikipedia.org/wiki/Python_(programming_language)).\n",
    "\n",
    "<br>\n",
    "\n",
    "A protože je v nejlepších letech, je současně [na roztrhání](https://insights.stackoverflow.com/survey/2021#most-loved-dreaded-and-wanted-language-want)\n",
    "\n",
    "<br>\n",
    "\n",
    "Dále se můžete podívat na [oficiální web](https://www.python.org/) (v angličtině). Můžete se podívat na sekci [jak začít](https://www.python.org/about/gettingstarted/) (*getting started*) , která je určené pro nováčky.\n",
    "\n",
    "<br>\n"
   ]
  },
  {
   "cell_type": "markdown",
   "metadata": {},
   "source": [
    "### Python, instalace\n",
    "\n",
    "---\n",
    "\n",
    "<br>\n",
    "\n",
    "##### Kde získám Python?\n",
    "\n",
    "Na [tomto odkaze](https://www.python.org/downloads/) si vybereš verzi podle tvého operačního systému.\n",
    "\n",
    "<br>\n",
    "\n",
    "##### Potřebuji Python 2 nebo Python 3?\n",
    "\n",
    "\n",
    "Opatrně, není *Python* jako *Python*.\n",
    "\n",
    "<br>\n",
    "\n",
    "Některé operační systémy (Linux, MacOS) mají velmi často **předem nainstalovaný Python se starší verzí (<2.7)**. Díky těmto, dnes již [oficiálně neudržovaným verzím](https://www.python.org/downloads/release/python-2718/) , totiž běží některé původní procesy.\n",
    "\n",
    "<br>\n",
    "\n",
    "Současně se s těmito verzemi můžete setkat v některých materiálech na webu.\n",
    "\n",
    "<br>\n",
    "\n",
    "My budeme pracovat s verzemi **Pythonu 3.8+**, abychom si společně mohli ukázat všechny funkce a procesy, které ve starších verzích nefungovaly.\n",
    "\n",
    "<br>\n",
    "\n",
    "##### Jak probíhá instalace na os Windows?"
   ]
  },
  {
   "cell_type": "code",
   "execution_count": 8,
   "metadata": {},
   "outputs": [
    {
     "data": {
      "image/jpeg": "[encoded data removed]",
      "text/html": [
       "\n",
       "        <iframe\n",
       "            width=\"900\"\n",
       "            height=\"500\"\n",
       "            src=\"https://www.youtube.com/embed/nzc8lCpWJhk\"\n",
       "            frameborder=\"0\"\n",
       "            allowfullscreen\n",
       "        ></iframe>\n",
       "        "
      ],
      "text/plain": [
       "<IPython.lib.display.YouTubeVideo at 0x7f4c5c48a100>"
      ]
     },
     "execution_count": 8,
     "metadata": {},
     "output_type": "execute_result"
    }
   ],
   "source": [
    "from IPython.display import YouTubeVideo\n",
    "YouTubeVideo('nzc8lCpWJhk', width=900, height=500)"
   ]
  },
  {
   "cell_type": "markdown",
   "metadata": {},
   "source": [
    "\n",
    "\n",
    "Po skončení instalace budeš mít k dispozici následující:\n",
    "\n",
    "1. **Základní prvky jazyka** \n",
    "2. **Interpret Pythonu** - tedy náš \"most\", který zajistí, aby počítač porozuměl našemu zápisu\n",
    "3. **Některé pomocné knihovny**\n",
    "\n",
    "<br>\n",
    "\n",
    "##### Proběhla instalace v pořádku?\n",
    "Pokud spustíš přík. řádek a napíšeš:\n",
    "```\n",
    "python --version\n",
    "```\n",
    "\n",
    "<br>\n",
    "\n",
    "Žádoucí výstup:\n",
    "```\n",
    "Python 3.10.XX\n",
    "```\n",
    "\n",
    "<br>\n",
    "\n",
    "*(demo instalace)*\n",
    "\n",
    "<br>\n"
   ]
  },
  {
   "cell_type": "markdown",
   "metadata": {},
   "source": [
    "### Jupyter notebook, obecný úvod\n",
    "\n",
    "---\n",
    "\n",
    "<br>\n",
    "\n",
    "<img src=\"https://external-content.duckduckgo.com/iu/?u=http%3A%2F%2Fwww.i-programmer.info%2Fimages%2Fstories%2FNews%2F2015%2FMar%2FA%2Fjupyter.jpg&f=1&nofb=1\" width=\"120\">\n",
    "\n",
    "##### Co je to Jupyter?\n",
    "Jde o speciální prostředí, které umožňuje využít potenciálu **interpretu Pythonu** a současně **zapisovat poznámky**, zobrazovat obrázky, grafy aj."
   ]
  },
  {
   "cell_type": "code",
   "execution_count": 1,
   "metadata": {},
   "outputs": [
    {
     "name": "stdout",
     "output_type": "stream",
     "text": [
      "Ahoj!\n"
     ]
    }
   ],
   "source": [
    "print(\"Ahoj!\")"
   ]
  },
  {
   "cell_type": "markdown",
   "metadata": {},
   "source": [
    "##### Jak jej poznám?\n",
    "Prostředí je postavené na tzv. *noteboocích*. Tedy souborech s příponech **.ipynb** (v podstatě `.json` soubory).\n",
    "\n",
    "```\n",
    "├── 00_introduction_p01.ipynb\n",
    "├── 01_numbers.ipynb\n",
    "├── 02_strings.ipynb\n",
    "├── 03_variables.ipynb\n",
    "├── 04_lists_and_tuples.ipynb\n",
    "├── 05_functions.ipynb\n",
    "├── 06_onsite_destinatio_p01.ipynb\n",
    "├── 07_challenges_p01.ipynb\n",
    "```\n",
    "\n",
    "<br>\n",
    "\n",
    "##### Proč potřebuji Jupyter, když mám Python?\n",
    "Jde o nástroj sloužící k prezentování studií datové analýzy, případové studie, koncepty, prezentaci dat a úprav dat.\n",
    "\n",
    "<br>\n",
    "\n",
    "Účel není nutně vyvíjet a nasazovat svoje řešení. Spíše vzdělávat, popisovat, prezentovat.\n",
    "\n",
    "<br>\n",
    "\n",
    "* více o projektu [Jupyter](https://jupyter.org/)\n",
    "* více o projektu [Google Colaboratory](https://workspace.google.com/marketplace/app/colaboratory/1014160490159)"
   ]
  },
  {
   "cell_type": "markdown",
   "metadata": {},
   "source": [
    "### Jupyter notebook, instalace\n",
    "\n",
    "---\n",
    "\n",
    "<br>\n",
    "\n",
    "##### pip\n",
    "Instalace celého prostředí pomocí manažeru balíčků `pip` v příkazovém řádku:\n",
    "```\n",
    "pip install jupyterlab\n",
    "```\n",
    "\n",
    "<br>\n",
    "\n",
    "Pro spuštění v přík. řádku:\n",
    "```\n",
    "jupyter notebook\n",
    "```\n",
    "\n",
    "<br>\n",
    "\n",
    "Nakonec se automaticky otevře **karta prohlížeče** s prostředím Jupyteru.\n",
    "\n",
    "<br>\n",
    "\n",
    "##### anaconda\n",
    "Instalace přes `.exe`, který je ke stažení [zde](https://www.anaconda.com/products/individual).\n",
    "\n",
    "<br>\n",
    "\n",
    "##### ipynb vs. py\n",
    "Ačkoliv je **Jupyter** (i **Colab**) efektivní nástroj datového analytika, pro potřeby vývoje (př. automatizované řešení, skript a balíčky) programátorů samotné nestačí.\n",
    "\n",
    "<br>\n",
    "\n",
    "*(demo)*\n",
    "\n",
    "<br>\n",
    "\n",
    "Proto je potřeba ovládat také některé **pracovní prostředí**.\n"
   ]
  },
  {
   "cell_type": "markdown",
   "metadata": {},
   "source": [
    "### Pracovní prostředí, editory\n",
    "\n",
    "---\n",
    "\n",
    "<img src=\"https://external-content.duckduckgo.com/iu/?u=https%3A%2F%2Fcdn0.iconfinder.com%2Fdata%2Ficons%2Fdevelopment-2%2F24%2Fterminal-512.png&f=1&nofb=1\" width=\"100\">\n",
    "\n",
    "1. **Interpret** - *interaktivní prostředí interpreta* přímo v příkazovém řádku tvého počítače.\n",
    "Takto můžeš okamžitě spouštět a ověřovat jednoduché příkazy (objeví černá obrazovka se třemi šipkami na začátku posledního řádku `>>>`). *(demo)*\n",
    "\n",
    "\n",
    "\n",
    "<br>\n",
    "\n",
    "<img src=\"https://external-content.duckduckgo.com/iu/?u=https%3A%2F%2Ftse4.mm.bing.net%2Fth%3Fid%3DOIP.01wQQUPye1OQjkobfbR1AQHaHa%26pid%3DApi&f=1\" width=\"100\">\n",
    "\n",
    "2. **Textový editor** - upravený textový editor, který umí formátovat text, napovídat, atd. Na ukázku se můžeš podívat třeba na [Sublime text](https://www.sublimetext.com/) nebo [Atom](https://atom.io/). *(demo)*\n",
    "\n",
    "<br>\n",
    "\n",
    "<img src=\"https://external-content.duckduckgo.com/iu/?u=https%3A%2F%2Fmiro.medium.com%2Fmax%2F1200%2F1*6Dhu1H4t028lOGbaZuyRCw.png&f=1&nofb=1\" width=\"100\">\n",
    "\n",
    "3. **Vývojařské prostředí** - specializované prostředí obsahující různé nástroje a pomůcky (sofistikovanější, často větší než editor i náročnější na paměť). Podívej se třeba na [PyCharm](https://www.jetbrains.com/pycharm/), [Visual Studio Code](https://code.visualstudio.com/) nebo [replit](https://replit.com/). *(demo)*\n",
    "\n",
    "<br>"
   ]
  },
  {
   "cell_type": "markdown",
   "metadata": {},
   "source": [
    "### Pycharm, instalace\n",
    "\n",
    "---\n",
    "\n",
    "Instalátor stáhneš na [oficiálním webu](https://www.jetbrains.com/).\n",
    "\n",
    "<br>\n",
    "\n",
    "##### Jak probíhá instalace na OS Windows?"
   ]
  },
  {
   "cell_type": "code",
   "execution_count": 7,
   "metadata": {},
   "outputs": [
    {
     "data": {
      "image/jpeg": "[encoded data removed]",
      "text/html": [
       "\n",
       "        <iframe\n",
       "            width=\"900\"\n",
       "            height=\"500\"\n",
       "            src=\"https://www.youtube.com/embed/Sb4FJP64IvQ\"\n",
       "            frameborder=\"0\"\n",
       "            allowfullscreen\n",
       "        ></iframe>\n",
       "        "
      ],
      "text/plain": [
       "<IPython.lib.display.YouTubeVideo at 0x7f4c5c48a160>"
      ]
     },
     "execution_count": 7,
     "metadata": {},
     "output_type": "execute_result"
    }
   ],
   "source": [
    "from IPython.display import YouTubeVideo\n",
    "YouTubeVideo('Sb4FJP64IvQ', width=900, height=500)"
   ]
  },
  {
   "cell_type": "markdown",
   "metadata": {},
   "source": [
    "\n",
    "<br>\n",
    "\n",
    "*(demo)*\n",
    "\n",
    "<br>"
   ]
  },
  {
   "cell_type": "markdown",
   "metadata": {},
   "source": [
    "### Práce na doma\n",
    "\n",
    "---\n",
    "\n",
    "V rámci přípravy doma si nainstaluj a spusť tyto nástroje:\n",
    "1. **Python** (verze 3.8.10+),\n",
    "2. **Jupyter notebook** (verze 6.1.6+),\n",
    "3. **Pycharm** (community edition, 11.0.13+),\n",
    "4. [**Zpětná vazba & materiály**](https://drive.google.com/drive/folders/13G2CA3cgCciavYGDp46L7Ejbzc_BkqlG?usp=sharing)."
   ]
  },
  {
   "cell_type": "markdown",
   "metadata": {},
   "source": [
    "---"
   ]
  }
 ],
 "metadata": {
  "kernelspec": {
   "display_name": "Python 3",
   "language": "python",
   "name": "python3"
  },
  "language_info": {
   "codemirror_mode": {
    "name": "ipython",
    "version": 3
   },
   "file_extension": ".py",
   "mimetype": "text/x-python",
   "name": "python",
   "nbconvert_exporter": "python",
   "pygments_lexer": "ipython3",
   "version": "3.8.10"
  }
 },
 "nbformat": 4,
 "nbformat_minor": 4
}
