{
 "cells": [
  {
   "cell_type": "markdown",
   "metadata": {},
   "source": [
    "### Úvod\n",
    "\n",
    "---\n",
    "\n",
    "1. [Rozhodování](#Rozhodování),\n",
    "1. [Datový typ boolean](#Datový-typ-bool-(~boolean)),\n",
    "4. [Operace s boolean](#Operace-s-boolean),\n",
    "2. [Jednoduchý podmínkový zápis](#Jednoduchý-podmínkový-zápis),\n",
    "3. [Rozvinutý podmínkový zápis](#Rozvinutý-podmínkový-zápis),\n",
    "5. [Ternární operátor](#Ternární-operátor),\n",
    "6. [Domácí úkol](#Domácí-úkol).\n",
    "\n",
    "<br>\n",
    "\n",
    "### Rozhodování\n",
    "\n",
    "---\n",
    "\n",
    "Jeden z prvních zásadních algorytmů, který je potřeba umět, je naučit náš program rozhodovat se.\n",
    "\n",
    "<br>\n",
    "\n",
    "```python\n",
    "jmeno = \"Matous\"\n",
    "vek = 11\n",
    "```\n",
    "Uživatel Matouš **není plnoletý**, jak mu ale **omezím přístup** k naší aplikaci.\n",
    "\n",
    "<br>\n",
    "\n",
    "```python\n",
    "zamestnanci = (\"Ladislav Dvořák\", \"Nikola Lehká\", \"Jitka Adamová\")\n",
    "cele_jmeno = \"Ladislav Dvořák\"\n",
    "```\n",
    "Potřebuji ověřit, jestli zadané jméno **patří k zaměstnancům** firmy.\n",
    "\n",
    "<br>\n",
    "\n",
    "```python\n",
    "soupis_tabulek = \"user\", \"matous\", \"employees\"\n",
    "jmeno_tabulky = \"employees\n",
    "```\n",
    "Co když budu chtít přidat novou tabulku do DB a tabulka **již existuje**?\n",
    "\n",
    "<br>\n",
    "\n",
    "Jak řešit tyto a podobné otázky si ukážeme dále pomocí nového datového typu **bool** a s ním souvisejícím **podmínkový zápisem**.\n",
    "\n",
    "<br>"
   ]
  },
  {
   "cell_type": "markdown",
   "metadata": {},
   "source": [
    "### Datový typ `bool` (~boolean)\n",
    "\n",
    "---\n"
   ]
  },
  {
   "cell_type": "markdown",
   "metadata": {},
   "source": [
    "Tento **datový typ** pomáhá *rozhodovat*, jestli je celý **zápis** (ohlášení) či **hodnota**(výraz) pravdivý a nebo nepravdivý.\n",
    "\n",
    "<br>\n",
    "\n",
    "Datový typ má prakticky pouze **tyto hodnoty**:\n",
    "* `True` (~pravda),\n",
    "* `False` (~nepravda).\n",
    "\n",
    "<br>\n",
    "\n",
    "**Boolean** vychází z datového typu **integer** (~z celých čísel):\n",
    "* `True` odpovídá hodnotě `1`,\n",
    "* `False` odpovídá hodnotě `0`."
   ]
  },
  {
   "cell_type": "code",
   "execution_count": null,
   "metadata": {},
   "outputs": [],
   "source": [
    "vek = 11\n",
    "jmeno = \"Matous\"\n",
    "je_plnolety = False"
   ]
  },
  {
   "cell_type": "markdown",
   "metadata": {},
   "source": [
    "<br>\n",
    "\n",
    "#### Funkce `bool`\n",
    "\n",
    "---\n",
    "\n",
    "Tato *zabudovaná funkce* Ti pomůže lépe pochopit práci s datovým typem `bool`.\n",
    "\n",
    "<br>\n",
    "\n",
    "Funguje jako nějaký **rozhodčí**, kterému stačí zadat **výraz** (příp. hodnotu) a funkce ji *ohodnotí*, jestli je **pravdivá** nebo **nepravdivá**."
   ]
  },
  {
   "cell_type": "code",
   "execution_count": null,
   "metadata": {},
   "outputs": [],
   "source": [
    "print(bool(1))"
   ]
  },
  {
   "cell_type": "code",
   "execution_count": null,
   "metadata": {},
   "outputs": [],
   "source": [
    "print(bool(0))"
   ]
  },
  {
   "cell_type": "markdown",
   "metadata": {},
   "source": [
    "<br>\n",
    "\n",
    "###### Funkce bool a jiné datové typy"
   ]
  },
  {
   "cell_type": "code",
   "execution_count": null,
   "metadata": {},
   "outputs": [],
   "source": [
    "print(bool(2))"
   ]
  },
  {
   "cell_type": "code",
   "execution_count": null,
   "metadata": {},
   "outputs": [],
   "source": [
    "print(bool(\"Matous\"))"
   ]
  },
  {
   "cell_type": "code",
   "execution_count": null,
   "metadata": {},
   "outputs": [],
   "source": [
    "print(bool(2.5))"
   ]
  },
  {
   "cell_type": "code",
   "execution_count": null,
   "metadata": {},
   "outputs": [],
   "source": [
    "print(bool([\"a\", \"b\"]))"
   ]
  },
  {
   "cell_type": "code",
   "execution_count": null,
   "metadata": {},
   "outputs": [],
   "source": [
    "print(bool(\"\"))"
   ]
  },
  {
   "cell_type": "code",
   "execution_count": null,
   "metadata": {},
   "outputs": [],
   "source": [
    "print(bool({}))"
   ]
  },
  {
   "cell_type": "code",
   "execution_count": null,
   "metadata": {},
   "outputs": [],
   "source": [
    "print(bool(()))"
   ]
  },
  {
   "cell_type": "code",
   "execution_count": null,
   "metadata": {},
   "outputs": [],
   "source": [
    "print(bool(None))"
   ]
  },
  {
   "cell_type": "markdown",
   "metadata": {},
   "source": [
    "<br>\n",
    "\n",
    "`None` v Pythonu používáme pro označení **absence hodnoty** (*odkaz* nemá hodnotu). V jiných jazycích třeba `Null`, `NaN`.\n",
    "\n",
    "<br>\n",
    "\n",
    "###### Verdikt\n",
    "\n",
    "<br>\n",
    "\n",
    "| Hodnota | Vyhodnocení funkcí `bool`|\n",
    "|:-:|:-:|\n",
    "|`2`| `True` |\n",
    "|`\"Matous\"`| `True` |\n",
    "|`2.5`| `True`|\n",
    "|`[\"a\", \"b\"]`|`True`|\n",
    "|`\"\"`| `False`|\n",
    "|`{}`| `False`|\n",
    "|`()`| `False`|\n",
    "|`None`| `False`|\n",
    "\n",
    "<br>\n",
    "\n",
    "Můžeš tedy prohlásit, že pokud vložíš **neprázdnou hodnotu** (`str`, `int`, `list`, aj), dostaneme hodnotu `True`.\n",
    "\n",
    "V opačném případě dostaneme `False`.\n",
    "\n",
    "<br>\n",
    "\n",
    "\n",
    "### Operace s boolean\n",
    "\n",
    "---\n",
    "\n",
    "<br>\n",
    "\n",
    "##### 1. Srovnávání hodnot\n",
    "\n",
    "<br>\n",
    "\n",
    "| Operátor | Význam |\n",
    "|:-:|:-|\n",
    "| `<` | menší než |\n",
    "| `>` | větší než |\n",
    "| `<=` | menší nebo rovno |\n",
    "| `>=` | větší nebo rovno |\n",
    "| `==` | rovnost |\n",
    "| `!=` | nerovnost |\n"
   ]
  },
  {
   "cell_type": "code",
   "execution_count": null,
   "metadata": {},
   "outputs": [],
   "source": [
    "print(bool(144 < 1))"
   ]
  },
  {
   "cell_type": "code",
   "execution_count": null,
   "metadata": {},
   "outputs": [],
   "source": [
    "print(bool(144 == 142))"
   ]
  },
  {
   "cell_type": "code",
   "execution_count": null,
   "metadata": {},
   "outputs": [],
   "source": [
    "print(bool(144 != 100))"
   ]
  },
  {
   "cell_type": "markdown",
   "metadata": {},
   "source": [
    "<br>\n",
    "\n",
    "##### 2. Srovnání objektů (identit)\n",
    "\n",
    "<br>\n",
    "\n",
    "| Operátor | Význam |\n",
    "| :-: | :-: |\n",
    "| `is` | totožná identita |\n",
    "| `is not` | různá identita |\n",
    "\n",
    "<br>\n",
    "\n",
    "Každý objekt má svůj **identifikátor** (~číslo, poznávací značku).\n",
    "\n",
    "<br>\n",
    "\n",
    "Tento **identifikátor** můžeš vypsat pomocí zabudované funkce `id`."
   ]
  },
  {
   "cell_type": "code",
   "execution_count": null,
   "metadata": {},
   "outputs": [],
   "source": [
    "jmeno_1 = \"Matous\"\n",
    "jmeno_2 = \"Lukas\"\n",
    "prijmeni_1 = \"Holinka\"\n",
    "prijmeni_2 = \"Holinka\""
   ]
  },
  {
   "cell_type": "code",
   "execution_count": null,
   "metadata": {},
   "outputs": [],
   "source": [
    "print(\n",
    "    id(jmeno_1),\n",
    "    id(jmeno_2),\n",
    "    sep=\"\\n\"\n",
    ")"
   ]
  },
  {
   "cell_type": "code",
   "execution_count": null,
   "metadata": {},
   "outputs": [],
   "source": [
    "print(\n",
    "    id(prijmeni_1),\n",
    "    id(prijmeni_2),\n",
    "    sep=\"\\n\"\n",
    ")"
   ]
  },
  {
   "cell_type": "code",
   "execution_count": null,
   "metadata": {},
   "outputs": [],
   "source": [
    "print(\n",
    "    bool(jmeno_1 is jmeno_2),       # False\n",
    "    bool(prijmeni_1 is prijmeni_2), # True\n",
    "    sep=\"\\n\"\n",
    ")"
   ]
  },
  {
   "cell_type": "markdown",
   "metadata": {},
   "source": [
    "<br>\n",
    "\n",
    "##### 3. Logické operace\n",
    "\n",
    "<br>\n",
    "\n",
    "*Operátory* slouží **ke spojování** několika **bool** výrazů:\n",
    "1. `and`,\n",
    "2. `or`,\n",
    "3. `not`.\n",
    "\n",
    "<br>\n",
    "\n",
    "###### Operátor `and`"
   ]
  },
  {
   "cell_type": "code",
   "execution_count": null,
   "metadata": {},
   "outputs": [],
   "source": [
    "print(bool(True and True))"
   ]
  },
  {
   "cell_type": "code",
   "execution_count": null,
   "metadata": {},
   "outputs": [],
   "source": [
    "print(bool(True and False))"
   ]
  },
  {
   "cell_type": "code",
   "execution_count": null,
   "metadata": {},
   "outputs": [],
   "source": [
    "print(bool(False and True))"
   ]
  },
  {
   "cell_type": "code",
   "execution_count": null,
   "metadata": {},
   "outputs": [],
   "source": [
    "print(bool(False and False))"
   ]
  },
  {
   "cell_type": "code",
   "execution_count": null,
   "metadata": {},
   "outputs": [],
   "source": [
    "print(bool(True and True and True))"
   ]
  },
  {
   "cell_type": "code",
   "execution_count": null,
   "metadata": {},
   "outputs": [],
   "source": [
    "print(bool(True and True and True and False))"
   ]
  },
  {
   "cell_type": "markdown",
   "metadata": {},
   "source": [
    "Pokud použijeme **boolean operátor** `and` a od jednotlivých výroků získám byť jednu hodnotu `False`, **celý výsledek** bude **nepravdivý**. Tedy `False`.\n",
    "\n",
    "<br>\n",
    "\n",
    "Často můžeme aplikovat princip tzv. *zkráceného vyhodnocování*. Pokud uvidím jako první hodnotu `False` (a pracuji s operátorem `and`), nemusíš procházet dálší výrazy. Výsledek je `False`.\n",
    "\n",
    "<br>\n",
    "\n",
    "###### Operátor `or`"
   ]
  },
  {
   "cell_type": "code",
   "execution_count": null,
   "metadata": {},
   "outputs": [],
   "source": [
    "print(bool(True or True))"
   ]
  },
  {
   "cell_type": "code",
   "execution_count": null,
   "metadata": {},
   "outputs": [],
   "source": [
    "print(bool(True or False))"
   ]
  },
  {
   "cell_type": "code",
   "execution_count": null,
   "metadata": {},
   "outputs": [],
   "source": [
    "print(bool(False or True))"
   ]
  },
  {
   "cell_type": "code",
   "execution_count": null,
   "metadata": {},
   "outputs": [],
   "source": [
    "print(bool(False or False))"
   ]
  },
  {
   "cell_type": "code",
   "execution_count": null,
   "metadata": {},
   "outputs": [],
   "source": [
    "print(bool(False or False or False))"
   ]
  },
  {
   "cell_type": "code",
   "execution_count": null,
   "metadata": {},
   "outputs": [],
   "source": [
    "print(bool(False or False or True))"
   ]
  },
  {
   "cell_type": "code",
   "execution_count": null,
   "metadata": {},
   "outputs": [],
   "source": [
    "print(bool(False and False or True)) # Dotaz priorita operatoru?"
   ]
  },
  {
   "cell_type": "markdown",
   "metadata": {},
   "source": [
    "Pokud použijeme **boolean operátor** `or` a od jednotlivých výroků získám byť jednu hodnotu `True`, **celý výsledek** bude **pravdivý**. Tedy `True`.\n",
    "\n",
    "<br>\n",
    "\n",
    "Opět lze použít princip **zrychleného vyhodnocování**. Tedy pokud funkce `bool` vrátí aspoň jednu hodnotu `True` (a pracuji s operátorem `or`), výsledek celého zápisu bude `True`.\n",
    "\n",
    "<br>\n",
    "\n",
    "###### Operátor `not`"
   ]
  },
  {
   "cell_type": "code",
   "execution_count": null,
   "metadata": {},
   "outputs": [],
   "source": [
    "print(bool(not True))"
   ]
  },
  {
   "cell_type": "code",
   "execution_count": null,
   "metadata": {},
   "outputs": [],
   "source": [
    "print(bool(not False))"
   ]
  },
  {
   "cell_type": "markdown",
   "metadata": {},
   "source": [
    "<br>\n",
    "\n",
    "Jde o operaci, kterou lze aplikovat na **jedinou** **boolean** hodnotu, kdy výsledkem je její obrácená hodnota.\n",
    "\n",
    "<br>\n",
    "\n",
    "##### 4. Ověření členství (~membership testing)\n",
    "\n",
    "Nejde o proces, který by přímo pracoval s `bool` hodnotami.\n",
    "\n",
    "<br>\n",
    "\n",
    "Ovšem právě `True` a `False` jsou hodnoty, které jsou **výsledkem toho procesu**.\n",
    "\n",
    "<br>\n"
   ]
  },
  {
   "cell_type": "code",
   "execution_count": null,
   "metadata": {},
   "outputs": [],
   "source": [
    "print(bool(\"m\" in \"Matous\"))"
   ]
  },
  {
   "cell_type": "code",
   "execution_count": null,
   "metadata": {},
   "outputs": [],
   "source": [
    "print(bool(\"M\" in \"Matous\"))"
   ]
  },
  {
   "cell_type": "markdown",
   "metadata": {},
   "source": [
    "V podstatě se ptáme následovně:\"**Je výraz na levé straně součásti výrazu na pravé straně?**\".\n",
    "\n",
    "<br>\n",
    "\n",
    "**Ověření členství** je ve skutečnosti proces, který obecně zařazujeme mezi operace jako *indexing*, *slicing*, *striding*. Resp. operace, které můžeme provádět se **sekvencemi**.\n",
    "\n",
    "<br>\n",
    "\n",
    "#####  `is` nebo `==` ?\n",
    "\n",
    "<br>\n",
    "\n",
    "Opatrně na aplikaci operátorů porovnávání **identit** a **hodnot**:\n",
    "* `==` a `!=` **porovnávají hodnotu**,\n",
    "* `is` a `is not` porovnávají, jestli dvě proměnné ukazují v paměti počítače **na stejný objekt**."
   ]
  },
  {
   "cell_type": "code",
   "execution_count": null,
   "metadata": {},
   "outputs": [],
   "source": [
    "muj_seznam_1 = [1, 2, 3]\n",
    "muj_seznam_2 = [1, 2]"
   ]
  },
  {
   "cell_type": "code",
   "execution_count": null,
   "metadata": {},
   "outputs": [],
   "source": [
    "print(bool(muj_seznam_1 == muj_seznam_2))  # [1, 2, 3] != [1, 2]"
   ]
  },
  {
   "cell_type": "code",
   "execution_count": null,
   "metadata": {},
   "outputs": [],
   "source": [
    "muj_seznam_3 = [1, 2, 3]\n",
    "muj_seznam_4 = [1, 2, 3]"
   ]
  },
  {
   "cell_type": "code",
   "execution_count": null,
   "metadata": {},
   "outputs": [],
   "source": [
    "print(muj_seznam_3 == muj_seznam_4)  # [1, 2, 3] == [1, 2, 3]"
   ]
  },
  {
   "cell_type": "code",
   "execution_count": null,
   "metadata": {},
   "outputs": [],
   "source": [
    "print(muj_seznam_3 is muj_seznam_4)  # ?"
   ]
  },
  {
   "cell_type": "code",
   "execution_count": null,
   "metadata": {},
   "outputs": [],
   "source": [
    "print(\n",
    "    id(muj_seznam_3),\n",
    "    id(muj_seznam_4),\n",
    "    sep=\"\\n\"\n",
    ")"
   ]
  },
  {
   "cell_type": "markdown",
   "metadata": {},
   "source": [
    "<br>\n",
    "\n",
    "### Jednoduchý podmínkový zápis\n",
    "\n",
    "---\n",
    "\n",
    "*Rozhodování* je proces, který budeš potřebovat pokud budeš chtít, aby **tvůj zápis** uměl sám vyvodit závěr.\n",
    "```python\n",
    "jmeno = \"Matous\"\n",
    "vek = 11\n",
    "# je nebo není plnoletý?\n",
    "```\n",
    "\n",
    "<br>\n",
    "\n",
    "V Pythonu můžeš rozhodování zapsat pomocí tzv. *podmínkového zápisu*.\n",
    "\n",
    "<br>\n",
    "\n",
    "##### Předpis s klíč. slovem `if`"
   ]
  },
  {
   "cell_type": "code",
   "execution_count": null,
   "metadata": {},
   "outputs": [],
   "source": [
    "if True:\n",
    "    print(\"Ahoj, Matousi!\")\n",
    "print(\"Pokracuji..\")"
   ]
  },
  {
   "cell_type": "code",
   "execution_count": null,
   "metadata": {},
   "outputs": [],
   "source": [
    "if False:\n",
    "    print(\"Ahoj, Matousi!\")\n",
    "print(\"Pokracuji..\")"
   ]
  },
  {
   "cell_type": "markdown",
   "metadata": {},
   "source": [
    "Zápis se skládá z:\n",
    "1. `if`, klíčové slovo pro předpis podmínky,\n",
    "2. `True`, výraz nebo ohlášení (`bool(...)`),\n",
    "3. `:`, řádek ukončený dvojtečkou,\n",
    "4. `print(...)`odsazený následující řádek.\n",
    "\n",
    "<br>\n",
    "\n",
    "*Interpret* se podívá na **podmínku** a pokud ji vyhodnotí **jako pravdivou** (`True`), **provede odsazený řádek** pod předpisem.\n",
    "\n",
    "Pokud ji vyhodnotí **jako nepravdivou** (`False`), **přeskočí odsazený řádek** pod předpisem.\n",
    "\n",
    "<br>\n",
    "\n",
    "##### Předpis `if` / `else`"
   ]
  },
  {
   "cell_type": "code",
   "execution_count": null,
   "metadata": {},
   "outputs": [],
   "source": [
    "dospely = True  # False\n",
    "\n",
    "if dospely:\n",
    "    print(\"Uživatel je plnoletý, může pokračovat dále..\")\n",
    "else:\n",
    "    print(\"Uživatel mladší osmnácti let nesmí používat aplikaci..\")"
   ]
  },
  {
   "cell_type": "markdown",
   "metadata": {},
   "source": [
    "Zápis se nyní skládá z:\n",
    "1. `if`, klíčové slovo pro **předpis podmínky**,\n",
    "2. `dospely`, **výraz**,\n",
    "3. `:`, řádek **ukončený dvojtečkou**,\n",
    "4. `print(...)` odsazený následující řádek, který nastane pokud je podmínka **pravdivá**,\n",
    "5. `else`, klíčové slovo, pokud výraz pro větev v případě, že je výraz **nepravdivý**,\n",
    "6. `:`, řádek **ukončený dvojtečkou**,\n",
    "7. `print(...)` odsazený **následující řádek**.\n",
    "\n",
    "<br>\n",
    "\n",
    "*Interpret* se podívá na **podmínku** a pokud ji vyhodnotí **jako pravdivou** (`True`), **provede odsazený řádek** pod předpisem. Větev `else` přeskočí.\n",
    "\n",
    "Pokud ji vyhodnotí **jako nepravdivou** (`False`), **přeskočí odsazený řádek** pod předpisem a provede ohlášení v `else`.\n",
    "\n",
    "<br>"
   ]
  },
  {
   "cell_type": "markdown",
   "metadata": {},
   "source": [
    "##### Předpis if / elif / else"
   ]
  },
  {
   "cell_type": "code",
   "execution_count": null,
   "metadata": {},
   "outputs": [],
   "source": [
    "zakaznik = \"Matouš\"  # \"Lukáš\", \"Petr\"\n",
    "\n",
    "if zakaznik == \"Matouš\":\n",
    "    print(\"Ahoj, Matouši!\")\n",
    "elif zakaznik == \"Lukáš\":\n",
    "    print(\"Ahoj, Lukáši!\")\n",
    "else:\n",
    "    print(\"Ahoj!\")"
   ]
  },
  {
   "cell_type": "markdown",
   "metadata": {},
   "source": [
    "Zápis se nyní skládá z:\n",
    "1. `if`, klíčové slovo pro **předpis podmínky**,\n",
    "2. `zakaznik == \"Matouš\"`, ohlášení,\n",
    "3. `:`, řádek **ukončený dvojtečkou**,\n",
    "4. `print(...)` odsazený následující řádek, který se interpretuje pokud je podmínka u `if` **pravdivá**,\n",
    "5. `elif`, klíčové slovo, pokud je větev `if` **nepravdivá**, zkontroluj tuto větev,\n",
    "6. `:`, řádek ukončený **dvojtečkou**,\n",
    "7. `print(...)` odsazený následující řádek, který se interpretuje pokud je podmínka u `elif` **pravdivá**,\n",
    "8. `else`, klíčové slovo, proveď automaticky tuto větev, pokud byly předchozí podmínky **nepravdivé**.\n"
   ]
  },
  {
   "cell_type": "markdown",
   "metadata": {},
   "source": [
    "<br>\n",
    "\n",
    "### Rozvinutý podmínkový zápis\n",
    "\n",
    "---\n",
    "\n",
    "Podmínkový zápis ale není jen obyčejné `if`, `elif` a `else`.\n",
    "\n",
    "<br>\n",
    "\n",
    "Záleží na okolnostech a možných scénářích, ale pomocí operátorů můžeš zápis ještě **rozšířit**."
   ]
  },
  {
   "cell_type": "code",
   "execution_count": null,
   "metadata": {},
   "outputs": [],
   "source": [
    "jmeno = \"Petr\"\n",
    "je_zdravy = False"
   ]
  },
  {
   "cell_type": "code",
   "execution_count": null,
   "metadata": {},
   "outputs": [],
   "source": [
    "if jmeno == \"Matous\" and je_zdravy:\n",
    "    zprava = \"Ahoj, Matousi! Tak at te zdravi neopousti!\"\n",
    "    \n",
    "elif jmeno == \"Lukas\" and je_zdravy:\n",
    "    zprava = \"Ahoj, Lukasi! Tak at te zdravi neopousti!\"\n",
    "\n",
    "elif jmeno == \"Matous\" and not je_zdravy:\n",
    "    zprava = \"Ahoj, Matousi! Hlavne se brzy uzdrav!\"\n",
    "    \n",
    "elif jmeno == \"Lukas\" and not je_zdravy:\n",
    "    zprava = \"Ahoj, Lukasi! Hlavne se brzy uzdrav!\"\n",
    "\n",
    "else:\n",
    "    zprava = \"Ahoj, vsem ostatnim!\""
   ]
  },
  {
   "cell_type": "code",
   "execution_count": null,
   "metadata": {},
   "outputs": [],
   "source": [
    "print(zprava)"
   ]
  },
  {
   "cell_type": "markdown",
   "metadata": {},
   "source": [
    "<br>\n",
    "\n",
    "### Ternární operátor\n",
    "\n",
    "---\n",
    "V Pythonu 2.5 byl přidán jednořádkový zápis pro jednoduchou podmínku `if/else`. Jde o **pokročilejší variantu** zápisu podmínky:\n",
    "\n",
    "```python\n",
    "<proveď_toto> if <pokud_platí_toto> else <jinak_proveď_toto>\n",
    "```"
   ]
  },
  {
   "cell_type": "code",
   "execution_count": null,
   "metadata": {},
   "outputs": [],
   "source": [
    "\"\"\"\n",
    "if vek >= 18:\n",
    "    print(\"Dospělý\")\n",
    "else:\n",
    "    print(\"Mladiství\")\n",
    "\"\"\"\n",
    "vek = 20\n",
    "\n",
    "print(\"Dospělý\") if vek >= 18 else print(\"Mladiství\")"
   ]
  },
  {
   "cell_type": "code",
   "execution_count": null,
   "metadata": {},
   "outputs": [],
   "source": [
    "vek = 2\n",
    "\n",
    "stav = \"Dospělý\" if vek >= 18 else \"Mladiství\""
   ]
  },
  {
   "cell_type": "code",
   "execution_count": null,
   "metadata": {},
   "outputs": [],
   "source": [
    "print(stav)"
   ]
  },
  {
   "cell_type": "markdown",
   "metadata": {},
   "source": [
    "<br>\n",
    "\n",
    "### Domácí úkol\n",
    "\n",
    "---"
   ]
  },
  {
   "cell_type": "code",
   "execution_count": null,
   "metadata": {},
   "outputs": [],
   "source": [
    "heslo_0 = \"\"            # FAIL -> \"Vynechal jsi pole s heslem!\"\n",
    "heslo_1 = \"1panpes738\"  # FAIL -> \"Heslo nesmí začínat číselným znakem\"\n",
    "heslo_2 = \"panpessss\"   # FAIL -> \"Heslo musí obsahovat jak číselné znaky, tak písmena\"\n",
    "heslo_3 = \"123456\"      # FAIL -> \"Heslo nesmí začínat číselným znakem\"\n",
    "heslo_4 = \"aa1234\"      # FAIL -> \"Heslo musí být alespoň 8 znaků dlouhé\"\n",
    "heslo_5 = \"p@npes7778\"  # FAIL -> \"Heslo nesmí obsahovat @\"\n",
    "heslo_6 = \"panpes7778\"  # PASS -> \"Heslo je v pořádku\""
   ]
  },
  {
   "cell_type": "code",
   "execution_count": null,
   "metadata": {},
   "outputs": [],
   "source": [
    "heslo = heslo_0"
   ]
  },
  {
   "cell_type": "markdown",
   "metadata": {},
   "source": [
    "---"
   ]
  }
 ],
 "metadata": {
  "kernelspec": {
   "display_name": "Python 3",
   "language": "python",
   "name": "python3"
  },
  "language_info": {
   "codemirror_mode": {
    "name": "ipython",
    "version": 3
   },
   "file_extension": ".py",
   "mimetype": "text/x-python",
   "name": "python",
   "nbconvert_exporter": "python",
   "pygments_lexer": "ipython3",
   "version": "3.8.10"
  }
 },
 "nbformat": 4,
 "nbformat_minor": 4
}
