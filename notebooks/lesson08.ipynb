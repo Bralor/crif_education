{
 "cells": [
  {
   "cell_type": "markdown",
   "metadata": {},
   "source": [
    "### Úvod\n",
    "\n",
    "---\n",
    "\n",
    "1. [Úvod do IO](),\n",
    "2. [Textové soubory](),\n",
    "3. [JSON](),\n",
    "4. [CSV soubory](),\n",
    "5. [Domácí úkol]().\n",
    "\n",
    "<br>\n",
    "\n",
    "<img src=\"https://external-content.duckduckgo.com/iu/?u=https%3A%2F%2Ftse2.mm.bing.net%2Fth%3Fid%3DOIP.zN9foYcjK5B3GphAVjLohgHaDs%26pid%3DApi&f=1\" width=\"250\">\n",
    "\n",
    "### Úvod do IO\n",
    "\n",
    "---\n",
    "\n",
    "Doposud jsi pracoval pouze s objekty **Pythonu vlastními** nebo **s knihovnami**.\n",
    "\n",
    "Všechny tyto objekty jsi vytvoříš a zpracováváš **v rámci paměti RAM** (*random access memory*).\n",
    "\n",
    "*Paměť RAM* je **velmi rychlá**, ale současně náročná a vyžaduje **neustálý zdroj** (není elektřina, ztratíš data).\n",
    "\n",
    "Takový **disk počítače** je o dost **pomalejší** než paměť *RAM*, ale umožňuje ti uchovávat tebou získaná, zpracovaná data.\n",
    "\n",
    "Proto je dobré osvojit si pravidla a postupy v Pythonu, jak vytvořit **persistentní data**.\n",
    "\n",
    "<br>\n",
    "\n",
    "#### File Input/Output (~vstupní soubor, výstupní soubor)\n",
    "\n",
    "Klasickou cestou, jak vytvořit obyčejný soubor, což je v podstatě jen *sekvence bajtů*, poskládaná za nějakým **jménem souboru**.\n",
    "\n",
    "Než ale začneš se souborem pracovat, potřebuješ si v Pythonu vytvořit pomocný objekt, který jej bude v rámci **interpreta zastupovat**:\n",
    "\n",
    "```python\n",
    "muj_soubor = open(jmeno_souboru, rezim)\n",
    "\n",
    "# ... libovolná ohlášení\n",
    "\n",
    "muj_soubor.close()\n",
    "```\n",
    "\n",
    "<br>\n",
    "\n",
    "1. `muj_soubor`, je objekt spojující soubor a Pythonovský objekt,\n",
    "2. `open()`, zabudovaná funkce, která vrací spojující objekt a uloží jej do `muj_soubor`,\n",
    "3. `jmeno_souboru`, jméno souboru (relativní cesta/ absolutní cesta),\n",
    "4. `rezim`, výběr režimu, ve kterém chci otevřít soubor,\n",
    "5. `muj_soubor.close`, způsob, kterým ukončíš spojení mezi objektem a souborem."
   ]
  },
  {
   "cell_type": "markdown",
   "metadata": {},
   "source": [
    "<br>\n",
    "\n",
    "<!-- <img src=\"https://external-content.duckduckgo.com/iu/?u=https%3A%2F%2Ftse3.mm.bing.net%2Fth%3Fid%3DOIP.Xa0BEkwl0Zx4qnY9lMbD7gHaHa%26pid%3DApi&f=1\" width=\"200\"> -->\n",
    "\n",
    "### Textové soubory\n",
    "\n",
    "---\n",
    "\n",
    "Nejlepším souborem na začátek bude prostý **textový soubor**.\n",
    "\n",
    "Textovým souborem rozuměj jakýkoliv soubor, který má příponu `.txt`.\n",
    "\n",
    "*(onsite/lesson08/pomocny_textovy_soubor.txt)*"
   ]
  },
  {
   "cell_type": "markdown",
   "metadata": {},
   "source": [
    "<br>\n",
    "\n",
    "#### Čtení souborů\n",
    "\n",
    "---\n",
    "\n",
    "Pro čtení souborů (pomocí Pythonu) opět použiješ zabudovanou funkci `open`:"
   ]
  },
  {
   "cell_type": "code",
   "execution_count": 2,
   "metadata": {},
   "outputs": [],
   "source": [
    "# !ls -l ../onsite/lesson08/"
   ]
  },
  {
   "cell_type": "code",
   "execution_count": null,
   "metadata": {},
   "outputs": [],
   "source": [
    "# Hledání souboru\n",
    "import os\n",
    "\n",
    "os.listdir(\"../\")"
   ]
  },
  {
   "cell_type": "code",
   "execution_count": 3,
   "metadata": {},
   "outputs": [],
   "source": [
    "muj_existujici_soubor = open(\"../onsite/lesson08/pomocny_textovy_soubor.txt\")"
   ]
  },
  {
   "cell_type": "code",
   "execution_count": 6,
   "metadata": {},
   "outputs": [],
   "source": [
    "# print(muj_existujici_soubor)"
   ]
  },
  {
   "cell_type": "code",
   "execution_count": 7,
   "metadata": {},
   "outputs": [],
   "source": [
    "# print(type(muj_existujici_soubor))"
   ]
  },
  {
   "cell_type": "code",
   "execution_count": 13,
   "metadata": {},
   "outputs": [],
   "source": [
    "# help(muj_existujici_soubor.read)"
   ]
  },
  {
   "cell_type": "code",
   "execution_count": 11,
   "metadata": {},
   "outputs": [],
   "source": [
    "# dir(muj_existujici_soubor)"
   ]
  },
  {
   "cell_type": "code",
   "execution_count": 14,
   "metadata": {},
   "outputs": [
    {
     "name": "stdout",
     "output_type": "stream",
     "text": [
      "Ahoj, ja jsem Matous (:\n"
     ]
    }
   ],
   "source": [
    "print(muj_existujici_soubor.read())"
   ]
  },
  {
   "cell_type": "markdown",
   "metadata": {},
   "source": [
    "Metody **pro čtění obsahu** TextIOWrapper objektu:\n",
    "\n",
    "1. `read` - přečte celý soubor jako jeden string\n",
    "2. `readline` - přečte pouze první řádek jako string\n",
    "3. `readlines` - přečte celý soubor jako list (co řádek, to údaj)"
   ]
  },
  {
   "cell_type": "code",
   "execution_count": 18,
   "metadata": {},
   "outputs": [
    {
     "data": {
      "text/plain": [
       "True"
      ]
     },
     "execution_count": 18,
     "metadata": {},
     "output_type": "execute_result"
    }
   ],
   "source": [
    "muj_existujici_soubor.closed  # je spojení se souborem ukončené?"
   ]
  },
  {
   "cell_type": "code",
   "execution_count": 17,
   "metadata": {},
   "outputs": [],
   "source": [
    "# False -> není, tak jej zavři\n",
    "muj_existujici_soubor.close()"
   ]
  },
  {
   "cell_type": "markdown",
   "metadata": {},
   "source": [
    "<br>\n",
    "\n",
    "#### Zápis do souboru\n",
    "\n",
    "Pokud ale takový *textový soubor* ještě nemáš, potřebuješ jej nejprve **vytvořit**.\n"
   ]
  },
  {
   "cell_type": "code",
   "execution_count": 19,
   "metadata": {},
   "outputs": [],
   "source": [
    "obsah_souboru = \"Toto je můj nový soubor^.^\""
   ]
  },
  {
   "cell_type": "markdown",
   "metadata": {},
   "source": [
    "*String* `obsah_souboru` máme aktuálně k dispozici pouze jako nějaký objekt Pythonu.\n",
    "\n",
    "Opět je potřeba nejprve spojit objekt v Pythonu se skutečným souborem na disku."
   ]
  },
  {
   "cell_type": "code",
   "execution_count": 20,
   "metadata": {},
   "outputs": [
    {
     "ename": "NameError",
     "evalue": "name 'muj_novy_soubor' is not defined",
     "output_type": "error",
     "traceback": [
      "\u001b[0;31m---------------------------------------------------------------------------\u001b[0m",
      "\u001b[0;31mNameError\u001b[0m                                 Traceback (most recent call last)",
      "\u001b[0;32m<ipython-input-20-ce051dfb07fe>\u001b[0m in \u001b[0;36m<module>\u001b[0;34m\u001b[0m\n\u001b[0;32m----> 1\u001b[0;31m \u001b[0mmuj_soubor\u001b[0m \u001b[0;34m=\u001b[0m \u001b[0mopen\u001b[0m\u001b[0;34m(\u001b[0m\u001b[0mmuj_novy_soubor\u001b[0m\u001b[0;34m.\u001b[0m\u001b[0mtxt\u001b[0m\u001b[0;34m)\u001b[0m\u001b[0;34m\u001b[0m\u001b[0;34m\u001b[0m\u001b[0m\n\u001b[0m",
      "\u001b[0;31mNameError\u001b[0m: name 'muj_novy_soubor' is not defined"
     ]
    }
   ],
   "source": [
    "muj_soubor = open(muj_novy_soubor.txt)"
   ]
  },
  {
   "cell_type": "code",
   "execution_count": null,
   "metadata": {},
   "outputs": [],
   "source": [
    "muj_soubor = open(\"muj_novy_soubor.txt\")  # číst TXT soubor"
   ]
  },
  {
   "cell_type": "code",
   "execution_count": 21,
   "metadata": {},
   "outputs": [],
   "source": [
    "muj_soubor = open(\"muj_novy_soubor.txt\", mode=\"w\")"
   ]
  },
  {
   "cell_type": "code",
   "execution_count": null,
   "metadata": {},
   "outputs": [],
   "source": [
    "help(open)"
   ]
  },
  {
   "cell_type": "markdown",
   "metadata": {},
   "source": [
    "Soubor si následně můžeš otevřít, ale zjistíš, že je v tento moment prázdný.\n",
    "\n",
    "Funkce `open` pouze vytvoří (*~iniciuje*) nový objekt `muj_soubor`.\n",
    "\n",
    "Příslušný text teprve musíme zapsat, pomocí vhodné *funkce* `write`:"
   ]
  },
  {
   "cell_type": "code",
   "execution_count": 22,
   "metadata": {},
   "outputs": [
    {
     "name": "stdout",
     "output_type": "stream",
     "text": [
      "Help on built-in function write:\n",
      "\n",
      "write(text, /) method of _io.TextIOWrapper instance\n",
      "    Write string to stream.\n",
      "    Returns the number of characters written (which is always equal to\n",
      "    the length of the string).\n",
      "\n"
     ]
    }
   ],
   "source": [
    "help(muj_soubor.write)"
   ]
  },
  {
   "cell_type": "code",
   "execution_count": 23,
   "metadata": {},
   "outputs": [
    {
     "data": {
      "text/plain": [
       "26"
      ]
     },
     "execution_count": 23,
     "metadata": {},
     "output_type": "execute_result"
    }
   ],
   "source": [
    "muj_soubor.write(obsah_souboru)"
   ]
  },
  {
   "cell_type": "markdown",
   "metadata": {},
   "source": [
    "Pokud si budeš chtít nyní prohlédnout **zapsaný soubor na disku**, zjistíš, že je stále prázdný.\n",
    "\n",
    "Protože *stále není ukončený*, nedovedeš s ním nijak manipulovat.\n",
    "\n",
    "Pokud zjistíš, že není ukončený, ukončíš jej pomocí metody `close`."
   ]
  },
  {
   "cell_type": "code",
   "execution_count": 24,
   "metadata": {},
   "outputs": [],
   "source": [
    "muj_soubor.close()"
   ]
  },
  {
   "cell_type": "markdown",
   "metadata": {},
   "source": [
    "Teprve po ukončení *streamu* (nebo také zápisu) objektu, můžeš soubor `muj_novy_soubor.txt` prozkoumat."
   ]
  },
  {
   "cell_type": "markdown",
   "metadata": {},
   "source": [
    "<br>\n",
    "\n",
    "#### Přidej text do souboru\n",
    "\n",
    "Nyní chceš doplnit další řádek v našem souboru:"
   ]
  },
  {
   "cell_type": "code",
   "execution_count": 25,
   "metadata": {},
   "outputs": [],
   "source": [
    "dalsi_text = \"Rad ctu, hraji na klavir\""
   ]
  },
  {
   "cell_type": "markdown",
   "metadata": {},
   "source": [
    "Opět potřebuješ inicializovat **pomocný objekt**, jako v předchozích scénářích:"
   ]
  },
  {
   "cell_type": "code",
   "execution_count": 26,
   "metadata": {},
   "outputs": [],
   "source": [
    "muj_soubor = open(\"muj_novy_soubor.txt\", mode=\"w\")\n",
    "muj_soubor.write(dalsi_text)\n",
    "muj_soubor.close()"
   ]
  },
  {
   "cell_type": "markdown",
   "metadata": {},
   "source": [
    "Zkontrolujeme jak vypadá **nově přidaný text**.\n",
    "\n",
    "Opatrně na `mode=\"w\"`.\n",
    "\n",
    "Pokud opětovně načteš **stejný soubor** v tomto režimu, přesuneš \"zapisovač\" (*představ si jej jako blikající kurzor v editoru*) opět **na začátek souboru**.\n",
    "\n",
    "\n",
    "*Interpret* zapisuje od místa, kde se zapisovač nachází, takže dojde **k přepsání původního obsahu**.\n",
    "\n",
    "\n",
    "Pokud chceš automaticky zapisovat **od konce souboru**, otevři soubor s argumentem `mode=\"a\"`, tedy v režimu `append`."
   ]
  },
  {
   "cell_type": "code",
   "execution_count": 27,
   "metadata": {},
   "outputs": [],
   "source": [
    "!rm muj_novy_soubor.txt"
   ]
  },
  {
   "cell_type": "code",
   "execution_count": 28,
   "metadata": {},
   "outputs": [],
   "source": [
    "# Vytvořím nový TXT soubor\n",
    "muj_str = \"Ahoj, ja jsem Matous (:\\n\"\n",
    "muj_soubor = open(\"muj_novy_soubor.txt\", mode=\"w\")\n",
    "muj_soubor.write(muj_str)\n",
    "muj_soubor.close()"
   ]
  },
  {
   "cell_type": "markdown",
   "metadata": {},
   "source": [
    "Zkontroluj nyní obsah textového souboru:"
   ]
  },
  {
   "cell_type": "code",
   "execution_count": 29,
   "metadata": {},
   "outputs": [],
   "source": [
    "# Znovu jej otevřu a doplním další řádek\n",
    "muj_druhy_str = \"Rad ctu, hraji na klavir\\n\"\n",
    "muj_soubor = open(\"muj_novy_soubor.txt\", mode=\"a\")  # append\n",
    "muj_soubor.write(muj_druhy_str)\n",
    "muj_soubor.close()"
   ]
  },
  {
   "cell_type": "markdown",
   "metadata": {},
   "source": [
    "<br>\n",
    "\n",
    "#### Číst a psát současně\n",
    "\n",
    "Velice často se dostaneš do situace, kdy potřebuješ **nejenom číst**, ale **i zapisovat**."
   ]
  },
  {
   "cell_type": "code",
   "execution_count": null,
   "metadata": {},
   "outputs": [],
   "source": [
    "help(open)"
   ]
  },
  {
   "cell_type": "markdown",
   "metadata": {},
   "source": [
    "Pomocí režimu `r+` můžeš provést jak čtení, tak zápis:"
   ]
  },
  {
   "cell_type": "code",
   "execution_count": 30,
   "metadata": {},
   "outputs": [
    {
     "name": "stdout",
     "output_type": "stream",
     "text": [
      "['Ahoj, ja jsem Matous (:\\n', 'Rad ctu, hraji na klavir\\n']\n"
     ]
    }
   ],
   "source": [
    "muj_existujici_soubor = open(\"muj_novy_soubor.txt\", mode=\"r+\")\n",
    "print(muj_existujici_soubor.readlines())"
   ]
  },
  {
   "cell_type": "code",
   "execution_count": 31,
   "metadata": {},
   "outputs": [
    {
     "data": {
      "text/plain": [
       "20"
      ]
     },
     "execution_count": 31,
     "metadata": {},
     "output_type": "execute_result"
    }
   ],
   "source": [
    "muj_existujici_soubor.write(\"A jeste jeden radek!\")"
   ]
  },
  {
   "cell_type": "code",
   "execution_count": 32,
   "metadata": {},
   "outputs": [],
   "source": [
    "muj_existujici_soubor.close()"
   ]
  },
  {
   "cell_type": "markdown",
   "metadata": {},
   "source": [
    "Pokud zapomeneš vybrat vhodný režim, Python tě upozorní **s příslušnou výjimkou**:"
   ]
  },
  {
   "cell_type": "code",
   "execution_count": 33,
   "metadata": {},
   "outputs": [
    {
     "name": "stdout",
     "output_type": "stream",
     "text": [
      "['Ahoj, ja jsem Matous (:\\n', 'Rad ctu, hraji na klavir\\n', 'A jeste jeden radek!']\n"
     ]
    }
   ],
   "source": [
    "muj_existujici_soubor = open(\"muj_novy_soubor.txt\", mode=\"r\")\n",
    "print(muj_existujici_soubor.readlines())"
   ]
  },
  {
   "cell_type": "code",
   "execution_count": 34,
   "metadata": {},
   "outputs": [
    {
     "ename": "UnsupportedOperation",
     "evalue": "not writable",
     "output_type": "error",
     "traceback": [
      "\u001b[0;31m---------------------------------------------------------------------------\u001b[0m",
      "\u001b[0;31mUnsupportedOperation\u001b[0m                      Traceback (most recent call last)",
      "\u001b[0;32m<ipython-input-34-710c86dee468>\u001b[0m in \u001b[0;36m<module>\u001b[0;34m\u001b[0m\n\u001b[0;32m----> 1\u001b[0;31m \u001b[0mmuj_existujici_soubor\u001b[0m\u001b[0;34m.\u001b[0m\u001b[0mwrite\u001b[0m\u001b[0;34m(\u001b[0m\u001b[0;34m\"A jeste dalsi radek!\"\u001b[0m\u001b[0;34m)\u001b[0m\u001b[0;34m\u001b[0m\u001b[0;34m\u001b[0m\u001b[0m\n\u001b[0m",
      "\u001b[0;31mUnsupportedOperation\u001b[0m: not writable"
     ]
    }
   ],
   "source": [
    "muj_existujici_soubor.write(\"A jeste dalsi radek!\")"
   ]
  },
  {
   "cell_type": "code",
   "execution_count": 35,
   "metadata": {},
   "outputs": [],
   "source": [
    "muj_existujici_soubor.close()"
   ]
  },
  {
   "cell_type": "markdown",
   "metadata": {},
   "source": [
    "#### Kontextový manažer"
   ]
  },
  {
   "cell_type": "code",
   "execution_count": null,
   "metadata": {},
   "outputs": [],
   "source": [
    "muj_existujici_soubor = open(\"muj_novy_soubor.txt\", mode=\"r\")\n",
    "print(muj_existujici_soubor.readlines())\n",
    "muj_existujici_soubor.close()"
   ]
  },
  {
   "cell_type": "code",
   "execution_count": 36,
   "metadata": {},
   "outputs": [
    {
     "name": "stdout",
     "output_type": "stream",
     "text": [
      "['Ahoj, ja jsem Matous (:\\n', 'Rad ctu, hraji na klavir\\n', 'A jeste jeden radek!']\n"
     ]
    }
   ],
   "source": [
    "with open(\"muj_novy_soubor.txt\", mode=\"r\") as txt_s:\n",
    "    print(txt_s.readlines())"
   ]
  },
  {
   "cell_type": "markdown",
   "metadata": {},
   "source": [
    "<br>\n",
    "\n",
    "<img src=\"https://external-content.duckduckgo.com/iu/?u=https%3A%2F%2Ftse4.mm.bing.net%2Fth%3Fid%3DOIP.knlvD9puLdhcleGXAbzgIwHaD4%26pid%3DApi&f=1\" width=\"300\">\n",
    "\n",
    "### JSON soubory\n",
    "\n",
    "---\n",
    "\n",
    "Tento typ souboru možná ještě neznáš. Jedná se o příponu u souborů **.json**.\n",
    "\n",
    "Celé jméno souboru může vypadat třeba jako `uzivatele.json`.\n",
    "\n",
    "**JSON** si můžeš představit následovně:\n",
    "```python\n",
    "{\n",
    "    \"jmeno\": \"Chuck Norris\",\n",
    "    \"neuspech\": null,\n",
    "    \"kliky\": \"vsechny\",\n",
    "    \"konkurence\": false,\n",
    "}\n",
    "```"
   ]
  },
  {
   "cell_type": "markdown",
   "metadata": {},
   "source": [
    "Na první pohled můžeš říct, že se hodně podobá **Pythonovskému slovníku**.\n",
    "\n",
    "Nicméně má svoji vlastní charakteristickou **sadu pravidel** pro převod datových typů.\n",
    "\n",
    "Níže jsou uvedená některá pravidla, která se týkají ukázky výše (všechna pravidla najdeš [zde](https://docs.python.org/3/library/json.html#encoders-and-decoders)):\n",
    "\n",
    "\n",
    "| JSON | Python |\n",
    "| :-: | :-: |\n",
    "| string | str |\n",
    "| true | True |\n",
    "| false | False |\n",
    "| null | None |"
   ]
  },
  {
   "cell_type": "markdown",
   "metadata": {},
   "source": [
    "Účelem tohoto souboru je zejména **přenos dat** (*JavaScript Object Notation*).\n",
    "\n",
    "Jde o záměrně zjednodušený formát, který **není standartním datovým typem pro Python**."
   ]
  },
  {
   "cell_type": "markdown",
   "metadata": {},
   "source": [
    "Poměrně často se s ním setkáš u **webových aplikací** různých *eshopů*, které ti vykresují nabídku na základě informací získaných z databází."
   ]
  },
  {
   "cell_type": "markdown",
   "metadata": {},
   "source": [
    "Protože **JSON** není standartním datovým typem, jako takový jej nemůžeš v Pythonu použít.\n",
    "\n",
    "Pokud budeš chtít pracovat s JSON v Pythonu, musíš *nahrát* k tomu určenou **built-in knihovnu**."
   ]
  },
  {
   "cell_type": "markdown",
   "metadata": {},
   "source": [
    "V rámci <a href=\"https://docs.python.org/3/library/index.html\" target=\"_blank\">seznamu dokumentace Pythonu</a>  najdeš knihovnu `json`.\n",
    "\n",
    "Právě tato knihovna ti umožní pomocí *interpretu* Pythonu *vytvořit* nebo *načíst* JSON."
   ]
  },
  {
   "cell_type": "markdown",
   "metadata": {},
   "source": [
    "#### Balíček `json`:"
   ]
  },
  {
   "cell_type": "code",
   "execution_count": 37,
   "metadata": {},
   "outputs": [],
   "source": [
    "import json  # nahrátí knihovny"
   ]
  },
  {
   "cell_type": "code",
   "execution_count": 39,
   "metadata": {},
   "outputs": [],
   "source": [
    "# help(json)   # nápověda"
   ]
  },
  {
   "cell_type": "code",
   "execution_count": 40,
   "metadata": {},
   "outputs": [],
   "source": [
    "# dir(json)    # seznam všech metod"
   ]
  },
  {
   "cell_type": "code",
   "execution_count": 41,
   "metadata": {},
   "outputs": [
    {
     "data": {
      "text/plain": [
       "('JSONDecodeError',\n",
       " 'JSONDecoder',\n",
       " 'JSONEncoder',\n",
       " '_default_decoder',\n",
       " '_default_encoder',\n",
       " 'codecs',\n",
       " 'decoder',\n",
       " 'detect_encoding',\n",
       " 'dump',\n",
       " 'dumps',\n",
       " 'encoder',\n",
       " 'load',\n",
       " 'loads',\n",
       " 'scanner')"
      ]
     },
     "execution_count": 41,
     "metadata": {},
     "output_type": "execute_result"
    }
   ],
   "source": [
    "tuple(       # bez magických metod\n",
    "    object\n",
    "    for object in dir(json)\n",
    "    if not object.startswith(\"__\")\n",
    ")"
   ]
  },
  {
   "cell_type": "markdown",
   "metadata": {},
   "source": [
    "#### Vyzkoušej si následující:\n",
    "\n",
    "---\n",
    "\n",
    "V rámci **základní manipulace** se zaměř hlavně na tyto funkce:\n",
    "\n",
    "| Funkce | Účel |\n",
    "| :- | :- |\n",
    "| `json.dump(m, n)` | zapíše objekt do souboru JSON |\n",
    "| `json.dumps(m)` | zapíše objekt do `str` |\n",
    "| `json.load(m)` | načte JSON data ze souboru |\n",
    "| `json.loads(m)` | načte JSON data ze `str` |\n",
    "\n",
    "Detail tabulky:\n",
    "- `m` představuje jméno objektu,\n",
    "- `n` představuje jméno souboru."
   ]
  },
  {
   "cell_type": "markdown",
   "metadata": {},
   "source": [
    "#### Vytvoření souboru `.json`:\n",
    "\n",
    "---\n",
    "\n",
    "Obecně se při práci se soubory typu `json` mluví o procesech *serialization* a *deserialization* (tedy čtení a zápis), ke kterým patří příslušné funkce uvedené výše v tabulce."
   ]
  },
  {
   "cell_type": "code",
   "execution_count": 42,
   "metadata": {},
   "outputs": [],
   "source": [
    "chuckuv_slovnik = {\n",
    "    \"jmeno\": \"Chuck Norris\",\n",
    "    \"neuspech\": None,\n",
    "    \"kliky\": \"vsechny\",\n",
    "    \"konkurence\": False,\n",
    "    \"doplneni\": \"Łukasz\",\n",
    "}"
   ]
  },
  {
   "cell_type": "code",
   "execution_count": 43,
   "metadata": {},
   "outputs": [
    {
     "name": "stdout",
     "output_type": "stream",
     "text": [
      "<class 'dict'>\n"
     ]
    }
   ],
   "source": [
    "print(type(chuckuv_slovnik))"
   ]
  },
  {
   "cell_type": "code",
   "execution_count": null,
   "metadata": {},
   "outputs": [],
   "source": [
    "import json"
   ]
  },
  {
   "cell_type": "code",
   "execution_count": 44,
   "metadata": {},
   "outputs": [],
   "source": [
    "vypis_json = json.dumps(chuckuv_slovnik)  # výstup pouze jako str"
   ]
  },
  {
   "cell_type": "code",
   "execution_count": 45,
   "metadata": {},
   "outputs": [
    {
     "name": "stdout",
     "output_type": "stream",
     "text": [
      "{\"jmeno\": \"Chuck Norris\", \"neuspech\": null, \"kliky\": \"vsechny\", \"konkurence\": false, \"doplneni\": \"\\u0141ukasz\"}\n"
     ]
    }
   ],
   "source": [
    "print(vypis_json)"
   ]
  },
  {
   "cell_type": "code",
   "execution_count": 46,
   "metadata": {},
   "outputs": [
    {
     "name": "stdout",
     "output_type": "stream",
     "text": [
      "<class 'str'>\n"
     ]
    }
   ],
   "source": [
    "print(type(vypis_json))"
   ]
  },
  {
   "cell_type": "markdown",
   "metadata": {},
   "source": [
    "Jakmile se podíváš na výstup, všimni si následujícího:\n",
    "1. `null`, klíč `neuspech` už neobsahuje `None`,\n",
    "2. `false`, klíč `konkurence` už neobsahuje `False`,\n",
    "3. `\"\\u0141ukasz\"`, klíč `fanousek` se nějak zkomolil.\n",
    "\n",
    "Důvodem pro výše **zdůrazněné změny** je právě změna *Python objektů* na *JSON objekty*.\n",
    "\n",
    "<br>\n",
    "\n",
    "V klíči `fanousek` dostaneš string `\"\\u0141ukasz\"`, jak je to možné?\n",
    "\n",
    "Defaultně totiž funkce `dump` všechny *non-ASCII* znaky (které nenajdeš v ASCII tabulce) převede na znaky doplněné **zpětným lomítkem** (tedy `Ł` na `\\u0141`)."
   ]
  },
  {
   "cell_type": "code",
   "execution_count": 47,
   "metadata": {},
   "outputs": [],
   "source": [
    "json_soubor = open(\"prvni_json.json\", mode=\"w\")"
   ]
  },
  {
   "cell_type": "code",
   "execution_count": 48,
   "metadata": {},
   "outputs": [],
   "source": [
    "json.dump(chuckuv_slovnik, json_soubor)"
   ]
  },
  {
   "cell_type": "code",
   "execution_count": 49,
   "metadata": {},
   "outputs": [],
   "source": [
    "json_soubor.close()"
   ]
  },
  {
   "cell_type": "markdown",
   "metadata": {},
   "source": [
    "<br>\n",
    "\n",
    "#### Načti existující soubor `.json`:\n",
    "\n",
    "---"
   ]
  },
  {
   "cell_type": "code",
   "execution_count": 50,
   "metadata": {},
   "outputs": [],
   "source": [
    "existujici_json = open(\"prvni_json.json\")"
   ]
  },
  {
   "cell_type": "code",
   "execution_count": 51,
   "metadata": {},
   "outputs": [
    {
     "name": "stdout",
     "output_type": "stream",
     "text": [
      "<_io.TextIOWrapper name='prvni_json.json' mode='r' encoding='UTF-8'>\n"
     ]
    }
   ],
   "source": [
    "print(existujici_json)"
   ]
  },
  {
   "cell_type": "code",
   "execution_count": 52,
   "metadata": {},
   "outputs": [],
   "source": [
    "obsah_json = json.load(existujici_json)"
   ]
  },
  {
   "cell_type": "code",
   "execution_count": 53,
   "metadata": {},
   "outputs": [
    {
     "name": "stdout",
     "output_type": "stream",
     "text": [
      "{'jmeno': 'Chuck Norris', 'neuspech': None, 'kliky': 'vsechny', 'konkurence': False, 'doplneni': 'Łukasz'}\n"
     ]
    }
   ],
   "source": [
    "print(obsah_json)"
   ]
  },
  {
   "cell_type": "code",
   "execution_count": 54,
   "metadata": {},
   "outputs": [
    {
     "name": "stdout",
     "output_type": "stream",
     "text": [
      "<class 'dict'>\n"
     ]
    }
   ],
   "source": [
    "print(type(obsah_json))"
   ]
  },
  {
   "cell_type": "code",
   "execution_count": 57,
   "metadata": {},
   "outputs": [
    {
     "name": "stdout",
     "output_type": "stream",
     "text": [
      "<class 'str'>\n"
     ]
    }
   ],
   "source": [
    "print(type(vypis_json))"
   ]
  },
  {
   "cell_type": "code",
   "execution_count": 58,
   "metadata": {},
   "outputs": [],
   "source": [
    "opet_slovnik = json.loads(vypis_json)"
   ]
  },
  {
   "cell_type": "code",
   "execution_count": 60,
   "metadata": {},
   "outputs": [
    {
     "name": "stdout",
     "output_type": "stream",
     "text": [
      "{'jmeno': 'Chuck Norris', 'neuspech': None, 'kliky': 'vsechny', 'konkurence': False, 'doplneni': 'Łukasz'}\n"
     ]
    }
   ],
   "source": [
    "print(opet_slovnik)"
   ]
  },
  {
   "cell_type": "code",
   "execution_count": 55,
   "metadata": {},
   "outputs": [],
   "source": [
    "existujici_json.close()"
   ]
  },
  {
   "cell_type": "code",
   "execution_count": 62,
   "metadata": {},
   "outputs": [],
   "source": [
    "json_ = json.dumps(\n",
    "    chuckuv_slovnik,\n",
    "    ensure_ascii=False,\n",
    "    indent=4,\n",
    "    sort_keys=True\n",
    ")"
   ]
  },
  {
   "cell_type": "code",
   "execution_count": 63,
   "metadata": {},
   "outputs": [
    {
     "name": "stdout",
     "output_type": "stream",
     "text": [
      "{\n",
      "    \"doplneni\": \"Łukasz\",\n",
      "    \"jmeno\": \"Chuck Norris\",\n",
      "    \"kliky\": \"vsechny\",\n",
      "    \"konkurence\": false,\n",
      "    \"neuspech\": null\n",
      "}\n"
     ]
    }
   ],
   "source": [
    "print(json_)"
   ]
  },
  {
   "cell_type": "markdown",
   "metadata": {},
   "source": [
    "#### Zápis s kontextovým manažerem\n",
    "\n",
    "Nejenom *textové soubory*, ale i JSON můžeš zapsat pomocí **kontextového manažeru** a klíčového slova `with`:"
   ]
  },
  {
   "cell_type": "code",
   "execution_count": 64,
   "metadata": {},
   "outputs": [],
   "source": [
    "import json\n",
    "\n",
    "chuckuv_slovnik = {\n",
    "    \"jmeno\": \"Chuck Norris\",\n",
    "    \"neuspech\": None,\n",
    "    \"kliky\": \"vsechny\",\n",
    "    \"konkurence\": False,\n",
    "    \"fanousek\": \"Łukasz\"\n",
    "}\n",
    "\n",
    "with open(\"druhy_json_soubor.json\", mode=\"w\") as json_soubor:\n",
    "    json.dump(chuckuv_slovnik, json_soubor)"
   ]
  },
  {
   "cell_type": "markdown",
   "metadata": {},
   "source": [
    "#### Doplňující argumenty:\n",
    "1. `indent=4` - odsadí zapsaný `json` o 4 mezery\n",
    "2. `sort_keys` - seřadí klíče (`True`/`False`)\n",
    "3. `ensure_ascii` - `False` zapíše původní znak, `True` zapíše reprezentaci znaku pomocí lomítek."
   ]
  },
  {
   "cell_type": "markdown",
   "metadata": {},
   "source": [
    "<br>\n",
    "\n",
    "<img src=\"https://external-content.duckduckgo.com/iu/?u=https%3A%2F%2Ftse3.mm.bing.net%2Fth%3Fid%3DOIP.uw0oLhKf5KEq2IwUBu3DrgHaHa%26pid%3DApi&f=1\" width=\"170\">\n",
    "\n",
    "### CSV soubory\n",
    "\n",
    "---\n",
    "\n",
    "**CSV soubor** (*Comma Separated Values*) ukládá *tabulková data*, podobně jako například soubory **.xlsx** (*MS Excel* nebo *LibreOffice*), které pravděpodobně znáš.\n",
    "\n",
    "Rozdíl spočívá v tom, že soubor **CSV** je ukládá v **textové podobě**.\n",
    "\n",
    "**CSV soubor** je tedy mnohem univerzálnější, můžeš ho normálně otevřít v tabulkových procesorech (jako je například *MS Excel*), v textových editorech jako je *Notepad* nebo *Poznámkový blok* a navíc se s ním dobře pracuje v Pythonu.\n"
   ]
  },
  {
   "cell_type": "markdown",
   "metadata": {},
   "source": [
    "Přesto, že v různých softwarových řešeních najdeš data úhledně graficky naformátovaná do:\n",
    "1.  **řádků** *(na obrázku 1, 2, 3)*,\n",
    "2.  **a sloupců** *(na obrázku A, B, C, D)*."
   ]
  },
  {
   "cell_type": "markdown",
   "metadata": {},
   "source": [
    "<a href=\"https://imgur.com/3zomtvk\"><img src=\"https://i.imgur.com/3zomtvk.png\" title=\"source: imgur.com\" width=\"600\" /></a>"
   ]
  },
  {
   "cell_type": "markdown",
   "metadata": {},
   "source": [
    ".., reprezentované hodnoty **v jednoduchém editoru** vypadají jinak:\n",
    "```\n",
    "jmeno;prijmeni;email;projekt\n",
    "Matous;Holinka;m.holinka@firma.cz;hr\n",
    "Petr;Svetr;p.svetr@firma.cz;devops\n",
    "```"
   ]
  },
  {
   "cell_type": "markdown",
   "metadata": {},
   "source": [
    "Aby měl takový **CSV** konzistentní vzhled a formát, potřebuje zadaný **dialekt**.\n",
    "\n",
    "### Dialekt CSV souborů\n",
    "Dialektem rozuměj nějaký **formátovací pravidla**, podle kterých je tvůj **CSV** soubor zadaný.\n",
    "\n",
    "**Dialekt** udává jakými znaky jsou:\n",
    "1. oddělované **jednotlivé buňky** (na obrázku výše středník `;`),\n",
    "2. oddělované **řádky** (na obrázku není vybraný žádný symbol).\n",
    "\n",
    "Další možnosti **upřesnění dialektu** jako výběr *escape znaků*, použití uvozovek, aj. můžeš najít <a href=\"https://docs.python.org/3/library/csv.html#dialects-and-formatting-parameters\" target=\"_blank\">zde</a>."
   ]
  },
  {
   "cell_type": "markdown",
   "metadata": {},
   "source": [
    "Ať už konkrétně typ souboru **.csv** nebo jeho příbuzní **.xls** nebo **.xlsx** aj., pracuje tento typ souboru výborně pro ukládání jednotlivých záznámů řádek po řádku."
   ]
  },
  {
   "cell_type": "markdown",
   "metadata": {},
   "source": [
    "Protože se u **CSV souborů** nejedná o nativní formát Pythonu, jako takový jej nemůžeš v Pythonu napsat.\n",
    "\n",
    "Opět platí, že pokud budeš chtít pracovat **s CSV soubory** v Pythonu, musíš *nahrát* k tomu určenou **built-in knihovnu**."
   ]
  },
  {
   "cell_type": "code",
   "execution_count": 65,
   "metadata": {},
   "outputs": [],
   "source": [
    "import csv  # nahrajeme knihovnu"
   ]
  },
  {
   "cell_type": "code",
   "execution_count": 67,
   "metadata": {},
   "outputs": [],
   "source": [
    "# help(csv)   # nápověda knihovny"
   ]
  },
  {
   "cell_type": "code",
   "execution_count": 68,
   "metadata": {},
   "outputs": [
    {
     "data": {
      "text/plain": [
       "['Dialect',\n",
       " 'DictReader',\n",
       " 'DictWriter',\n",
       " 'Error',\n",
       " 'QUOTE_ALL',\n",
       " 'QUOTE_MINIMAL',\n",
       " 'QUOTE_NONE',\n",
       " 'QUOTE_NONNUMERIC',\n",
       " 'Sniffer',\n",
       " 'StringIO',\n",
       " '_Dialect',\n",
       " '__all__',\n",
       " '__builtins__',\n",
       " '__cached__',\n",
       " '__doc__',\n",
       " '__file__',\n",
       " '__loader__',\n",
       " '__name__',\n",
       " '__package__',\n",
       " '__spec__',\n",
       " '__version__',\n",
       " 'excel',\n",
       " 'excel_tab',\n",
       " 'field_size_limit',\n",
       " 'get_dialect',\n",
       " 'list_dialects',\n",
       " 're',\n",
       " 'reader',\n",
       " 'register_dialect',\n",
       " 'unix_dialect',\n",
       " 'unregister_dialect',\n",
       " 'writer']"
      ]
     },
     "execution_count": 68,
     "metadata": {},
     "output_type": "execute_result"
    }
   ],
   "source": [
    "dir(csv)    # objekty knihovny"
   ]
  },
  {
   "cell_type": "markdown",
   "metadata": {},
   "source": [
    "#### Vyzkoušíme si následující\n",
    "\n",
    "---\n",
    "\n",
    "| jméno objektu | účel metody |\n",
    "| :-| :- |\n",
    "| `csv.reader(m)` | funkce vrátí iterovatelný objekt (co cyklus, to řádek) |\n",
    "| `csv.writer(m)` | funkce zapíše objekt do souboru (+ `writerows`)|\n",
    "| `csv.DictWriter(m)` | třída pro zápis slovníku do souboru |\n",
    "| `csv.DictReader(m)` | třída pro čtení souboru do slovníku |\n",
    "\n",
    "<br>\n",
    "\n",
    "\n",
    "*pozn* `m` je objekt (proměnná)\n",
    "\n",
    "<br>\n",
    "\n",
    "Základní dva procesy, které budeme provádět jsou:\n",
    "1. __čtení__ souboru `csv`\n",
    "2. __zápis__ do souboru `csv`\n",
    "\n",
    "<br>"
   ]
  },
  {
   "cell_type": "markdown",
   "metadata": {},
   "source": [
    "#### Vytvoříš soubor s příp. `.csv`"
   ]
  },
  {
   "cell_type": "code",
   "execution_count": 69,
   "metadata": {},
   "outputs": [],
   "source": [
    "hlavicka = [\"jmeno\", \"prijmeni\", \"vek\"]\n",
    "osoba_1 = [\"Matous\", \"Holinka\", \"28\"]\n",
    "osoba_2 = [\"Petr\", \"Svetr\", \"27\"]"
   ]
  },
  {
   "cell_type": "code",
   "execution_count": 70,
   "metadata": {},
   "outputs": [],
   "source": [
    "zapis_csv = open(\n",
    "    \"prvni_tabulky.csv\",\n",
    "    mode=\"w\",\n",
    "    newline=\"\"\n",
    ")"
   ]
  },
  {
   "cell_type": "code",
   "execution_count": 71,
   "metadata": {},
   "outputs": [
    {
     "name": "stdout",
     "output_type": "stream",
     "text": [
      "<_io.TextIOWrapper name='prvni_tabulky.csv' mode='w' encoding='UTF-8'>\n"
     ]
    }
   ],
   "source": [
    "print(zapis_csv)"
   ]
  },
  {
   "cell_type": "code",
   "execution_count": 72,
   "metadata": {},
   "outputs": [],
   "source": [
    "zapis = csv.writer(zapis_csv, delimiter=\";\")"
   ]
  },
  {
   "cell_type": "code",
   "execution_count": 73,
   "metadata": {},
   "outputs": [
    {
     "data": {
      "text/plain": [
       "15"
      ]
     },
     "execution_count": 73,
     "metadata": {},
     "output_type": "execute_result"
    }
   ],
   "source": [
    "zapis.writerow(hlavicka)\n",
    "zapis.writerow(osoba_1)\n",
    "zapis.writerow(osoba_2)"
   ]
  },
  {
   "cell_type": "code",
   "execution_count": 74,
   "metadata": {},
   "outputs": [],
   "source": [
    "zapis_csv.close()"
   ]
  },
  {
   "cell_type": "markdown",
   "metadata": {},
   "source": [
    "#### DictWriter"
   ]
  },
  {
   "cell_type": "code",
   "execution_count": 75,
   "metadata": {},
   "outputs": [],
   "source": [
    "import csv\n",
    "\n",
    "osoba_1 = {\"jmeno\": \"Matous\", \"prijmeni\": \"Pokoj\", \"vek\": \"28\"}\n",
    "osoba_2 = {\"jmeno\": \"Petr\", \"prijmeni\": \"Svetr\", \"vek\": \"27\"}\n",
    "\n",
    "nove_csv = open(\"druhy_tabulkovy_soubor.csv\", mode=\"w\")\n",
    "\n",
    "zahlavi = osoba_1.keys()\n",
    "\n",
    "zapisovac = csv.DictWriter(nove_csv, fieldnames=zahlavi)\n",
    "\n",
    "zapisovac.writeheader()\n",
    "zapisovac.writerow(osoba_1)\n",
    "zapisovac.writerow(osoba_2)\n",
    "\n",
    "nove_csv.close()"
   ]
  },
  {
   "cell_type": "code",
   "execution_count": 77,
   "metadata": {},
   "outputs": [],
   "source": [
    "import csv\n",
    "\n",
    "osoba_1 = {\"jmeno\": \"Matous\", \"prijmeni\": \"Pokoj\", \"vek\": \"28\"}\n",
    "osoba_2 = {\"jmeno\": \"Petr\", \"prijmeni\": \"Svetr\", \"vek\": \"27\"}\n",
    "\n",
    "nove_csv = open(\"treti_tabulkovy_soubor.csv\", mode=\"w\")\n",
    "\n",
    "zahlavi = osoba_1.keys()\n",
    "\n",
    "zapisovac = csv.DictWriter(nove_csv, fieldnames=zahlavi)\n",
    "\n",
    "zapisovac.writeheader()\n",
    "zapisovac.writerows((osoba_1, osoba_2))\n",
    "\n",
    "nove_csv.close()"
   ]
  },
  {
   "cell_type": "markdown",
   "metadata": {},
   "source": [
    "<br>\n",
    "\n",
    "#### Přečti obsah souboru `.csv`\n",
    "\n",
    "---"
   ]
  },
  {
   "cell_type": "code",
   "execution_count": 84,
   "metadata": {},
   "outputs": [],
   "source": [
    "cteni_csv = open(\n",
    "    \"prvni_tabulky.csv\",\n",
    "    encoding=\"utf-8\"\n",
    ")"
   ]
  },
  {
   "cell_type": "code",
   "execution_count": 85,
   "metadata": {},
   "outputs": [],
   "source": [
    "cteni = csv.reader(cteni_csv)"
   ]
  },
  {
   "cell_type": "code",
   "execution_count": 80,
   "metadata": {},
   "outputs": [
    {
     "data": {
      "text/plain": [
       "<_csv.reader at 0x7fd4d8353890>"
      ]
     },
     "execution_count": 80,
     "metadata": {},
     "output_type": "execute_result"
    }
   ],
   "source": [
    "cteni"
   ]
  },
  {
   "cell_type": "code",
   "execution_count": 81,
   "metadata": {},
   "outputs": [
    {
     "data": {
      "text/plain": [
       "(['jmeno;prijmeni;vek'], ['Matous;Holinka;28'], ['Petr;Svetr;27'])"
      ]
     },
     "execution_count": 81,
     "metadata": {},
     "output_type": "execute_result"
    }
   ],
   "source": [
    "tuple(cteni)"
   ]
  },
  {
   "cell_type": "code",
   "execution_count": 86,
   "metadata": {},
   "outputs": [
    {
     "name": "stdout",
     "output_type": "stream",
     "text": [
      "['jmeno;prijmeni;vek']\n",
      "['Matous;Holinka;28']\n",
      "['Petr;Svetr;27']\n"
     ]
    }
   ],
   "source": [
    "for radek in cteni:\n",
    "    print(radek)"
   ]
  },
  {
   "cell_type": "code",
   "execution_count": 87,
   "metadata": {},
   "outputs": [],
   "source": [
    "cteni_csv.close()"
   ]
  },
  {
   "cell_type": "markdown",
   "metadata": {},
   "source": [
    "#### DictReader"
   ]
  },
  {
   "cell_type": "code",
   "execution_count": 17,
   "metadata": {},
   "outputs": [
    {
     "name": "stdout",
     "output_type": "stream",
     "text": [
      "({'jmeno': 'Matous', 'prijmeni': 'Pokoj', 'vek': '28'}, {'jmeno': 'Petr', 'prijmeni': 'Svetr', 'vek': '27'})\n"
     ]
    }
   ],
   "source": [
    "import csv\n",
    "\n",
    "moje_csv = open(\"druhy_tabulkovy_soubor.csv\", mode=\"r\")\n",
    "obsah = csv.DictReader(moje_csv)\n",
    "print(tuple(obsah))\n",
    "\n",
    "nove_csv.close()"
   ]
  },
  {
   "cell_type": "code",
   "execution_count": 88,
   "metadata": {},
   "outputs": [
    {
     "name": "stdout",
     "output_type": "stream",
     "text": [
      "({'jmeno': 'Matous', 'prijmeni': 'Pokoj', 'vek': '28'}, {'jmeno': 'Petr', 'prijmeni': 'Svetr', 'vek': '27'})\n"
     ]
    }
   ],
   "source": [
    "import csv\n",
    "\n",
    "with open(\"druhy_tabulkovy_soubor.csv\") as csv_:\n",
    "    obsah = csv.DictReader(csv_)\n",
    "    print(tuple(obsah))"
   ]
  },
  {
   "cell_type": "markdown",
   "metadata": {},
   "source": [
    "<br>\n",
    "\n",
    "<img src=\"https://external-content.duckduckgo.com/iu/?u=https%3A%2F%2Ftse3.mm.bing.net%2Fth%3Fid%3DOIP.XxURlbi8RZ3SMPoMRj91VwAAAA%26pid%3DApi&f=1\" width=\"200\">\n",
    "\n",
    "### Domácí úkol\n",
    "\n",
    "---"
   ]
  },
  {
   "cell_type": "markdown",
   "metadata": {},
   "source": [
    "Napiš skript, který:\n",
    "1. Načte soubor typu `JSON`,\n",
    "2. rozdělí obsah **podle klíčů**,\n",
    "3. zapíšeš rozdělená data do sloupečků **v CSV souboru**.\n",
    "\n",
    "Vstupní **JSON**:"
   ]
  },
  {
   "cell_type": "markdown",
   "metadata": {},
   "source": [
    "```\n",
    "{\n",
    "        \"id\": 1,\n",
    "        \"first_name\": \"Dorri\",\n",
    "        \"last_name\": \"Di Bernardo\",\n",
    "        \"email\": \"ddibernardo0@nba.com\",\n",
    "        \"gender\": \"Female\",\n",
    "        \"ip_address\": \"158.223.131.8\"\n",
    "    },\n",
    "    {\n",
    "        \"id\": 2,\n",
    "        \"first_name\": \"Nisse\",\n",
    "        \"last_name\": \"Noye\",\n",
    "        \"email\": \"nnoye1@theatlantic.com\",\n",
    "        \"gender\": \"Female\",\n",
    "        \"ip_address\": \"252.57.218.72\"\n",
    "    },\n",
    "    ...\n",
    "}\n",
    "```"
   ]
  },
  {
   "cell_type": "markdown",
   "metadata": {},
   "source": [
    "Výstupní **CSV**:\n",
    "```\n",
    "[\"id\", \"first_name\", \"last_name\", \"email\", \"gender\", \"ip_address\"],\n",
    "[\"1\", \"Dorri\", \"Di Bernardo\", \"ddibernardo0@nba.com\", \"Female\", \"158.223.131.8\"],\n",
    "[\"2\", \"Nisse\", \"Noye\", \"nnoye1@theatlantic.com\", \"Female\", \"252.57.218.72\"],\n",
    "...\n",
    "```"
   ]
  },
  {
   "cell_type": "markdown",
   "metadata": {},
   "source": [
    "---"
   ]
  }
 ],
 "metadata": {
  "kernelspec": {
   "display_name": "Python 3",
   "language": "python",
   "name": "python3"
  },
  "language_info": {
   "codemirror_mode": {
    "name": "ipython",
    "version": 3
   },
   "file_extension": ".py",
   "mimetype": "text/x-python",
   "name": "python",
   "nbconvert_exporter": "python",
   "pygments_lexer": "ipython3",
   "version": "3.8.10"
  }
 },
 "nbformat": 4,
 "nbformat_minor": 4
}
